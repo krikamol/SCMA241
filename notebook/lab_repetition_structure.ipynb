{
 "cells": [
  {
   "cell_type": "markdown",
   "metadata": {},
   "source": [
    "<h1>Lab 3: Repetition Structure</h1>"
   ]
  },
  {
   "cell_type": "markdown",
   "metadata": {},
   "source": [
    "<h3>Problem #0</h3>\n",
    "<p>Write a program that prints out all the even number between 1 and 1000.</p>"
   ]
  },
  {
   "cell_type": "code",
   "execution_count": null,
   "metadata": {
    "collapsed": true
   },
   "outputs": [],
   "source": []
  },
  {
   "cell_type": "markdown",
   "metadata": {},
   "source": [
    "<h3>Problem #1</h3>\n",
    "<p>Write a program that asks the user to enter a positive integer number $N$ and then outputs <br><br> $$1+2+3+\\cdots+N.$$</p>"
   ]
  },
  {
   "cell_type": "code",
   "execution_count": null,
   "metadata": {
    "collapsed": false
   },
   "outputs": [],
   "source": []
  },
  {
   "cell_type": "markdown",
   "metadata": {},
   "source": [
    "<h3>Problem #2:</h3>\n",
    "<p>Write a program that asks the user to enter a non-zero integer $N$ and then outputs \n",
    "<br><br>\n",
    "$$N! = N\\times (N-1)\\times(N-2)\\times\\cdots\\times 1.$$</p>"
   ]
  },
  {
   "cell_type": "code",
   "execution_count": null,
   "metadata": {
    "collapsed": false
   },
   "outputs": [],
   "source": []
  },
  {
   "cell_type": "markdown",
   "metadata": {},
   "source": [
    "<h3>Problem #3:</h3>\n",
    "<p>Write a program that asks the user to enter ten numbers. The program then calculates an average of these numbers.</p>"
   ]
  },
  {
   "cell_type": "code",
   "execution_count": null,
   "metadata": {
    "collapsed": false
   },
   "outputs": [],
   "source": []
  },
  {
   "cell_type": "markdown",
   "metadata": {},
   "source": [
    "<h3>Problem #4:</h3>\n",
    "<p>Write a program that asks the user to enter a positive integer and checks if the entered number is a palindrome number. You must use while loop in the program.</p>"
   ]
  },
  {
   "cell_type": "code",
   "execution_count": null,
   "metadata": {
    "collapsed": false
   },
   "outputs": [],
   "source": []
  },
  {
   "cell_type": "markdown",
   "metadata": {},
   "source": [
    "<h3>Problem #5:</h3>\n",
    "<p>Write a program that prints a sequence of prime numbers between 1 and 100.</p>"
   ]
  },
  {
   "cell_type": "code",
   "execution_count": null,
   "metadata": {
    "collapsed": false
   },
   "outputs": [],
   "source": []
  },
  {
   "cell_type": "markdown",
   "metadata": {},
   "source": [
    "<h3>Problem #6: A Guessing Game</h3>\n",
    "<p>A guessing game : A game starts by generating a secret number in a range of [1,100]. A player starts playing the game by entering a number in a range [1,100]. The program must tell whether the entered number is <b>smaller</b> or <b>larger</b> than the secret number. THe player keeps playing until he/she enters the correct number. When the game ends, the program should print the secret number and the number of guesses entered by the user.\n",
    "<br><br>\n",
    "<b>Extra rules</b>: \n",
    "<ul>\n",
    "<li>The player can only enter a maximum of 10 guesses. Otherwise, he/she is considered losing the game.</li>\n",
    "<li>If the player guesses 5 times or less, he/she gets an extra point.</li>\n",
    "</ul>\n",
    "</p>"
   ]
  },
  {
   "cell_type": "code",
   "execution_count": null,
   "metadata": {
    "collapsed": false
   },
   "outputs": [],
   "source": []
  },
  {
   "cell_type": "markdown",
   "metadata": {},
   "source": [
    "<h3>Extra Problem #1</h3>\n",
    "<p>Write a program that asks the user to enter a positive integer and find a product of its digits. For example, if the user enters 1234, then the product of its digits is $1\\times 2\\times 3\\times 4 = 24$.</p>\n",
    "\n"
   ]
  },
  {
   "cell_type": "code",
   "execution_count": null,
   "metadata": {
    "collapsed": false
   },
   "outputs": [],
   "source": []
  },
  {
   "cell_type": "markdown",
   "metadata": {
    "collapsed": true
   },
   "source": [
    "<h3>Extra Problem #2</h3>\n",
    "<p>Write a program that asks the user to enter two integers. The program that finds a lowest common multiple (LCM) and greatest common divisor (GCD) of these two numbers.</p>"
   ]
  },
  {
   "cell_type": "code",
   "execution_count": null,
   "metadata": {
    "collapsed": true
   },
   "outputs": [],
   "source": []
  }
 ],
 "metadata": {
  "kernelspec": {
   "display_name": "Python 3",
   "language": "python",
   "name": "python3"
  },
  "language_info": {
   "codemirror_mode": {
    "name": "ipython",
    "version": 3
   },
   "file_extension": ".py",
   "mimetype": "text/x-python",
   "name": "python",
   "nbconvert_exporter": "python",
   "pygments_lexer": "ipython3",
   "version": "3.5.2"
  }
 },
 "nbformat": 4,
 "nbformat_minor": 1
}
