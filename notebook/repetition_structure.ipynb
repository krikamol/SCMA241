{
 "cells": [
  {
   "cell_type": "markdown",
   "metadata": {},
   "source": [
    "<h1>Repetition Structure</h1>\n",
    "\n",
    "<strong>Acknowledgement</strong> : the contents of this notebook are partially based on the book <i>\"Starting Out with Python (3rd Edition)\"</i>.\n",
    "\n",
    "<p>A repetition structure causes a statement or set of statements to execute repeatedly. It is often used when we need to perform the same or similar tasks multiple times. A repetition structure saves us from writing the same codes over and over. For example, consider the following program:</p>"
   ]
  },
  {
   "cell_type": "code",
   "execution_count": null,
   "metadata": {
    "collapsed": false
   },
   "outputs": [],
   "source": [
    "# calculate an average of some numbers \n",
    "\n",
    "number1 = float(input('number 1 : '))\n",
    "number2 = float(input('number 2 : '))\n",
    "number3 = float(input('number 3 : '))\n",
    "number4 = float(input('number 4 : '))\n",
    "number5 = float(input('number 5 : ')) # we need to call input function 5 times!\n",
    "\n",
    "average = (number1+number2+number3+number4+number5)/5\n",
    "\n",
    "print('Average = ',average)"
   ]
  },
  {
   "cell_type": "code",
   "execution_count": null,
   "metadata": {
    "collapsed": false
   },
   "outputs": [],
   "source": [
    "# calculate an average of some numbers using the repetition structure\n",
    "\n",
    "num = int(input('How many number? '))\n",
    "\n",
    "average = 0.0\n",
    "for i in range(num):\n",
    "    number = float(input('Number : ')) # here we only write this line only once!\n",
    "    average = average + number\n",
    "    \n",
    "average = average / num\n",
    "print('Average = ',average)"
   ]
  },
  {
   "cell_type": "markdown",
   "metadata": {},
   "source": [
    "<h3>The <i>while</i> Loop : A Condition-Controlled Loop</h3>\n",
    "<p>A condition-controlled loop causes a statement or set of statements to execute repeatedly as long as a condition is true.</p>\n",
    "<br>\n",
    "<strong>while</strong> <i>condition</i>:<br>\n",
    "    &nbsp;&nbsp;&nbsp;&nbsp;&nbsp; statement <br>\n",
    "    &nbsp;&nbsp;&nbsp;&nbsp;&nbsp; statement <br>\n",
    "    &nbsp;&nbsp;&nbsp;&nbsp;&nbsp; etc.\n",
    "    \n",
    "<br>\n",
    "<p>In the code above, the block of statements inside the while loop is executed repeatedly until the condition becomes false. The while loop is a pretest loop.</p>"
   ]
  },
  {
   "cell_type": "code",
   "execution_count": null,
   "metadata": {
    "collapsed": false
   },
   "outputs": [],
   "source": [
    "# while-loop example\n",
    "\n",
    "passwd = input('Password? ')\n",
    "\n",
    "while passwd != 'password':\n",
    "    print('Incorrect password. Please try again.')\n",
    "    passwd = input('Password? ')\n",
    "\n",
    "print('Congratulation! you entered a correct password.')"
   ]
  },
  {
   "cell_type": "code",
   "execution_count": null,
   "metadata": {
    "collapsed": false
   },
   "outputs": [],
   "source": [
    "# an infinite loop\n",
    "\n",
    "while True:\n",
    "    print('hahaha')   # you should avoid an infinite loop at all costs."
   ]
  },
  {
   "cell_type": "markdown",
   "metadata": {},
   "source": [
    "<h3>The for loop : A Count-Controlled Loop</h3>\n",
    "<p>A count-controlled loop iterates a specific number of times.</p>\n",
    "<br>\n",
    "<strong>for</strong> <i>var</i> in <i>[value1,value2,etc]</i>:<br>\n",
    "    &nbsp;&nbsp;&nbsp;&nbsp;&nbsp; statement <br>\n",
    "    &nbsp;&nbsp;&nbsp;&nbsp;&nbsp; statement <br>\n",
    "    &nbsp;&nbsp;&nbsp;&nbsp;&nbsp; etc.\n",
    "<br>\n",
    "\n",
    "In the code above, the block of statements is executed repeatedly and the number of times it gets executed equals to length of the list [value1,value2,etc]. Moreover, at each iteration, the value of the corresponding element in the list will be assigned to the variable var.\n",
    "\n",
    "In Python, a comma-separated sequence of data items that are enclosed in a set of brackets is called a <b>list</b>."
   ]
  },
  {
   "cell_type": "code",
   "execution_count": null,
   "metadata": {
    "collapsed": false
   },
   "outputs": [],
   "source": [
    "# for-loop example\n",
    "\n",
    "for i in [1,2,3,4,5,6,7,8,9,10]:\n",
    "    print(i)"
   ]
  },
  {
   "cell_type": "code",
   "execution_count": null,
   "metadata": {
    "collapsed": false
   },
   "outputs": [],
   "source": [
    "for i in range(1,10,2):\n",
    "    print(i)"
   ]
  },
  {
   "cell_type": "markdown",
   "metadata": {},
   "source": [
    "<p>Using the range function with the for loop (an iterable object contains a sequence of values\n",
    "that can be iterated over)</p>"
   ]
  },
  {
   "cell_type": "code",
   "execution_count": null,
   "metadata": {
    "collapsed": false
   },
   "outputs": [],
   "source": [
    "for i in range(15,0,-2):\n",
    "    print(i)"
   ]
  },
  {
   "cell_type": "markdown",
   "metadata": {},
   "source": [
    "<p>We can use <b>help</b> function to get more information about a particular function.</p>"
   ]
  },
  {
   "cell_type": "code",
   "execution_count": null,
   "metadata": {
    "collapsed": false
   },
   "outputs": [],
   "source": [
    "help(range)"
   ]
  },
  {
   "cell_type": "markdown",
   "metadata": {},
   "source": [
    "<h4>Example : the total sum of numbers</h4>"
   ]
  },
  {
   "cell_type": "code",
   "execution_count": 3,
   "metadata": {
    "collapsed": false
   },
   "outputs": [
    {
     "name": "stdout",
     "output_type": "stream",
     "text": [
      "start: 10\n",
      "stop: 3\n",
      "52\n"
     ]
    }
   ],
   "source": [
    "start = int(input('start: '))\n",
    "stop = int(input('stop: '))\n",
    "\n",
    "# swap the values of start and stop if start is greater than stop\n",
    "if start > stop:\n",
    "    tmp = start\n",
    "    start = stop\n",
    "    stop = tmp\n",
    "\n",
    "sum_value = 0\n",
    "for i in range(start,stop+1):\n",
    "    sum_value += i\n",
    "    \n",
    "print(sum_value)"
   ]
  },
  {
   "cell_type": "markdown",
   "metadata": {},
   "source": [
    "<h3>The augmented assignment operators</h3>"
   ]
  },
  {
   "cell_type": "code",
   "execution_count": 4,
   "metadata": {
    "collapsed": false
   },
   "outputs": [
    {
     "name": "stdout",
     "output_type": "stream",
     "text": [
      "1.0\n",
      "11.0\n",
      "6.0\n",
      "12.0\n"
     ]
    }
   ],
   "source": [
    "number = 2\n",
    "number /= 2 # number = number / 2\n",
    "print(number)\n",
    "\n",
    "number += 10 # number = number + 10\n",
    "print(number)\n",
    "\n",
    "number -= 5 # number = number - 5\n",
    "print(number)\n",
    "\n",
    "number *= 2 # number = number * 2\n",
    "print(number)"
   ]
  },
  {
   "cell_type": "markdown",
   "metadata": {},
   "source": [
    "<h3>Nested Loop</h3>\n",
    "<p>A nested loop refers to a structure of a loop inside another loop.</p>"
   ]
  },
  {
   "cell_type": "code",
   "execution_count": 6,
   "metadata": {
    "collapsed": false
   },
   "outputs": [
    {
     "name": "stdout",
     "output_type": "stream",
     "text": [
      "Width : 10\n",
      "Height : 5\n",
      "**********\n",
      "**********\n",
      "**********\n",
      "**********\n",
      "**********\n"
     ]
    }
   ],
   "source": [
    "# print patterns\n",
    "\n",
    "width = int(input('Width : '))\n",
    "height = int(input('Height : '))\n",
    "\n",
    "for h in range(height):\n",
    "    for w in range(width):\n",
    "        print('*',end='')\n",
    "    print('')"
   ]
  },
  {
   "cell_type": "code",
   "execution_count": 7,
   "metadata": {
    "collapsed": false
   },
   "outputs": [
    {
     "name": "stdout",
     "output_type": "stream",
     "text": [
      "Width : 10\n",
      "*\n",
      "**\n",
      "***\n",
      "****\n",
      "*****\n",
      "******\n",
      "*******\n",
      "********\n",
      "*********\n",
      "**********\n"
     ]
    }
   ],
   "source": [
    "width = int(input('Width : '))\n",
    "\n",
    "for w in range(width):\n",
    "    for i in range(w+1):\n",
    "        print('*',end='')\n",
    "    print('')"
   ]
  },
  {
   "cell_type": "code",
   "execution_count": null,
   "metadata": {
    "collapsed": true
   },
   "outputs": [],
   "source": []
  }
 ],
 "metadata": {
  "kernelspec": {
   "display_name": "Python 3",
   "language": "python",
   "name": "python3"
  },
  "language_info": {
   "codemirror_mode": {
    "name": "ipython",
    "version": 3
   },
   "file_extension": ".py",
   "mimetype": "text/x-python",
   "name": "python",
   "nbconvert_exporter": "python",
   "pygments_lexer": "ipython3",
   "version": "3.5.2"
  }
 },
 "nbformat": 4,
 "nbformat_minor": 0
}
