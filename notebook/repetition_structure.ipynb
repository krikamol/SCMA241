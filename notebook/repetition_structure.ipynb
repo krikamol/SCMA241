{
 "cells": [
  {
   "cell_type": "markdown",
   "metadata": {},
   "source": [
    "<h1>Repetition Structure</h1>\n",
    "\n",
    "<strong>Acknowledgement</strong> : the contents of this notebook are partially based on the book <i>\"Starting Out with Python (3rd Edition)\"</i>.\n",
    "\n",
    "<p>A repetition structure causes a statement or set of statements to execute repeatedly. It is often used when we need to perform the same or similar tasks multiple times. A repetition structure saves us from writing the same codes over and over. For example, consider the following program:</p>"
   ]
  },
  {
   "cell_type": "code",
   "execution_count": 3,
   "metadata": {
    "collapsed": false
   },
   "outputs": [
    {
     "name": "stdout",
     "output_type": "stream",
     "text": [
      "number 1 : 1\n",
      "number 2 : 2\n",
      "number 3 : 3\n",
      "number 4 : 4\n",
      "number 5 : 5\n",
      "Average =  3.0\n"
     ]
    }
   ],
   "source": [
    "# calculate an average of some numbers \n",
    "\n",
    "number1 = float(input('number 1 : '))\n",
    "number2 = float(input('number 2 : '))\n",
    "number3 = float(input('number 3 : '))\n",
    "number4 = float(input('number 4 : '))\n",
    "number5 = float(input('number 5 : ')) # we need to call input function 5 times!\n",
    "\n",
    "average = (number1+number2+number3+number4+number5)/5\n",
    "\n",
    "print('Average = ',average)"
   ]
  },
  {
   "cell_type": "code",
   "execution_count": 3,
   "metadata": {
    "collapsed": false
   },
   "outputs": [
    {
     "name": "stdout",
     "output_type": "stream",
     "text": [
      "How many number? 5\n",
      "Number : 1\n",
      "Number : 2\n",
      "Number : 3\n",
      "Number : 4\n",
      "Number : 5\n",
      "Average =  3.0\n"
     ]
    }
   ],
   "source": [
    "# calculate an average of some numbers using the repetition structure\n",
    "\n",
    "num = int(input('How many number? '))\n",
    "\n",
    "average = 0.0\n",
    "for i in range(num):\n",
    "    number = float(input('Number : ')) # here we only write this line only once!\n",
    "    average = average + number\n",
    "    \n",
    "average = average / num\n",
    "print('Average = ',average)"
   ]
  },
  {
   "cell_type": "markdown",
   "metadata": {},
   "source": [
    "<h3>The <i>while</i> Loop : A Condition-Controlled Loop</h3>\n",
    "<p>A condition-controlled loop causes a statement or set of statements to execute repeatedly as long as a condition is true.</p>\n",
    "<br>\n",
    "<strong>while</strong> <i>condition</i>:<br>\n",
    "    &nbsp;&nbsp;&nbsp;&nbsp;&nbsp; statement <br>\n",
    "    &nbsp;&nbsp;&nbsp;&nbsp;&nbsp; statement <br>\n",
    "    &nbsp;&nbsp;&nbsp;&nbsp;&nbsp; etc.\n",
    "    \n",
    "<br>\n",
    "<p>In the code above, the block of statements inside the while loop is executed repeatedly until the condition becomes false. The while loop is a pretest loop.</p>"
   ]
  },
  {
   "cell_type": "code",
   "execution_count": 8,
   "metadata": {
    "collapsed": false
   },
   "outputs": [
    {
     "name": "stdout",
     "output_type": "stream",
     "text": [
      "Password? 123456\n",
      "Incorrect password. Please try again.\n",
      "Password? abcdef\n",
      "Incorrect password. Please try again.\n",
      "Password? mnhgfdr\n",
      "Incorrect password. Please try again.\n",
      "Password? kjhljkhkjl\n",
      "Incorrect password. Please try again.\n",
      "Password? Password\n",
      "Incorrect password. Please try again.\n",
      "Password? password \n",
      "Incorrect password. Please try again.\n",
      "Password? password\n",
      "Congratulation! you entered a correct password.\n"
     ]
    }
   ],
   "source": [
    "# while-loop example\n",
    "\n",
    "passwd = input('Password? ')\n",
    "\n",
    "while passwd != 'password':\n",
    "    print('Incorrect password. Please try again.')\n",
    "    passwd = input('Password? ')\n",
    "\n",
    "print('Congratulation! you entered a correct password.')"
   ]
  },
  {
   "cell_type": "code",
   "execution_count": 3,
   "metadata": {
    "collapsed": true
   },
   "outputs": [],
   "source": [
    "# an infinite loop\n",
    "\n",
    "while True:\n",
    "    print('hahaha')   # you should avoid an infinite loop at all costs."
   ]
  },
  {
   "cell_type": "markdown",
   "metadata": {},
   "source": [
    "<h3>The for loop : A Count-Controlled Loop</h3>\n",
    "<p>A count-controlled loop iterates a specific number of times.</p>\n",
    "<br>\n",
    "<strong>for</strong> <i>var</i> in <i>[value1,value2,etc]</i>:<br>\n",
    "    &nbsp;&nbsp;&nbsp;&nbsp;&nbsp; statement <br>\n",
    "    &nbsp;&nbsp;&nbsp;&nbsp;&nbsp; statement <br>\n",
    "    &nbsp;&nbsp;&nbsp;&nbsp;&nbsp; etc.\n",
    "<br>\n",
    "\n",
    "In the code above, the block of statements is executed repeatedly and the number of times it gets executed equals to length of the list [value1,value2,etc]. Moreover, at each iteration, the value of the corresponding element in the list will be assigned to the variable var.\n",
    "\n",
    "In Python, a comma-separated sequence of data items that are enclosed in a set of brackets is called a <b>list</b>."
   ]
  },
  {
   "cell_type": "code",
   "execution_count": 4,
   "metadata": {
    "collapsed": false
   },
   "outputs": [
    {
     "name": "stdout",
     "output_type": "stream",
     "text": [
      "1\n",
      "2\n",
      "3\n",
      "4\n",
      "5\n",
      "6\n",
      "7\n",
      "8\n",
      "9\n",
      "10\n"
     ]
    }
   ],
   "source": [
    "# for-loop example\n",
    "\n",
    "for i in [1,2,3,4,5,6,7,8,9,10]:\n",
    "    print(i)"
   ]
  },
  {
   "cell_type": "markdown",
   "metadata": {},
   "source": [
    "<p>Using the range function with the for loop (an iterable object contains a sequence of values\n",
    "that can be iterated over)</p>"
   ]
  },
  {
   "cell_type": "code",
   "execution_count": 5,
   "metadata": {
    "collapsed": false
   },
   "outputs": [
    {
     "name": "stdout",
     "output_type": "stream",
     "text": [
      "15\n",
      "13\n",
      "11\n",
      "9\n",
      "7\n",
      "5\n",
      "3\n",
      "1\n"
     ]
    }
   ],
   "source": [
    "for i in range(15,0,-2):\n",
    "    print(i)"
   ]
  },
  {
   "cell_type": "markdown",
   "metadata": {},
   "source": [
    "<p>We can use <b>help</b> function to get more information about a particular function.</p>"
   ]
  },
  {
   "cell_type": "code",
   "execution_count": 4,
   "metadata": {
    "collapsed": false
   },
   "outputs": [
    {
     "name": "stdout",
     "output_type": "stream",
     "text": [
      "Help on class range in module builtins:\n",
      "\n",
      "class range(object)\n",
      " |  range(stop) -> range object\n",
      " |  range(start, stop[, step]) -> range object\n",
      " |  \n",
      " |  Return an object that produces a sequence of integers from start (inclusive)\n",
      " |  to stop (exclusive) by step.  range(i, j) produces i, i+1, i+2, ..., j-1.\n",
      " |  start defaults to 0, and stop is omitted!  range(4) produces 0, 1, 2, 3.\n",
      " |  These are exactly the valid indices for a list of 4 elements.\n",
      " |  When step is given, it specifies the increment (or decrement).\n",
      " |  \n",
      " |  Methods defined here:\n",
      " |  \n",
      " |  __contains__(self, key, /)\n",
      " |      Return key in self.\n",
      " |  \n",
      " |  __eq__(self, value, /)\n",
      " |      Return self==value.\n",
      " |  \n",
      " |  __ge__(self, value, /)\n",
      " |      Return self>=value.\n",
      " |  \n",
      " |  __getattribute__(self, name, /)\n",
      " |      Return getattr(self, name).\n",
      " |  \n",
      " |  __getitem__(self, key, /)\n",
      " |      Return self[key].\n",
      " |  \n",
      " |  __gt__(self, value, /)\n",
      " |      Return self>value.\n",
      " |  \n",
      " |  __hash__(self, /)\n",
      " |      Return hash(self).\n",
      " |  \n",
      " |  __iter__(self, /)\n",
      " |      Implement iter(self).\n",
      " |  \n",
      " |  __le__(self, value, /)\n",
      " |      Return self<=value.\n",
      " |  \n",
      " |  __len__(self, /)\n",
      " |      Return len(self).\n",
      " |  \n",
      " |  __lt__(self, value, /)\n",
      " |      Return self<value.\n",
      " |  \n",
      " |  __ne__(self, value, /)\n",
      " |      Return self!=value.\n",
      " |  \n",
      " |  __new__(*args, **kwargs) from builtins.type\n",
      " |      Create and return a new object.  See help(type) for accurate signature.\n",
      " |  \n",
      " |  __reduce__(...)\n",
      " |      helper for pickle\n",
      " |  \n",
      " |  __repr__(self, /)\n",
      " |      Return repr(self).\n",
      " |  \n",
      " |  __reversed__(...)\n",
      " |      Return a reverse iterator.\n",
      " |  \n",
      " |  count(...)\n",
      " |      rangeobject.count(value) -> integer -- return number of occurrences of value\n",
      " |  \n",
      " |  index(...)\n",
      " |      rangeobject.index(value, [start, [stop]]) -> integer -- return index of value.\n",
      " |      Raise ValueError if the value is not present.\n",
      " |  \n",
      " |  ----------------------------------------------------------------------\n",
      " |  Data descriptors defined here:\n",
      " |  \n",
      " |  start\n",
      " |  \n",
      " |  step\n",
      " |  \n",
      " |  stop\n",
      "\n"
     ]
    }
   ],
   "source": [
    "help(range)"
   ]
  },
  {
   "cell_type": "markdown",
   "metadata": {},
   "source": [
    "<h4>Example : the total sum of numbers</h4>"
   ]
  },
  {
   "cell_type": "code",
   "execution_count": 7,
   "metadata": {
    "collapsed": false
   },
   "outputs": [
    {
     "name": "stdout",
     "output_type": "stream",
     "text": [
      "start: 30\n",
      "stop: 5\n",
      "455\n"
     ]
    }
   ],
   "source": [
    "start = int(input('start: '))\n",
    "stop = int(input('stop: '))\n",
    "\n",
    "# swap the values of start and stop if start is greater than stop\n",
    "if start > stop:\n",
    "    tmp = start\n",
    "    start = stop\n",
    "    stop = tmp\n",
    "\n",
    "sum_value = 0\n",
    "for i in range(start,stop+1):\n",
    "    sum_value += i\n",
    "    \n",
    "print(sum_value)"
   ]
  },
  {
   "cell_type": "markdown",
   "metadata": {},
   "source": [
    "<h3>The augmented assignment operators</h3>"
   ]
  },
  {
   "cell_type": "code",
   "execution_count": 13,
   "metadata": {
    "collapsed": false
   },
   "outputs": [
    {
     "name": "stdout",
     "output_type": "stream",
     "text": [
      "1.0\n",
      "11.0\n",
      "6.0\n",
      "12.0\n"
     ]
    }
   ],
   "source": [
    "number = 2\n",
    "number /= 2 # number = number / 2\n",
    "print(number)\n",
    "\n",
    "number += 10 # number = number + 10\n",
    "print(number)\n",
    "\n",
    "number -= 5 # number = number - 5\n",
    "print(number)\n",
    "\n",
    "number *= 2 # number = number * 2\n",
    "print(number)"
   ]
  },
  {
   "cell_type": "markdown",
   "metadata": {},
   "source": [
    "<h3>Nested Loop</h3>\n",
    "<p>A nested loop refers to a structure of a loop inside another loop.</p>"
   ]
  },
  {
   "cell_type": "code",
   "execution_count": 16,
   "metadata": {
    "collapsed": false
   },
   "outputs": [
    {
     "name": "stdout",
     "output_type": "stream",
     "text": [
      "Width : 20\n",
      "Height : 10\n",
      "********************\n",
      "********************\n",
      "********************\n",
      "********************\n",
      "********************\n",
      "********************\n",
      "********************\n",
      "********************\n",
      "********************\n",
      "********************\n"
     ]
    }
   ],
   "source": [
    "# print patterns\n",
    "\n",
    "width = int(input('Width : '))\n",
    "height = int(input('Height : '))\n",
    "\n",
    "for h in range(height):\n",
    "    for w in range(width):\n",
    "        print('*',end='')\n",
    "    print('')"
   ]
  },
  {
   "cell_type": "code",
   "execution_count": 18,
   "metadata": {
    "collapsed": false
   },
   "outputs": [
    {
     "name": "stdout",
     "output_type": "stream",
     "text": [
      "Width : 20\n",
      "*\n",
      "**\n",
      "***\n",
      "****\n",
      "*****\n",
      "******\n",
      "*******\n",
      "********\n",
      "*********\n",
      "**********\n",
      "***********\n",
      "************\n",
      "*************\n",
      "**************\n",
      "***************\n",
      "****************\n",
      "*****************\n",
      "******************\n",
      "*******************\n",
      "********************\n"
     ]
    }
   ],
   "source": [
    "width = int(input('Width : '))\n",
    "\n",
    "for w in range(width):\n",
    "    for i in range(w+1):\n",
    "        print('*',end='')\n",
    "    print('')"
   ]
  },
  {
   "cell_type": "code",
   "execution_count": null,
   "metadata": {
    "collapsed": true
   },
   "outputs": [],
   "source": []
  }
 ],
 "metadata": {
  "kernelspec": {
   "display_name": "Python 3",
   "language": "python",
   "name": "python3"
  },
  "language_info": {
   "codemirror_mode": {
    "name": "ipython",
    "version": 3
   },
   "file_extension": ".py",
   "mimetype": "text/x-python",
   "name": "python",
   "nbconvert_exporter": "python",
   "pygments_lexer": "ipython3",
   "version": "3.5.2"
  }
 },
 "nbformat": 4,
 "nbformat_minor": 0
}
