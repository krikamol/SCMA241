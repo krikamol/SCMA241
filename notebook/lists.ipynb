{
 "cells": [
  {
   "cell_type": "markdown",
   "metadata": {},
   "source": [
    "<h1>Lists</h1>\n",
    "\n",
    "<strong>Acknowledgement</strong> : the contents of this notebook are partially based on the book <i>\"Starting Out with Python (3rd Edition)\"</i>.\n",
    "\n",
    "<h3>Sequence</h3>\n",
    "<p>A sequence is an object that holds multiple items of data, stored one after the other. The difference between lists and tuples is that list is <b>mutable</b>, whereas tuple is <b>immutable</b>. The difference between mutable and immutable objects is that the content of mutable objects can be modified inplace, whereas we cannot modify the content of immutable objects once they are defined.</p> "
   ]
  },
  {
   "cell_type": "markdown",
   "metadata": {},
   "source": [
    "<p>Below are two examples of sequences of integers and strings, respectively.</p>"
   ]
  },
  {
   "cell_type": "code",
   "execution_count": 1,
   "metadata": {
    "collapsed": false
   },
   "outputs": [
    {
     "name": "stdout",
     "output_type": "stream",
     "text": [
      "[1, 3, 5, 7, 9, 11]\n",
      "<class 'list'>\n"
     ]
    }
   ],
   "source": [
    "# sequences \n",
    "odd_numbers = [1,3,5,7,9,11]\n",
    "print(odd_numbers)\n",
    "print(type(odd_numbers))"
   ]
  },
  {
   "cell_type": "code",
   "execution_count": 2,
   "metadata": {
    "collapsed": false
   },
   "outputs": [
    {
     "name": "stdout",
     "output_type": "stream",
     "text": [
      "['John', 'Marry', 'Tom', 'Taylor']\n",
      "<class 'list'>\n"
     ]
    }
   ],
   "source": [
    "names = ['John','Marry','Tom','Taylor']\n",
    "print(names)\n",
    "print(type(names))"
   ]
  },
  {
   "cell_type": "markdown",
   "metadata": {},
   "source": [
    "<p>A sequence may contain elements of different types.</p>"
   ]
  },
  {
   "cell_type": "code",
   "execution_count": 3,
   "metadata": {
    "collapsed": false
   },
   "outputs": [
    {
     "name": "stdout",
     "output_type": "stream",
     "text": [
      "['Dominica', 27, 23000]\n",
      "<class 'list'>\n"
     ]
    }
   ],
   "source": [
    "info = ['Dominica', 27, 23000]\n",
    "print(info)\n",
    "print(type(info))"
   ]
  },
  {
   "cell_type": "markdown",
   "metadata": {},
   "source": [
    "<h3>Lists</h3>\n",
    "<p>A list is an object that contains multiple data items. Lists are mutable, i.e., their contents can be changed during a program's execution. Items may be added to them or removed from them.</p>"
   ]
  },
  {
   "cell_type": "markdown",
   "metadata": {},
   "source": [
    "A <b>list()</b> function can be used to generate a list object. Below we generate a list of integer from 0 to 4 using a range() function."
   ]
  },
  {
   "cell_type": "code",
   "execution_count": 5,
   "metadata": {
    "collapsed": false
   },
   "outputs": [
    {
     "name": "stdout",
     "output_type": "stream",
     "text": [
      "[1, 3, 5, 7, 9, 11, 13, 15, 17]\n"
     ]
    }
   ],
   "source": [
    "numbers = list(range(1,19,2))\n",
    "print(numbers)"
   ]
  },
  {
   "cell_type": "markdown",
   "metadata": {},
   "source": [
    "<p>We can generate a list using the <b>repetition operator</b> which makes multiple copies of a list <br><br> \n",
    "\n",
    "Syntax: <i>list * n</i>\n",
    "<br><br>\n",
    "where n is an integer.</p>"
   ]
  },
  {
   "cell_type": "code",
   "execution_count": 8,
   "metadata": {
    "collapsed": false
   },
   "outputs": [
    {
     "name": "stdout",
     "output_type": "stream",
     "text": [
      "[0, 0, 0, 0, 0]\n"
     ]
    }
   ],
   "source": [
    "numbers = [0]*5\n",
    "print(numbers)"
   ]
  },
  {
   "cell_type": "code",
   "execution_count": 9,
   "metadata": {
    "collapsed": false
   },
   "outputs": [
    {
     "name": "stdout",
     "output_type": "stream",
     "text": [
      "[1, 2, 3, 1, 2, 3, 1, 2, 3]\n"
     ]
    }
   ],
   "source": [
    "numbers = [1,2,3]*3\n",
    "print(numbers)"
   ]
  },
  {
   "cell_type": "markdown",
   "metadata": {},
   "source": [
    "<p>List is an iterable object. Hence, we can iterate over a list with the for loop.</p>"
   ]
  },
  {
   "cell_type": "code",
   "execution_count": 10,
   "metadata": {
    "collapsed": false
   },
   "outputs": [
    {
     "name": "stdout",
     "output_type": "stream",
     "text": [
      "3\n",
      "5\n",
      "7\n",
      "9\n",
      "11\n"
     ]
    }
   ],
   "source": [
    "numbers = [3,5,7,9,11]\n",
    "for n in numbers:\n",
    "    print(n)"
   ]
  },
  {
   "cell_type": "markdown",
   "metadata": {},
   "source": [
    "<h4>Indexing</h4>\n",
    "<p>In Python, indexing starts at 0.</p>"
   ]
  },
  {
   "cell_type": "code",
   "execution_count": 11,
   "metadata": {
    "collapsed": false
   },
   "outputs": [
    {
     "name": "stdout",
     "output_type": "stream",
     "text": [
      "10\n",
      "20\n",
      "30\n",
      "40\n"
     ]
    }
   ],
   "source": [
    "my_list = [10,20,30,40]\n",
    "\n",
    "print(my_list[0])\n",
    "print(my_list[1])\n",
    "print(my_list[2])\n",
    "print(my_list[3])"
   ]
  },
  {
   "cell_type": "markdown",
   "metadata": {},
   "source": [
    "<p>A negative number can also be used as an index.</p>"
   ]
  },
  {
   "cell_type": "code",
   "execution_count": 12,
   "metadata": {
    "collapsed": false
   },
   "outputs": [
    {
     "name": "stdout",
     "output_type": "stream",
     "text": [
      "40\n",
      "30\n",
      "20\n",
      "10\n"
     ]
    }
   ],
   "source": [
    "my_list = [10,20,30,40]\n",
    "\n",
    "print(my_list[-1])\n",
    "print(my_list[-2])\n",
    "print(my_list[-3])\n",
    "print(my_list[-4])"
   ]
  },
  {
   "cell_type": "markdown",
   "metadata": {},
   "source": [
    "If the index is out of range, we get an <b>IndexError</b> exception."
   ]
  },
  {
   "cell_type": "code",
   "execution_count": 13,
   "metadata": {
    "collapsed": false
   },
   "outputs": [
    {
     "ename": "IndexError",
     "evalue": "list index out of range",
     "output_type": "error",
     "traceback": [
      "\u001b[0;31m---------------------------------------------------------------------------\u001b[0m",
      "\u001b[0;31mIndexError\u001b[0m                                Traceback (most recent call last)",
      "\u001b[0;32m<ipython-input-13-ec24b95541ce>\u001b[0m in \u001b[0;36m<module>\u001b[0;34m()\u001b[0m\n\u001b[0;32m----> 1\u001b[0;31m \u001b[0mprint\u001b[0m\u001b[0;34m(\u001b[0m\u001b[0mmy_list\u001b[0m\u001b[0;34m[\u001b[0m\u001b[0;36m4\u001b[0m\u001b[0;34m]\u001b[0m\u001b[0;34m)\u001b[0m \u001b[0;31m# index out of range: my_list has 4 elements so the last index is 3.\u001b[0m\u001b[0;34m\u001b[0m\u001b[0m\n\u001b[0m",
      "\u001b[0;31mIndexError\u001b[0m: list index out of range"
     ]
    }
   ],
   "source": [
    "print(my_list[4]) # index out of range: my_list has 4 elements so the last index is 3."
   ]
  },
  {
   "cell_type": "markdown",
   "metadata": {},
   "source": [
    "<p>To get the length of a list, use the <b>len()</b> function. This function generally returns the length of a sequence.</p>"
   ]
  },
  {
   "cell_type": "code",
   "execution_count": 14,
   "metadata": {
    "collapsed": false
   },
   "outputs": [
    {
     "name": "stdout",
     "output_type": "stream",
     "text": [
      "4\n"
     ]
    }
   ],
   "source": [
    "my_list = [10,20,30,40]\n",
    "size = len(my_list)\n",
    "\n",
    "print(size)"
   ]
  },
  {
   "cell_type": "code",
   "execution_count": 15,
   "metadata": {
    "collapsed": false
   },
   "outputs": [
    {
     "name": "stdout",
     "output_type": "stream",
     "text": [
      "10\n",
      "20\n",
      "30\n",
      "40\n"
     ]
    }
   ],
   "source": [
    "my_list = [10,20,30,40]\n",
    "index = 0\n",
    "while index < len(my_list):\n",
    "    print(my_list[index])\n",
    "    index += 1"
   ]
  },
  {
   "cell_type": "markdown",
   "metadata": {},
   "source": [
    "<p>Since lists are mutable, we can modify the elements of the list.</p>"
   ]
  },
  {
   "cell_type": "code",
   "execution_count": 16,
   "metadata": {
    "collapsed": false
   },
   "outputs": [
    {
     "name": "stdout",
     "output_type": "stream",
     "text": [
      "[1, 2, 3, 4, 5]\n",
      "[99, 2, 3, 4, 5]\n",
      "[99, 99, 3, 4, 5]\n",
      "[99, 99, 3, 4, 5]\n"
     ]
    }
   ],
   "source": [
    "numbers = [1,2,3,4,5]\n",
    "print(numbers)\n",
    "\n",
    "# modify the first element of the list\n",
    "numbers[0] = 99\n",
    "print(numbers)\n",
    "\n",
    "new_numbers = numbers\n",
    "\n",
    "new_numbers[1] = 99\n",
    "print(new_numbers)\n",
    "\n",
    "print(numbers)"
   ]
  },
  {
   "cell_type": "code",
   "execution_count": 17,
   "metadata": {
    "collapsed": false
   },
   "outputs": [
    {
     "name": "stdout",
     "output_type": "stream",
     "text": [
      "[99, 99, 99, 99, 99]\n"
     ]
    }
   ],
   "source": [
    "# create a list with 5 elements\n",
    "numbers = [0]*5\n",
    "\n",
    "# fill the list with the value 99\n",
    "index = 0\n",
    "while index < len(numbers):\n",
    "    numbers[index] = 99\n",
    "    index += 1\n",
    "    \n",
    "print(numbers)"
   ]
  },
  {
   "cell_type": "markdown",
   "metadata": {},
   "source": [
    "<p>To concatenate lists, we can use + operator (or augmented assignment +=).</p>"
   ]
  },
  {
   "cell_type": "code",
   "execution_count": 18,
   "metadata": {
    "collapsed": false
   },
   "outputs": [
    {
     "name": "stdout",
     "output_type": "stream",
     "text": [
      "[1, 2, 3, 4, 5, 6, 7, 8]\n"
     ]
    }
   ],
   "source": [
    "list1 = [1,2,3,4]\n",
    "list2 = [5,6,7,8]\n",
    "list3 = list1+list2\n",
    "\n",
    "print(list3)"
   ]
  },
  {
   "cell_type": "code",
   "execution_count": 19,
   "metadata": {
    "collapsed": false
   },
   "outputs": [
    {
     "name": "stdout",
     "output_type": "stream",
     "text": [
      "['one', 'two', 'three', 'four', 'five', 'six']\n"
     ]
    }
   ],
   "source": [
    "list1 = ['one','two','three']\n",
    "list2 = ['four','five','six']\n",
    "list3 = list1 + list2\n",
    "\n",
    "print(list3)"
   ]
  },
  {
   "cell_type": "code",
   "execution_count": 20,
   "metadata": {
    "collapsed": false
   },
   "outputs": [
    {
     "name": "stdout",
     "output_type": "stream",
     "text": [
      "[1, 2, 3, 4, 5, 6, 7, 8]\n"
     ]
    }
   ],
   "source": [
    "list1 = [1,2,3,4]\n",
    "list2 = [5,6,7,8]\n",
    "list1 += list2\n",
    "\n",
    "print(list1)"
   ]
  },
  {
   "cell_type": "markdown",
   "metadata": {},
   "source": [
    "<h4>List Slicing</h4>\n",
    "<p>A slicing expression selects a range of elements from a sequence.<br><br>\n",
    "Syntax: <i>list_name[start : end]</i>\n",
    "</p>"
   ]
  },
  {
   "cell_type": "code",
   "execution_count": 21,
   "metadata": {
    "collapsed": false
   },
   "outputs": [
    {
     "name": "stdout",
     "output_type": "stream",
     "text": [
      "['Tuesday', 'Wednesday', 'Thursday']\n"
     ]
    }
   ],
   "source": [
    "days = ['Sunday','Monday','Tuesday','Wednesday','Thursday','Friday','Saturday']\n",
    "mid_days = days[2:5]\n",
    "\n",
    "print(mid_days)"
   ]
  },
  {
   "cell_type": "code",
   "execution_count": 22,
   "metadata": {
    "collapsed": false
   },
   "outputs": [
    {
     "name": "stdout",
     "output_type": "stream",
     "text": [
      "[1, 2, 3, 4, 5]\n",
      "[1, 2, 3]\n"
     ]
    }
   ],
   "source": [
    "# leave out the start index\n",
    "numbers = [1,2,3,4,5]\n",
    "print(numbers)\n",
    "print(numbers[:3])"
   ]
  },
  {
   "cell_type": "code",
   "execution_count": 23,
   "metadata": {
    "collapsed": false
   },
   "outputs": [
    {
     "name": "stdout",
     "output_type": "stream",
     "text": [
      "[1, 2, 3, 4, 5]\n",
      "[3, 4, 5]\n"
     ]
    }
   ],
   "source": [
    "# leave out the end index\n",
    "numbers = [1,2,3,4,5]\n",
    "print(numbers)\n",
    "print(numbers[2:])"
   ]
  },
  {
   "cell_type": "code",
   "execution_count": 24,
   "metadata": {
    "collapsed": false
   },
   "outputs": [
    {
     "name": "stdout",
     "output_type": "stream",
     "text": [
      "[1, 2, 3, 4, 5]\n",
      "[1, 2, 3, 4, 5]\n"
     ]
    }
   ],
   "source": [
    "# leave out both start and end index\n",
    "numbers = [1,2,3,4,5]\n",
    "print(numbers)\n",
    "print(numbers[:])"
   ]
  },
  {
   "cell_type": "code",
   "execution_count": 25,
   "metadata": {
    "collapsed": false
   },
   "outputs": [
    {
     "name": "stdout",
     "output_type": "stream",
     "text": [
      "[1, 2, 3, 4, 5, 6, 7, 8, 9, 10]\n",
      "[2, 4, 6, 8]\n"
     ]
    }
   ],
   "source": [
    "# slicing with step value\n",
    "numbers = [1,2,3,4,5,6,7,8,9,10]\n",
    "print(numbers)\n",
    "print(numbers[1:8:2])"
   ]
  },
  {
   "cell_type": "code",
   "execution_count": 26,
   "metadata": {
    "collapsed": false
   },
   "outputs": [
    {
     "name": "stdout",
     "output_type": "stream",
     "text": [
      "[1, 2, 3, 4, 5, 6, 7, 8, 9, 10]\n",
      "[6, 7, 8, 9, 10]\n"
     ]
    }
   ],
   "source": [
    "# negative numbers as indexes\n",
    "numbers = [1,2,3,4,5,6,7,8,9,10]\n",
    "print(numbers)\n",
    "print(numbers[-5:])"
   ]
  },
  {
   "cell_type": "markdown",
   "metadata": {},
   "source": [
    "<h4>Finding items in lists with the <i>in</i> operator</h4>\n",
    "<p>You can search for an item in a list using the in operator.</p>"
   ]
  },
  {
   "cell_type": "code",
   "execution_count": 28,
   "metadata": {
    "collapsed": false
   },
   "outputs": [
    {
     "name": "stdout",
     "output_type": "stream",
     "text": [
      "Enter a student's name : Ploy\n",
      "Ploy was found in the list.\n"
     ]
    }
   ],
   "source": [
    "# \"item in list\"? ... \"item not in list\"?\n",
    "\n",
    "# create a list of students\n",
    "student_names = ['Panatda','Vipop','Ploy','Napat']\n",
    "    \n",
    "# get a student name to search for\n",
    "name = input(\"Enter a student's name : \")\n",
    "    \n",
    "# check if the student's name is in the list\n",
    "if name in student_names:\n",
    "    print(name,'was found in the list.')\n",
    "else:\n",
    "    print(name,'was not found in the list.')"
   ]
  },
  {
   "cell_type": "markdown",
   "metadata": {},
   "source": [
    "<h4>List methods and useful build-in functions</h4>"
   ]
  },
  {
   "cell_type": "markdown",
   "metadata": {},
   "source": [
    "<h4>The append method</h4>\n",
    "<p>The append method appends an element to the list.<br><br>\n",
    "\n",
    "Syntax: <i>list.append(new_element)</i>\n",
    "</p>"
   ]
  },
  {
   "cell_type": "code",
   "execution_count": 32,
   "metadata": {
    "collapsed": false
   },
   "outputs": [
    {
     "name": "stdout",
     "output_type": "stream",
     "text": [
      "Enter a number : 1\n",
      "Enter a number : 2\n",
      "Enter a number : 3\n",
      "Enter a number : 4\n",
      "Enter a number : 5\n",
      "[1, 2, 3, 4, 5]\n"
     ]
    }
   ],
   "source": [
    "# create an empty list\n",
    "num_list = []\n",
    "    \n",
    "# get five numbers\n",
    "for i in range(5):\n",
    "    # get a number from the user.\n",
    "    number = int(input('Enter a number : '))\n",
    "        \n",
    "    # append the number to the list\n",
    "    num_list.append(number)\n",
    "    \n",
    "# display the numbers that were entered\n",
    "#for num in num_list:\n",
    "#    print(num)\n",
    "print(num_list)"
   ]
  },
  {
   "cell_type": "markdown",
   "metadata": {},
   "source": [
    "<h4>The index method</h4>\n",
    "<p>The index method returns an index of the specified element in the list. If the element is not found, a ValueError exception is raised.<br><br>\n",
    "Syntax: <i>element_index = list.index(element)</i>\n",
    "</p>"
   ]
  },
  {
   "cell_type": "code",
   "execution_count": 33,
   "metadata": {
    "collapsed": false
   },
   "outputs": [
    {
     "name": "stdout",
     "output_type": "stream",
     "text": [
      "['Atijit', 'Worathep', 'Sasivimol', 'Natcha']\n",
      "Who dropped out? Natcha\n",
      "Who is the new student? Trump\n",
      "['Atijit', 'Worathep', 'Sasivimol', 'Trump']\n"
     ]
    }
   ],
   "source": [
    "# create a list \n",
    "student_names = ['Atijit','Worathep','Sasivimol','Natcha']\n",
    "    \n",
    "# display the list\n",
    "print(student_names)\n",
    "    \n",
    "# get the name of student who dropped out\n",
    "drop_student = input('Who dropped out? ')\n",
    "    \n",
    "try:\n",
    "    # get the index in the list\n",
    "    student_index = student_names.index(drop_student)\n",
    "        \n",
    "    # get the name of new student\n",
    "    new_student = input('Who is the new student? ')\n",
    "        \n",
    "    # replace the student who dropped out with the new student\n",
    "    student_names[student_index] = new_student\n",
    "        \n",
    "    # display the list.\n",
    "    print(student_names)\n",
    "except ValueError:\n",
    "    print('That student was not found in the list.')"
   ]
  },
  {
   "cell_type": "markdown",
   "metadata": {},
   "source": [
    "<h4>The insert method</h4>\n",
    "<p>The insert method inserts a specified element into a list at a desired location.<br><br>\n",
    "\n",
    "Syntax: <i>list.insert(index, element)</i>\n",
    "</p>"
   ]
  },
  {
   "cell_type": "code",
   "execution_count": 34,
   "metadata": {
    "collapsed": false
   },
   "outputs": [
    {
     "name": "stdout",
     "output_type": "stream",
     "text": [
      "['Pisit', 'Warangkana', 'Bundit', 'Pareena']\n",
      "['Kanya', 'Pisit', 'Warangkana', 'Bundit', 'Pareena']\n"
     ]
    }
   ],
   "source": [
    "# create a list \n",
    "student_names = ['Pisit','Warangkana','Bundit','Pareena']\n",
    "    \n",
    "# display the list\n",
    "print(student_names)\n",
    "    \n",
    "# insert a new student at element 0\n",
    "student_names.insert(0,'Kanya')\n",
    "    \n",
    "print(student_names)"
   ]
  },
  {
   "cell_type": "markdown",
   "metadata": {},
   "source": [
    "<h4>The sort method</h4>\n",
    "<p>The sort method sorts elements in the list in an ascending order. The sorting occurs inplace.</p>"
   ]
  },
  {
   "cell_type": "code",
   "execution_count": 35,
   "metadata": {
    "collapsed": false
   },
   "outputs": [
    {
     "name": "stdout",
     "output_type": "stream",
     "text": [
      "Original order :  [9, 1, 0, 2, 8, 6, 7, 4, 5, 3]\n",
      "Sorted order :  [0, 1, 2, 3, 4, 5, 6, 7, 8, 9]\n"
     ]
    }
   ],
   "source": [
    "my_list = [9,1,0,2,8,6,7,4,5,3]\n",
    "print('Original order : ', my_list)\n",
    "my_list.sort()\n",
    "print('Sorted order : ', my_list)"
   ]
  },
  {
   "cell_type": "code",
   "execution_count": 36,
   "metadata": {
    "collapsed": false
   },
   "outputs": [
    {
     "name": "stdout",
     "output_type": "stream",
     "text": [
      "Original order :  ['beta', 'alpha', 'delta', 'gamma']\n",
      "Sorted order :  ['alpha', 'beta', 'delta', 'gamma']\n"
     ]
    }
   ],
   "source": [
    "my_list = ['beta','alpha','delta','gamma']\n",
    "print('Original order : ', my_list)\n",
    "my_list.sort()\n",
    "print('Sorted order : ', my_list)"
   ]
  },
  {
   "cell_type": "markdown",
   "metadata": {},
   "source": [
    "<h4>The remove method</h4>\n",
    "<p>The remove method removes the specified element from the list. If the element is not found, a ValueError exception is raised.<br><br>\n",
    "\n",
    "Syntax: <i>list.remove(element)</i>\n",
    "</p>"
   ]
  },
  {
   "cell_type": "code",
   "execution_count": 37,
   "metadata": {
    "collapsed": false
   },
   "outputs": [
    {
     "name": "stdout",
     "output_type": "stream",
     "text": [
      "['Chaiyanon', 'Kanyarat', 'Nitchakarn', 'Pratipa']\n",
      "Who dropped out? Kanyarat\n",
      "['Chaiyanon', 'Nitchakarn', 'Pratipa']\n"
     ]
    }
   ],
   "source": [
    "# create a list \n",
    "student_names = ['Chaiyanon','Kanyarat','Nitchakarn','Pratipa']\n",
    "    \n",
    "# display the list\n",
    "print(student_names)\n",
    "    \n",
    "# get the name of student who dropped out\n",
    "drop_student = input('Who dropped out? ')\n",
    "    \n",
    "try:\n",
    "    # remove the student's name from the list\n",
    "    student_names.remove(drop_student)\n",
    "        \n",
    "    # display the list.\n",
    "    print(student_names)\n",
    "except ValueError:\n",
    "    print('That student was not found in the list.')"
   ]
  },
  {
   "cell_type": "markdown",
   "metadata": {},
   "source": [
    "<h4>The reverse method</h4>\n",
    "<p>The reverse method reverses the order of elements in the list.</p>"
   ]
  },
  {
   "cell_type": "code",
   "execution_count": 38,
   "metadata": {
    "collapsed": false
   },
   "outputs": [
    {
     "name": "stdout",
     "output_type": "stream",
     "text": [
      "Original order :  [1, 2, 3, 4, 5]\n",
      "Reversed :  [5, 4, 3, 2, 1]\n"
     ]
    }
   ],
   "source": [
    "my_list = [1,2,3,4,5]\n",
    "print('Original order : ', my_list)\n",
    "my_list.reverse()\n",
    "print('Reversed : ', my_list)"
   ]
  },
  {
   "cell_type": "markdown",
   "metadata": {},
   "source": [
    "<p>We can also use the <b>del</b> statement to delete an element from the list.</p>"
   ]
  },
  {
   "cell_type": "code",
   "execution_count": null,
   "metadata": {
    "collapsed": false
   },
   "outputs": [],
   "source": [
    "# the del statement : e.g., del my_list[2] \n",
    "my_list = [1,2,3,4,5]\n",
    "print('Before deletion : ', my_list)\n",
    "\n",
    "del my_list[2]\n",
    "\n",
    "print('After deletion : ', my_list)"
   ]
  },
  {
   "cell_type": "code",
   "execution_count": 39,
   "metadata": {
    "collapsed": false
   },
   "outputs": [
    {
     "name": "stdout",
     "output_type": "stream",
     "text": [
      "The lowest value is 2\n",
      "The highest value is 50\n"
     ]
    }
   ],
   "source": [
    "# the min and max functions\n",
    "my_list = [5,4,3,2,50,40,30]\n",
    "print('The lowest value is', min(my_list))\n",
    "print('The highest value is', max(my_list))"
   ]
  },
  {
   "cell_type": "markdown",
   "metadata": {},
   "source": [
    "<h4>Copying Lists</h4>\n",
    "<p>To make a copy of a list, you must copy the list's element. Below is an incorrect way of copying a list.</p>"
   ]
  },
  {
   "cell_type": "code",
   "execution_count": 40,
   "metadata": {
    "collapsed": false
   },
   "outputs": [
    {
     "name": "stdout",
     "output_type": "stream",
     "text": [
      "[1, 2, 3, 4]\n",
      "[1, 2, 3, 4]\n"
     ]
    }
   ],
   "source": [
    "# reference the same list\n",
    "list1 = [1,2,3,4]\n",
    "list2 = list1\n",
    "print(list1)\n",
    "print(list2)"
   ]
  },
  {
   "cell_type": "code",
   "execution_count": 41,
   "metadata": {
    "collapsed": false
   },
   "outputs": [
    {
     "name": "stdout",
     "output_type": "stream",
     "text": [
      "[99, 2, 3, 4]\n"
     ]
    }
   ],
   "source": [
    "list1[0] = 99\n",
    "print(list1)"
   ]
  },
  {
   "cell_type": "code",
   "execution_count": 42,
   "metadata": {
    "collapsed": false
   },
   "outputs": [
    {
     "name": "stdout",
     "output_type": "stream",
     "text": [
      "[99, 2, 3, 4]\n"
     ]
    }
   ],
   "source": [
    "print(list2)"
   ]
  },
  {
   "cell_type": "code",
   "execution_count": 44,
   "metadata": {
    "collapsed": false
   },
   "outputs": [
    {
     "name": "stdout",
     "output_type": "stream",
     "text": [
      "4488377544 4488377544\n"
     ]
    }
   ],
   "source": [
    "print(id(list1),id(list2))"
   ]
  },
  {
   "cell_type": "markdown",
   "metadata": {},
   "source": [
    "<p>To make a copy of the list, we must copy each element of the list.</p>"
   ]
  },
  {
   "cell_type": "code",
   "execution_count": 45,
   "metadata": {
    "collapsed": false
   },
   "outputs": [
    {
     "name": "stdout",
     "output_type": "stream",
     "text": [
      "[1, 2, 3, 4]\n"
     ]
    }
   ],
   "source": [
    "list1 = [1,2,3,4]\n",
    "list2 = []\n",
    "\n",
    "# copy the elements of list1 to list2\n",
    "for item in list1:\n",
    "    list2.append(item)\n",
    "    \n",
    "print(list2)"
   ]
  },
  {
   "cell_type": "code",
   "execution_count": 46,
   "metadata": {
    "collapsed": false
   },
   "outputs": [
    {
     "name": "stdout",
     "output_type": "stream",
     "text": [
      "4488371144 4488264968\n"
     ]
    }
   ],
   "source": [
    "print(id(list1),id(list2))"
   ]
  },
  {
   "cell_type": "code",
   "execution_count": null,
   "metadata": {
    "collapsed": false
   },
   "outputs": [],
   "source": [
    "# another way to copy list\n",
    "list1 = [1,2,3,4]\n",
    "list2 = []+list1\n",
    "print(list2)"
   ]
  },
  {
   "cell_type": "markdown",
   "metadata": {},
   "source": [
    "<h3>Processing Lists</h3>\n",
    "<p>List is an important data structure in Python. We can process lists in numerous ways using methods and tools introduced earlier. Some examples are given below.</p>"
   ]
  },
  {
   "cell_type": "markdown",
   "metadata": {},
   "source": [
    "<h4>Totalling the values in a list</h4>"
   ]
  },
  {
   "cell_type": "code",
   "execution_count": 47,
   "metadata": {
    "collapsed": false
   },
   "outputs": [
    {
     "name": "stdout",
     "output_type": "stream",
     "text": [
      "The total is 30\n"
     ]
    }
   ],
   "source": [
    "# create a list \n",
    "numbers = [2,4,6,8,10]\n",
    "    \n",
    "# create a variable to use as an accumulator\n",
    "total = 0\n",
    "    \n",
    "# calculate the total of the list elements\n",
    "for value in numbers:\n",
    "    total += value\n",
    "        \n",
    "# display the total of the list elements.\n",
    "print('The total is',total)"
   ]
  },
  {
   "cell_type": "code",
   "execution_count": 48,
   "metadata": {
    "collapsed": false
   },
   "outputs": [
    {
     "name": "stdout",
     "output_type": "stream",
     "text": [
      "The total is 30\n"
     ]
    }
   ],
   "source": [
    "numbers = [2,4,6,8,10]\n",
    "total = sum(numbers)\n",
    "print('The total is', total)"
   ]
  },
  {
   "cell_type": "markdown",
   "metadata": {},
   "source": [
    "<h4>Averaging the values in a list</h4>"
   ]
  },
  {
   "cell_type": "code",
   "execution_count": 49,
   "metadata": {
    "collapsed": false
   },
   "outputs": [
    {
     "name": "stdout",
     "output_type": "stream",
     "text": [
      "The average is 6.0\n"
     ]
    }
   ],
   "source": [
    "# create a list \n",
    "numbers = [2,4,6,8,10]\n",
    "    \n",
    "# create a variable to use as an accumulator\n",
    "total = 0\n",
    "    \n",
    "# calculate the total of the list elements\n",
    "for value in numbers:\n",
    "    total += value\n",
    "    \n",
    "# calculate the average of the elements\n",
    "average = total / len(numbers)\n",
    "    \n",
    "# display the total of the list elements.\n",
    "print('The average is',average)"
   ]
  },
  {
   "cell_type": "code",
   "execution_count": 50,
   "metadata": {
    "collapsed": false
   },
   "outputs": [
    {
     "name": "stdout",
     "output_type": "stream",
     "text": [
      "The average is 6.0\n"
     ]
    }
   ],
   "source": [
    "numbers = [2,4,6,8,10]\n",
    "average = sum(numbers)/len(numbers)\n",
    "print('The average is', average)"
   ]
  },
  {
   "cell_type": "markdown",
   "metadata": {},
   "source": [
    "<h3>Two-Dimensional Lists</h3>\n",
    "<p>A two-dimensional list is a list that has other lists as its elements.</p>"
   ]
  },
  {
   "cell_type": "code",
   "execution_count": 52,
   "metadata": {
    "collapsed": false
   },
   "outputs": [
    {
     "name": "stdout",
     "output_type": "stream",
     "text": [
      "[['one', 'two'], ['three', 'four'], ['five', 'six']]\n"
     ]
    }
   ],
   "source": [
    "# example\n",
    "numbers = [['one','two'],['three','four'],['five','six']]\n",
    "print(numbers)"
   ]
  },
  {
   "cell_type": "code",
   "execution_count": 59,
   "metadata": {
    "collapsed": false
   },
   "outputs": [
    {
     "name": "stdout",
     "output_type": "stream",
     "text": [
      "['one', 'two']\n"
     ]
    }
   ],
   "source": [
    "print(numbers[0])"
   ]
  },
  {
   "cell_type": "code",
   "execution_count": 54,
   "metadata": {
    "collapsed": false
   },
   "outputs": [
    {
     "name": "stdout",
     "output_type": "stream",
     "text": [
      "['three', 'four']\n"
     ]
    }
   ],
   "source": [
    "print(numbers[1])"
   ]
  },
  {
   "cell_type": "code",
   "execution_count": 55,
   "metadata": {
    "collapsed": false
   },
   "outputs": [
    {
     "name": "stdout",
     "output_type": "stream",
     "text": [
      "['five', 'six']\n"
     ]
    }
   ],
   "source": [
    "print(numbers[2])"
   ]
  },
  {
   "cell_type": "code",
   "execution_count": 60,
   "metadata": {
    "collapsed": false
   },
   "outputs": [
    {
     "name": "stdout",
     "output_type": "stream",
     "text": [
      "[[59, 61, 60, 46], [19, 33, 55, 83], [22, 61, 25, 29]]\n"
     ]
    }
   ],
   "source": [
    "# assign random numbers to a two-dimensional list.\n",
    "import random\n",
    "\n",
    "# create a two-dimensional list.\n",
    "values = [[0,0,0,0],\n",
    "          [0,0,0,0],\n",
    "          [0,0,0,0]]\n",
    "    \n",
    "rows = len(values)\n",
    "cols = len(values[0])\n",
    "    \n",
    "# fill the list with random numbers.\n",
    "for r in range(rows):\n",
    "    for c in range(cols):\n",
    "        values[r][c] = random.randint(1,100)\n",
    "            \n",
    "# display the list.\n",
    "print(values)"
   ]
  },
  {
   "cell_type": "markdown",
   "metadata": {
    "collapsed": true
   },
   "source": [
    "<h3>Extra : List Comprehension</h3>\n",
    "<p>List comprehension allows us to contruct lists in a natural and easy way. In mathematics, we can describe lists as follows:<br><br>\n",
    "\\begin{align*}\n",
    "S &= \\{x^2 : x \\text{ in } \\{0,1,\\ldots,9\\}\\} \\\\\n",
    "M &= \\{x : x \\text{ in } S \\text{ and } x \\text{ is even} \\}\n",
    "\\end{align*}\n",
    "<br>\n",
    "Using list comprehension, the above two lists can be constructed as demonstrated below.\n",
    "</p>"
   ]
  },
  {
   "cell_type": "code",
   "execution_count": 61,
   "metadata": {
    "collapsed": false
   },
   "outputs": [
    {
     "name": "stdout",
     "output_type": "stream",
     "text": [
      "[0, 1, 4, 9, 16, 25, 36, 49, 64, 81]\n"
     ]
    }
   ],
   "source": [
    "S = [x**2 for x in range(10)]\n",
    "print(S)"
   ]
  },
  {
   "cell_type": "code",
   "execution_count": 63,
   "metadata": {
    "collapsed": false
   },
   "outputs": [
    {
     "name": "stdout",
     "output_type": "stream",
     "text": [
      "[0, 4, 16, 36, 64]\n"
     ]
    }
   ],
   "source": [
    "M = [x for x in S if x%2 == 0]\n",
    "print(M)"
   ]
  },
  {
   "cell_type": "code",
   "execution_count": 64,
   "metadata": {
    "collapsed": false
   },
   "outputs": [
    {
     "name": "stdout",
     "output_type": "stream",
     "text": [
      "[1, 2, 4, 8, 16, 32, 64, 128, 256, 512, 1024, 2048, 4096]\n"
     ]
    }
   ],
   "source": [
    "my_list2 = [2**i for i in range(13)]\n",
    "print(my_list2)"
   ]
  },
  {
   "cell_type": "markdown",
   "metadata": {},
   "source": [
    "<p>We use list comprehension to find a list of prime numbers in an example below.</p>"
   ]
  },
  {
   "cell_type": "code",
   "execution_count": 65,
   "metadata": {
    "collapsed": false
   },
   "outputs": [
    {
     "name": "stdout",
     "output_type": "stream",
     "text": [
      "[2, 3, 5, 7, 11, 13, 17, 19, 23, 29, 31, 37, 41, 43, 47]\n"
     ]
    }
   ],
   "source": [
    "noprimes = [j for i in range(2, 8) for j in range(i*2, 50, i)]\n",
    "primes = [x for x in range(2, 50) if x not in noprimes]\n",
    "print(primes)"
   ]
  },
  {
   "cell_type": "code",
   "execution_count": null,
   "metadata": {
    "collapsed": true
   },
   "outputs": [],
   "source": []
  }
 ],
 "metadata": {
  "kernelspec": {
   "display_name": "Python 3",
   "language": "python",
   "name": "python3"
  },
  "language_info": {
   "codemirror_mode": {
    "name": "ipython",
    "version": 3
   },
   "file_extension": ".py",
   "mimetype": "text/x-python",
   "name": "python",
   "nbconvert_exporter": "python",
   "pygments_lexer": "ipython3",
   "version": "3.5.2"
  }
 },
 "nbformat": 4,
 "nbformat_minor": 0
}
