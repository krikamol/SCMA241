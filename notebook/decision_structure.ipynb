{
 "cells": [
  {
   "cell_type": "markdown",
   "metadata": {},
   "source": [
    "<h1>Decision Structure and Boolean Logic</h1>\n",
    "\n",
    "<strong>Acknowledgement</strong> : the contents of this notebook are partially based on the book <i>\"Starting Out with Python (3rd Edition)\"</i>.\n",
    "<p>In this class, we will learn how to implement the decision structure in Python using if statement. The decision structure allows us to select which statement(s) to execute depending on the value of the predefined condition. The syntax of the if statement is<br>\n",
    "<br>\n",
    "<b>if</b> <i>boolean expression</i>: <br>\n",
    "&nbsp;&nbsp;&nbsp; statement(s) <br>\n",
    "<br>\n",
    "The block of statements above are executed if and only if the boolean expression following the if statement is true.\n",
    "</p>"
   ]
  },
  {
   "cell_type": "markdown",
   "metadata": {
    "collapsed": true
   },
   "source": [
    "<h3><i>if</i> statement</h3>\n",
    "<p>Examples below demonstrate how we can use if statement to dictate the behavior of the program.</p>"
   ]
  },
  {
   "cell_type": "code",
   "execution_count": 2,
   "metadata": {
    "collapsed": false
   },
   "outputs": [
    {
     "name": "stdout",
     "output_type": "stream",
     "text": [
      "Enter integer number : 5\n",
      "This is an odd number...\n"
     ]
    }
   ],
   "source": [
    "number = int(input('Enter integer number : '))\n",
    "remainder = number % 2\n",
    "\n",
    "if remainder == 0:\n",
    "    print('This is an even number...') # this statement is executed if remainder is zero\n",
    "else:\n",
    "    print('This is an odd number...') # this statement is executed if remainder is *not* zero"
   ]
  },
  {
   "cell_type": "code",
   "execution_count": 6,
   "metadata": {
    "collapsed": false
   },
   "outputs": [
    {
     "name": "stdout",
     "output_type": "stream",
     "text": [
      "x is 2\n"
     ]
    }
   ],
   "source": [
    "x = 2\n",
    "if x > 3:\n",
    "    print('x is greater than 3') # this statement is executed because 4 > 3.\n",
    "    \n",
    "print('x is',x)"
   ]
  },
  {
   "cell_type": "markdown",
   "metadata": {},
   "source": [
    "<h3>Boolean Expressions and Relational Operators</h3>\n",
    "<p>The expressions that are tested by the if statement are called \"<b>Boolean expressions</b>\". A relational operator determines whether a specific relationship exists between two values. Common relational operators are\n",
    "<ul>\n",
    "<li>\"$>$\"  : greater than</li>\n",
    "<li>\"$<$\"  : less than</li>\n",
    "<li>\"$>=$\" : greater than or equal to</li>\n",
    "<li>\"$<=$\" : less than or equal to</li>\n",
    "<li>\"$==$\" : equal to</li>\n",
    "<li>\"$!=$\" : not equal to</li>\n",
    "</ul>\n",
    "</p>"
   ]
  },
  {
   "cell_type": "code",
   "execution_count": 8,
   "metadata": {
    "collapsed": false
   },
   "outputs": [
    {
     "name": "stdout",
     "output_type": "stream",
     "text": [
      "number is 6\n"
     ]
    }
   ],
   "source": [
    "number = 7\n",
    "if (number == 7): # check whether the value of number is equal to 7\n",
    "    print('less than 10...')\n",
    "\n",
    "print('number is',number)"
   ]
  },
  {
   "cell_type": "code",
   "execution_count": 9,
   "metadata": {
    "collapsed": false
   },
   "outputs": [
    {
     "name": "stdout",
     "output_type": "stream",
     "text": [
      "20 is less than 30\n",
      "20 is not equal to 30\n"
     ]
    }
   ],
   "source": [
    "num1 = 20\n",
    "num2 = 30\n",
    "\n",
    "if num1 < num2:\n",
    "    print(num1,'is less than',num2)\n",
    "    \n",
    "if num1 > num2:\n",
    "    print(num1,'is greater than',num2)\n",
    "    \n",
    "if num1 == num2:\n",
    "    print(num1,'is equal to',num2)\n",
    "\n",
    "if num1 != num2:\n",
    "    print(num1,'is not equal to',num2)"
   ]
  },
  {
   "cell_type": "markdown",
   "metadata": {
    "collapsed": true
   },
   "source": [
    "<h3><i>if-else</i> statement</h3>"
   ]
  },
  {
   "cell_type": "code",
   "execution_count": 11,
   "metadata": {
    "collapsed": false
   },
   "outputs": [
    {
     "name": "stdout",
     "output_type": "stream",
     "text": [
      "16 is even number.\n"
     ]
    }
   ],
   "source": [
    "number = 16\n",
    "if (number % 2 == 0):\n",
    "    print(number, 'is even number.')\n",
    "else:\n",
    "    print(number, 'is odd number.')"
   ]
  },
  {
   "cell_type": "code",
   "execution_count": 14,
   "metadata": {
    "collapsed": false
   },
   "outputs": [
    {
     "name": "stdout",
     "output_type": "stream",
     "text": [
      "18 is divisible by 6\n"
     ]
    }
   ],
   "source": [
    "number = 18\n",
    "diviser = 6\n",
    "if (number % diviser == 0):\n",
    "    print(number,'is divisible by',diviser)\n",
    "else:\n",
    "    print(number,'is not divisible by',diviser)"
   ]
  },
  {
   "cell_type": "markdown",
   "metadata": {
    "collapsed": true
   },
   "source": [
    "<h3>Comparing Strings</h3>\n",
    "<p>In Python, we can compare strings as if they are numbers. Recall that we use ASCII numeric codes to store characters in computers. When we use relational operators to compare strings, they are compared character-by-character. If one of the strings in a comparison is shorter than the other, only the corresponding characters will be compared. If the corresponding characters are identical, then the shorter string is considered less than the longer string.</p>"
   ]
  },
  {
   "cell_type": "code",
   "execution_count": 15,
   "metadata": {
    "collapsed": false
   },
   "outputs": [
    {
     "name": "stdout",
     "output_type": "stream",
     "text": [
      "The names are NOT the same.\n"
     ]
    }
   ],
   "source": [
    "name1 = 'NITCHAKARN TIN ONG'\n",
    "name2 = 'NITCHAKARN PHOLDEEYIAM'\n",
    "\n",
    "if name1 == name2:\n",
    "    print('The names are the same.')\n",
    "else:\n",
    "    print('The names are NOT the same.')"
   ]
  },
  {
   "cell_type": "code",
   "execution_count": 16,
   "metadata": {
    "collapsed": false
   },
   "outputs": [
    {
     "name": "stdout",
     "output_type": "stream",
     "text": [
      "NITCHAKARN TIN ONG is greater than or equal to NITCHAKARN PHOLDEEYIAM\n"
     ]
    }
   ],
   "source": [
    "name1 = 'NITCHAKARN TIN ONG'\n",
    "name2 = 'NITCHAKARN PHOLDEEYIAM'\n",
    "\n",
    "if name1 < name2:\n",
    "    print(name1,'is less than',name2)\n",
    "else:\n",
    "    print(name1,'is greater than or equal to',name2)"
   ]
  },
  {
   "cell_type": "code",
   "execution_count": 17,
   "metadata": {
    "collapsed": false
   },
   "outputs": [
    {
     "name": "stdout",
     "output_type": "stream",
     "text": [
      "less than\n"
     ]
    }
   ],
   "source": [
    "str1 = 'abcd'\n",
    "str2 = 'abcde'\n",
    "\n",
    "if str1 < str2:\n",
    "    print('less than')\n",
    "else:\n",
    "    print('greater than or equal')"
   ]
  },
  {
   "cell_type": "code",
   "execution_count": 19,
   "metadata": {
    "collapsed": false
   },
   "outputs": [
    {
     "name": "stdout",
     "output_type": "stream",
     "text": [
      "Password? 123456\n",
      "correct password.\n"
     ]
    }
   ],
   "source": [
    "true_passwd = '123456'\n",
    "input_passwd = input('Password? ')\n",
    "\n",
    "if true_passwd == input_passwd:\n",
    "    print('correct password.')\n",
    "else:\n",
    "    print('incorrect password.')"
   ]
  },
  {
   "cell_type": "code",
   "execution_count": 20,
   "metadata": {
    "collapsed": false
   },
   "outputs": [
    {
     "name": "stdout",
     "output_type": "stream",
     "text": [
      "Mary is greater than Mar\n"
     ]
    }
   ],
   "source": [
    "string1 = 'Mary'\n",
    "string2 = 'Mar'\n",
    "\n",
    "if string1 > string2:\n",
    "    print(string1,'is greater than',string2)"
   ]
  },
  {
   "cell_type": "markdown",
   "metadata": {
    "collapsed": true
   },
   "source": [
    "<h3><i>if-elif-else</i> statement (nested decision structure)</h3>"
   ]
  },
  {
   "cell_type": "code",
   "execution_count": 21,
   "metadata": {
    "collapsed": false
   },
   "outputs": [
    {
     "name": "stdout",
     "output_type": "stream",
     "text": [
      "C\n"
     ]
    }
   ],
   "source": [
    "# grading system\n",
    "# A if 90 < score <= 100\n",
    "# B if 80 < score <= 90\n",
    "# C if 70 < score <= 80\n",
    "# D if 60 < score <= 70\n",
    "# F if score < 60\n",
    "\n",
    "score = 80\n",
    "\n",
    "if score < 60:\n",
    "    print('F')\n",
    "elif score <= 70:\n",
    "    print('D')\n",
    "elif score <= 80:\n",
    "    print('C')\n",
    "elif score <= 90:\n",
    "    print('B')\n",
    "elif score <= 100:\n",
    "    print('A')\n",
    "else:\n",
    "    print('invalid score')\n"
   ]
  },
  {
   "cell_type": "markdown",
   "metadata": {},
   "source": [
    "<h3>Logical Operators</h3>\n",
    "<p>The logical operators such as \"and\" and \"or\" allow you to connect multiple Boolean expression to create a compound expression. <br><br>\n",
    "\n",
    "Common logical operators are\n",
    "<ul>\n",
    "<li>\"<b>and</b>\" : (<i>expr1</i> and <i>expr2</i>) both <i>expr1</i> and <i>expr2</i> must be true for the compound expression to be true.</li>\n",
    "<li>\"<b>or</b>\" : (<i>expr1</i> or <i>expr2</i>) one or both <i>expr1</i> and <i>expr2</i> must be true for the compound expression to be true.</li>\n",
    "<li>\"<b>not</b>\" : (not <i>expr1</i>) the not operator reverses the truth of its operand. If <i>expr1</i> is true, (not expr1) is false, and vice versa.</li>\n",
    "</ul>\n",
    "</p>"
   ]
  },
  {
   "cell_type": "code",
   "execution_count": 22,
   "metadata": {
    "collapsed": false
   },
   "outputs": [
    {
     "name": "stdout",
     "output_type": "stream",
     "text": [
      "101 is outside of the range (0,100)\n"
     ]
    }
   ],
   "source": [
    "# and operator\n",
    "x = 101\n",
    "if (x > 0) and (x < 100):\n",
    "    print(x,'is between 0 and 100.')\n",
    "else:\n",
    "    print(x,'is outside of the range (0,100)')"
   ]
  },
  {
   "cell_type": "code",
   "execution_count": 23,
   "metadata": {
    "collapsed": false
   },
   "outputs": [
    {
     "name": "stdout",
     "output_type": "stream",
     "text": [
      "155 is inside of the range.\n"
     ]
    }
   ],
   "source": [
    "# and operator\n",
    "x = 155\n",
    "if (x < 0) and (x > 100):\n",
    "    print(x,'is outside of the range.')\n",
    "else:\n",
    "    print(x,'is inside of the range.')"
   ]
  },
  {
   "cell_type": "code",
   "execution_count": 25,
   "metadata": {
    "collapsed": false
   },
   "outputs": [
    {
     "name": "stdout",
     "output_type": "stream",
     "text": [
      "Temperature is not more than 50.\n"
     ]
    }
   ],
   "source": [
    "# not operator\n",
    "temperature = 45\n",
    "if not (temperature > 50):\n",
    "    print('Temperature is not more than 50.')"
   ]
  },
  {
   "cell_type": "code",
   "execution_count": 30,
   "metadata": {
    "collapsed": false
   },
   "outputs": [
    {
     "data": {
      "text/plain": [
       "False"
      ]
     },
     "execution_count": 30,
     "metadata": {},
     "output_type": "execute_result"
    }
   ],
   "source": [
    "not(True)"
   ]
  },
  {
   "cell_type": "markdown",
   "metadata": {},
   "source": [
    "<h3>Boolean Variables</h3>\n",
    "<p>A Boolean variable can reference one of two values: <b>True</b> or <b>False</b>.</p>"
   ]
  },
  {
   "cell_type": "code",
   "execution_count": 31,
   "metadata": {
    "collapsed": false
   },
   "outputs": [
    {
     "name": "stdout",
     "output_type": "stream",
     "text": [
      "<class 'bool'>\n"
     ]
    }
   ],
   "source": [
    "is_even = True\n",
    "print(type(is_even))"
   ]
  },
  {
   "cell_type": "code",
   "execution_count": 32,
   "metadata": {
    "collapsed": false
   },
   "outputs": [
    {
     "name": "stdout",
     "output_type": "stream",
     "text": [
      "True\n",
      "False\n",
      "True\n",
      "False\n",
      "True\n",
      "False\n"
     ]
    }
   ],
   "source": [
    "x = True\n",
    "y = False\n",
    "\n",
    "print(x)\n",
    "print(not x)\n",
    "print(not not x)\n",
    "print(y)\n",
    "print(not y)\n",
    "print(not not y)"
   ]
  },
  {
   "cell_type": "code",
   "execution_count": 33,
   "metadata": {
    "collapsed": false
   },
   "outputs": [
    {
     "name": "stdout",
     "output_type": "stream",
     "text": [
      "False\n"
     ]
    }
   ],
   "source": [
    "print(x and y)"
   ]
  },
  {
   "cell_type": "code",
   "execution_count": 34,
   "metadata": {
    "collapsed": false
   },
   "outputs": [
    {
     "name": "stdout",
     "output_type": "stream",
     "text": [
      "True\n"
     ]
    }
   ],
   "source": [
    "print(x or y)"
   ]
  },
  {
   "cell_type": "code",
   "execution_count": 35,
   "metadata": {
    "collapsed": false
   },
   "outputs": [
    {
     "name": "stdout",
     "output_type": "stream",
     "text": [
      "13 is an odd number.\n"
     ]
    }
   ],
   "source": [
    "# check if the number is an even number\n",
    "number = 13\n",
    "is_even = (number % 2 == 0)\n",
    "\n",
    "if is_even:\n",
    "    print(number,'is an even number.')\n",
    "else:\n",
    "    print(number,'is an odd number.')"
   ]
  },
  {
   "cell_type": "code",
   "execution_count": null,
   "metadata": {
    "collapsed": true
   },
   "outputs": [],
   "source": []
  }
 ],
 "metadata": {
  "kernelspec": {
   "display_name": "Python 3",
   "language": "python",
   "name": "python3"
  },
  "language_info": {
   "codemirror_mode": {
    "name": "ipython",
    "version": 3
   },
   "file_extension": ".py",
   "mimetype": "text/x-python",
   "name": "python",
   "nbconvert_exporter": "python",
   "pygments_lexer": "ipython3",
   "version": "3.5.2"
  }
 },
 "nbformat": 4,
 "nbformat_minor": 0
}
