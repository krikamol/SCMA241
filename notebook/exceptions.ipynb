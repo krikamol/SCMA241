{
 "cells": [
  {
   "cell_type": "markdown",
   "metadata": {},
   "source": [
    "<h1>Exceptions</h1>\n",
    "\n",
    "<strong>Acknowledgement</strong> : the contents of this notebook are partially based on the book <i>\"Starting Out with Python (3rd Edition)\"</i>.\n",
    "\n",
    "<p>An exception is an error that occurs while a program is running, causing the program to abruptly halt. You can use the try/except statement to gracefully handle exceptions.</p>"
   ]
  },
  {
   "cell_type": "code",
   "execution_count": 7,
   "metadata": {
    "collapsed": false
   },
   "outputs": [
    {
     "name": "stdout",
     "output_type": "stream",
     "text": [
      "Enter a number : 1\n",
      "Enter another number : 0\n"
     ]
    },
    {
     "ename": "ZeroDivisionError",
     "evalue": "division by zero",
     "output_type": "error",
     "traceback": [
      "\u001b[0;31m---------------------------------------------------------------------------\u001b[0m",
      "\u001b[0;31mZeroDivisionError\u001b[0m                         Traceback (most recent call last)",
      "\u001b[0;32m<ipython-input-7-b0223d636857>\u001b[0m in \u001b[0;36m<module>\u001b[0;34m()\u001b[0m\n\u001b[1;32m     11\u001b[0m \u001b[0;34m\u001b[0m\u001b[0m\n\u001b[1;32m     12\u001b[0m \u001b[0;31m# call the main function\u001b[0m\u001b[0;34m\u001b[0m\u001b[0;34m\u001b[0m\u001b[0m\n\u001b[0;32m---> 13\u001b[0;31m \u001b[0mmain\u001b[0m\u001b[0;34m(\u001b[0m\u001b[0;34m)\u001b[0m\u001b[0;34m\u001b[0m\u001b[0m\n\u001b[0m",
      "\u001b[0;32m<ipython-input-7-b0223d636857>\u001b[0m in \u001b[0;36mmain\u001b[0;34m()\u001b[0m\n\u001b[1;32m      7\u001b[0m \u001b[0;34m\u001b[0m\u001b[0m\n\u001b[1;32m      8\u001b[0m     \u001b[0;31m# divide num1 by num2 and display the result\u001b[0m\u001b[0;34m\u001b[0m\u001b[0;34m\u001b[0m\u001b[0m\n\u001b[0;32m----> 9\u001b[0;31m     \u001b[0mresult\u001b[0m \u001b[0;34m=\u001b[0m \u001b[0mnum1\u001b[0m \u001b[0;34m/\u001b[0m \u001b[0mnum2\u001b[0m\u001b[0;34m\u001b[0m\u001b[0m\n\u001b[0m\u001b[1;32m     10\u001b[0m     \u001b[0mprint\u001b[0m\u001b[0;34m(\u001b[0m\u001b[0mnum1\u001b[0m\u001b[0;34m,\u001b[0m\u001b[0;34m'divided by'\u001b[0m\u001b[0;34m,\u001b[0m\u001b[0mnum2\u001b[0m\u001b[0;34m,\u001b[0m\u001b[0;34m'is'\u001b[0m\u001b[0;34m,\u001b[0m\u001b[0mresult\u001b[0m\u001b[0;34m)\u001b[0m\u001b[0;34m\u001b[0m\u001b[0m\n\u001b[1;32m     11\u001b[0m \u001b[0;34m\u001b[0m\u001b[0m\n",
      "\u001b[0;31mZeroDivisionError\u001b[0m: division by zero"
     ]
    }
   ],
   "source": [
    "# This program divides a number by another number\n",
    "\n",
    "def main():\n",
    "    # get two numbers\n",
    "    num1 = int(input('Enter a number : '))\n",
    "    num2 = int(input('Enter another number : '))\n",
    "    \n",
    "    # divide num1 by num2 and display the result\n",
    "    result = num1 / num2\n",
    "    print(num1,'divided by',num2,'is',result)\n",
    "    \n",
    "# call the main function\n",
    "main()"
   ]
  },
  {
   "cell_type": "code",
   "execution_count": 6,
   "metadata": {
    "collapsed": false
   },
   "outputs": [
    {
     "name": "stdout",
     "output_type": "stream",
     "text": [
      "Enter a number : 1\n",
      "Enter another number : 0\n",
      "Cannot divided by zero.\n"
     ]
    }
   ],
   "source": [
    "# preventing division by zero using an if statement\n",
    "\n",
    "def main():\n",
    "    # get two numbers\n",
    "    num1 = int(input('Enter a number : '))\n",
    "    num2 = int(input('Enter another number : '))\n",
    "    \n",
    "    # divide num1 by num2 and display the result\n",
    "    if num2 != 0:\n",
    "        result = num1 / num2\n",
    "        print(num1,'divided by',num2,'is',result)\n",
    "    else:\n",
    "        print('Cannot divided by zero.')\n",
    "        \n",
    "# call the main function\n",
    "main()"
   ]
  },
  {
   "cell_type": "code",
   "execution_count": 8,
   "metadata": {
    "collapsed": false
   },
   "outputs": [
    {
     "name": "stdout",
     "output_type": "stream",
     "text": [
      "Enter an integer : abc\n"
     ]
    },
    {
     "ename": "ValueError",
     "evalue": "invalid literal for int() with base 10: 'abc'",
     "output_type": "error",
     "traceback": [
      "\u001b[0;31m---------------------------------------------------------------------------\u001b[0m",
      "\u001b[0;31mValueError\u001b[0m                                Traceback (most recent call last)",
      "\u001b[0;32m<ipython-input-8-e689d2df75f2>\u001b[0m in \u001b[0;36m<module>\u001b[0;34m()\u001b[0m\n\u001b[1;32m     12\u001b[0m \u001b[0;34m\u001b[0m\u001b[0m\n\u001b[1;32m     13\u001b[0m \u001b[0;31m# call the main function\u001b[0m\u001b[0;34m\u001b[0m\u001b[0;34m\u001b[0m\u001b[0m\n\u001b[0;32m---> 14\u001b[0;31m \u001b[0mmain\u001b[0m\u001b[0;34m(\u001b[0m\u001b[0;34m)\u001b[0m\u001b[0;34m\u001b[0m\u001b[0m\n\u001b[0m",
      "\u001b[0;32m<ipython-input-8-e689d2df75f2>\u001b[0m in \u001b[0;36mmain\u001b[0;34m()\u001b[0m\n\u001b[1;32m      3\u001b[0m \u001b[0;32mdef\u001b[0m \u001b[0mmain\u001b[0m\u001b[0;34m(\u001b[0m\u001b[0;34m)\u001b[0m\u001b[0;34m:\u001b[0m\u001b[0;34m\u001b[0m\u001b[0m\n\u001b[1;32m      4\u001b[0m     \u001b[0;31m# get the numbers\u001b[0m\u001b[0;34m\u001b[0m\u001b[0;34m\u001b[0m\u001b[0m\n\u001b[0;32m----> 5\u001b[0;31m     \u001b[0mnum1\u001b[0m \u001b[0;34m=\u001b[0m \u001b[0mint\u001b[0m\u001b[0;34m(\u001b[0m\u001b[0minput\u001b[0m\u001b[0;34m(\u001b[0m\u001b[0;34m'Enter an integer : '\u001b[0m\u001b[0;34m)\u001b[0m\u001b[0;34m)\u001b[0m\u001b[0;34m\u001b[0m\u001b[0m\n\u001b[0m\u001b[1;32m      6\u001b[0m \u001b[0;34m\u001b[0m\u001b[0m\n\u001b[1;32m      7\u001b[0m     \u001b[0;31m# even or odd\u001b[0m\u001b[0;34m\u001b[0m\u001b[0;34m\u001b[0m\u001b[0m\n",
      "\u001b[0;31mValueError\u001b[0m: invalid literal for int() with base 10: 'abc'"
     ]
    }
   ],
   "source": [
    "# some exceptions cannot be avoided\n",
    "\n",
    "def main():\n",
    "    # get the numbers\n",
    "    num1 = int(input('Enter an integer : '))\n",
    "    \n",
    "    # even or odd\n",
    "    if num1 % 2 == 0:\n",
    "        print(num1,'is an even number.')\n",
    "    else:\n",
    "        print(num1,'is an odd number.')\n",
    "\n",
    "# call the main function\n",
    "main()"
   ]
  },
  {
   "cell_type": "markdown",
   "metadata": {
    "collapsed": true
   },
   "source": [
    "<h3>try/except statement</h3>\n",
    "<p>\n",
    "try: <br>\n",
    "&nbsp;&nbsp;&nbsp;&nbsp; statement <br>\n",
    "&nbsp;&nbsp;&nbsp;&nbsp; statement <br>\n",
    "&nbsp;&nbsp;&nbsp;&nbsp; etc. <br>\n",
    "except <i>ExceptionName</i>: <br>\n",
    "&nbsp;&nbsp;&nbsp;&nbsp; statement <br>\n",
    "&nbsp;&nbsp;&nbsp;&nbsp; statement <br>\n",
    "&nbsp;&nbsp;&nbsp;&nbsp; etc. <br>\n",
    "</p>"
   ]
  },
  {
   "cell_type": "code",
   "execution_count": 10,
   "metadata": {
    "collapsed": false
   },
   "outputs": [
    {
     "name": "stdout",
     "output_type": "stream",
     "text": [
      "Enter an integer : abc\n",
      "ERROR: the input must be an integer.\n"
     ]
    }
   ],
   "source": [
    "# handling exception\n",
    "def main():\n",
    "    \n",
    "    try:\n",
    "        # get the numbers\n",
    "        num1 = int(input('Enter an integer : '))\n",
    "    \n",
    "        # even or odd\n",
    "        if num1 % 2 == 0:\n",
    "            print(num1,'is an even number.')\n",
    "        else:\n",
    "            print(num1,'is an odd number.')\n",
    "\n",
    "    except ValueError:\n",
    "        print('ERROR: the input must be an integer.')\n",
    "        \n",
    "# call the main function\n",
    "main()"
   ]
  },
  {
   "cell_type": "code",
   "execution_count": 12,
   "metadata": {
    "collapsed": false,
    "scrolled": true
   },
   "outputs": [
    {
     "name": "stdout",
     "output_type": "stream",
     "text": [
      "Enter a filename : customer_record.txt\n"
     ]
    },
    {
     "ename": "FileNotFoundError",
     "evalue": "[Errno 2] No such file or directory: 'customer_record.txt'",
     "output_type": "error",
     "traceback": [
      "\u001b[0;31m---------------------------------------------------------------------------\u001b[0m",
      "\u001b[0;31mFileNotFoundError\u001b[0m                         Traceback (most recent call last)",
      "\u001b[0;32m<ipython-input-12-a61e998c4de3>\u001b[0m in \u001b[0;36m<module>\u001b[0;34m()\u001b[0m\n\u001b[1;32m     17\u001b[0m \u001b[0;34m\u001b[0m\u001b[0m\n\u001b[1;32m     18\u001b[0m \u001b[0;31m# call the main function\u001b[0m\u001b[0;34m\u001b[0m\u001b[0;34m\u001b[0m\u001b[0m\n\u001b[0;32m---> 19\u001b[0;31m \u001b[0mmain\u001b[0m\u001b[0;34m(\u001b[0m\u001b[0;34m)\u001b[0m\u001b[0;34m\u001b[0m\u001b[0m\n\u001b[0m",
      "\u001b[0;32m<ipython-input-12-a61e998c4de3>\u001b[0m in \u001b[0;36mmain\u001b[0;34m()\u001b[0m\n\u001b[1;32m      5\u001b[0m \u001b[0;34m\u001b[0m\u001b[0m\n\u001b[1;32m      6\u001b[0m     \u001b[0;31m# open the file\u001b[0m\u001b[0;34m\u001b[0m\u001b[0;34m\u001b[0m\u001b[0m\n\u001b[0;32m----> 7\u001b[0;31m     \u001b[0minfile\u001b[0m \u001b[0;34m=\u001b[0m \u001b[0mopen\u001b[0m\u001b[0;34m(\u001b[0m\u001b[0mfilename\u001b[0m\u001b[0;34m,\u001b[0m\u001b[0;34m'r'\u001b[0m\u001b[0;34m)\u001b[0m\u001b[0;34m\u001b[0m\u001b[0m\n\u001b[0m\u001b[1;32m      8\u001b[0m \u001b[0;34m\u001b[0m\u001b[0m\n\u001b[1;32m      9\u001b[0m     \u001b[0;31m# read the file's contents\u001b[0m\u001b[0;34m\u001b[0m\u001b[0;34m\u001b[0m\u001b[0m\n",
      "\u001b[0;31mFileNotFoundError\u001b[0m: [Errno 2] No such file or directory: 'customer_record.txt'"
     ]
    }
   ],
   "source": [
    "# this program displays the contents of a file\n",
    "def main():\n",
    "    # get the name of a file\n",
    "    filename = input('Enter a filename : ')\n",
    "    \n",
    "    # open the file\n",
    "    infile = open(filename,'r')\n",
    "    \n",
    "    # read the file's contents\n",
    "    contents = infile.read()\n",
    "    \n",
    "    # display the file's contents\n",
    "    print(contents)\n",
    "    \n",
    "    # close the file\n",
    "    infile.close()\n",
    "    \n",
    "# call the main function\n",
    "main()"
   ]
  },
  {
   "cell_type": "code",
   "execution_count": 14,
   "metadata": {
    "collapsed": false
   },
   "outputs": [
    {
     "name": "stdout",
     "output_type": "stream",
     "text": [
      "Enter a filename : customer_record.txt\n",
      "The file customer_record.txt cannot be found.\n"
     ]
    }
   ],
   "source": [
    "# this program displays the contents of a file (with try/except)\n",
    "def main():\n",
    "    # get the name of a file\n",
    "    filename = input('Enter a filename : ')\n",
    "    \n",
    "    try:\n",
    "    \n",
    "        # open the file\n",
    "        infile = open(filename,'r')\n",
    "    \n",
    "        # read the file's contents\n",
    "        contents = infile.read()\n",
    "    \n",
    "        # display the file's contents\n",
    "        print(contents)\n",
    "    \n",
    "        # close the file\n",
    "        infile.close()\n",
    "    \n",
    "    except FileNotFoundError:\n",
    "        print('The file',filename,'cannot be found.')\n",
    "    \n",
    "# call the main function\n",
    "main()"
   ]
  },
  {
   "cell_type": "markdown",
   "metadata": {},
   "source": [
    "<h3>Handling Multiple Exceptions</h3>"
   ]
  },
  {
   "cell_type": "code",
   "execution_count": 16,
   "metadata": {
    "collapsed": false
   },
   "outputs": [
    {
     "name": "stdout",
     "output_type": "stream",
     "text": [
      "The file sales_data.txt cannot be found.\n"
     ]
    }
   ],
   "source": [
    "# this program displays the total of the amounts in the file\n",
    "def main():\n",
    "    # initialize the accumulator\n",
    "    total = 0.0\n",
    "    \n",
    "    try:\n",
    "        # open the sales_data.txt file\n",
    "        infile = open('sale_data.txt','r')\n",
    "        \n",
    "        # read the values from the file and accumulate them\n",
    "        for line in infile:\n",
    "            amount = float(line)\n",
    "            total += amount\n",
    "        \n",
    "        # close the file\n",
    "        infile.close()\n",
    "        \n",
    "        # print the total\n",
    "        print(format(total,',.2f'))\n",
    "        \n",
    "    except FileNotFoundError:\n",
    "        print('The file sales_data.txt cannot be found.')\n",
    "        \n",
    "    except ValueError:\n",
    "        print('Non-numeric data found in the file.')\n",
    "        \n",
    "    except: # catch all other exceptions\n",
    "        print('An error occured.')\n",
    "        \n",
    "# call the main function\n",
    "main()"
   ]
  },
  {
   "cell_type": "markdown",
   "metadata": {},
   "source": [
    "<h3>Display an Exception's Default Error Message</h3>\n",
    "<p>except ValueError as err:</p>"
   ]
  },
  {
   "cell_type": "code",
   "execution_count": 18,
   "metadata": {
    "collapsed": false
   },
   "outputs": [
    {
     "name": "stdout",
     "output_type": "stream",
     "text": [
      "[Errno 2] No such file or directory: 'sale_data.txt'\n"
     ]
    }
   ],
   "source": [
    "# this program displays the total of the amounts in the file\n",
    "def main():\n",
    "    # initialize the accumulator\n",
    "    total = 0.0\n",
    "    \n",
    "    try:\n",
    "        # open the sales_data.txt file\n",
    "        infile = open('sale_data.txt','r')\n",
    "        \n",
    "        # read the values from the file and accumulate them\n",
    "        for line in infile:\n",
    "            amount = float(line)\n",
    "            total += amount\n",
    "        \n",
    "        # close the file\n",
    "        infile.close()\n",
    "        \n",
    "        # print the total\n",
    "        print(format(total,',.2f'))\n",
    "        \n",
    "    except FileNotFoundError as err:\n",
    "        print(err)\n",
    "        \n",
    "    except ValueError as err:\n",
    "        print(err)\n",
    "        \n",
    "    except: # catch all other exceptions\n",
    "        print('An error occured.')\n",
    "        \n",
    "# call the main function\n",
    "main()"
   ]
  },
  {
   "cell_type": "code",
   "execution_count": null,
   "metadata": {
    "collapsed": true
   },
   "outputs": [],
   "source": [
    "# this program displays the total of the amounts in the file\n",
    "def main():\n",
    "    # initialize the accumulator\n",
    "    total = 0.0\n",
    "    \n",
    "    try:\n",
    "        # open the sales_data.txt file\n",
    "        infile = open('sales_data.txt','r')\n",
    "        \n",
    "        # read the values from the file and accumulate them\n",
    "        for line in infile:\n",
    "            amount = float(line)\n",
    "            total += amount\n",
    "        \n",
    "        # close the file\n",
    "        infile.close()\n",
    "        \n",
    "        # print the total\n",
    "        print(format(total,',.2f'))\n",
    "        \n",
    "    except Exception as err: # catch all exceptions\n",
    "        print(err)\n",
    "        \n",
    "# call the main function\n",
    "main()"
   ]
  },
  {
   "cell_type": "markdown",
   "metadata": {},
   "source": [
    "<h3>The else clause</h3>\n",
    "<p>\n",
    "try: <br>\n",
    "&nbsp;&nbsp;&nbsp;&nbsp; statement <br>\n",
    "&nbsp;&nbsp;&nbsp;&nbsp; statement <br>\n",
    "&nbsp;&nbsp;&nbsp;&nbsp; etc. <br>\n",
    "except <i>ExceptionName</i>: <br>\n",
    "&nbsp;&nbsp;&nbsp;&nbsp; statement <br>\n",
    "&nbsp;&nbsp;&nbsp;&nbsp; statement <br>\n",
    "&nbsp;&nbsp;&nbsp;&nbsp; etc. <br>\n",
    "else: <br>\n",
    "&nbsp;&nbsp;&nbsp;&nbsp; statement <br>\n",
    "&nbsp;&nbsp;&nbsp;&nbsp; statement <br>\n",
    "&nbsp;&nbsp;&nbsp;&nbsp; etc. <br>\n",
    "<br>\n",
    "The statements in the else suite are executed after the statements in the try suite, only if no exceptions were raised. If an exception is raised, the else suite is skipped.\n",
    "</p>"
   ]
  },
  {
   "cell_type": "markdown",
   "metadata": {},
   "source": [
    "<h3>The finally clause</h3>\n",
    "<p>\n",
    "try: <br>\n",
    "&nbsp;&nbsp;&nbsp;&nbsp; statement <br>\n",
    "&nbsp;&nbsp;&nbsp;&nbsp; statement <br>\n",
    "&nbsp;&nbsp;&nbsp;&nbsp; etc. <br>\n",
    "except <i>ExceptionName</i>: <br>\n",
    "&nbsp;&nbsp;&nbsp;&nbsp; statement <br>\n",
    "&nbsp;&nbsp;&nbsp;&nbsp; statement <br>\n",
    "&nbsp;&nbsp;&nbsp;&nbsp; etc. <br>\n",
    "finally: <br>\n",
    "&nbsp;&nbsp;&nbsp;&nbsp; statement <br>\n",
    "&nbsp;&nbsp;&nbsp;&nbsp; statement <br>\n",
    "&nbsp;&nbsp;&nbsp;&nbsp; etc. <br>\n",
    "<br>\n",
    "The statements in the finally suite are always executed after the try suite has executed and after any exception handlers have executed. The statements in the finally suite execute whether an exception occurs or not.\n",
    "</p>"
   ]
  },
  {
   "cell_type": "code",
   "execution_count": null,
   "metadata": {
    "collapsed": true
   },
   "outputs": [],
   "source": []
  },
  {
   "cell_type": "code",
   "execution_count": null,
   "metadata": {
    "collapsed": true
   },
   "outputs": [],
   "source": []
  },
  {
   "cell_type": "code",
   "execution_count": null,
   "metadata": {
    "collapsed": true
   },
   "outputs": [],
   "source": []
  }
 ],
 "metadata": {
  "kernelspec": {
   "display_name": "Python 3",
   "language": "python",
   "name": "python3"
  },
  "language_info": {
   "codemirror_mode": {
    "name": "ipython",
    "version": 3
   },
   "file_extension": ".py",
   "mimetype": "text/x-python",
   "name": "python",
   "nbconvert_exporter": "python",
   "pygments_lexer": "ipython3",
   "version": "3.5.2"
  }
 },
 "nbformat": 4,
 "nbformat_minor": 1
}
