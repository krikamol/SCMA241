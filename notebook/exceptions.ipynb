{
 "cells": [
  {
   "cell_type": "markdown",
   "metadata": {},
   "source": [
    "<h1>Exceptions</h1>\n",
    "\n",
    "<strong>Acknowledgement</strong> : the contents of this notebook are partially based on the book <i>\"Starting Out with Python (3rd Edition)\"</i>.\n",
    "\n",
    "<p>An exception is an error that occurs while a program is running, causing the program to abruptly halt. You can use the try/except statement to gracefully handle exceptions.</p>\n",
    "<br>\n",
    "<p>This program divides a number by another number.</p>"
   ]
  },
  {
   "cell_type": "code",
   "execution_count": 3,
   "metadata": {
    "collapsed": false
   },
   "outputs": [
    {
     "name": "stdout",
     "output_type": "stream",
     "text": [
      "Enter a number : 8\n",
      "Enter another number : 0\n"
     ]
    },
    {
     "ename": "ZeroDivisionError",
     "evalue": "division by zero",
     "output_type": "error",
     "traceback": [
      "\u001b[0;31m---------------------------------------------------------------------------\u001b[0m",
      "\u001b[0;31mZeroDivisionError\u001b[0m                         Traceback (most recent call last)",
      "\u001b[0;32m<ipython-input-3-be5cda1354a6>\u001b[0m in \u001b[0;36m<module>\u001b[0;34m()\u001b[0m\n\u001b[1;32m      9\u001b[0m \u001b[0;34m\u001b[0m\u001b[0m\n\u001b[1;32m     10\u001b[0m \u001b[0;31m# call the main function\u001b[0m\u001b[0;34m\u001b[0m\u001b[0;34m\u001b[0m\u001b[0m\n\u001b[0;32m---> 11\u001b[0;31m \u001b[0mmain\u001b[0m\u001b[0;34m(\u001b[0m\u001b[0;34m)\u001b[0m\u001b[0;34m\u001b[0m\u001b[0m\n\u001b[0m",
      "\u001b[0;32m<ipython-input-3-be5cda1354a6>\u001b[0m in \u001b[0;36mmain\u001b[0;34m()\u001b[0m\n\u001b[1;32m      5\u001b[0m \u001b[0;34m\u001b[0m\u001b[0m\n\u001b[1;32m      6\u001b[0m     \u001b[0;31m# divide num1 by num2 and display the result\u001b[0m\u001b[0;34m\u001b[0m\u001b[0;34m\u001b[0m\u001b[0m\n\u001b[0;32m----> 7\u001b[0;31m     \u001b[0mresult\u001b[0m \u001b[0;34m=\u001b[0m \u001b[0mnum1\u001b[0m \u001b[0;34m/\u001b[0m \u001b[0mnum2\u001b[0m\u001b[0;34m\u001b[0m\u001b[0m\n\u001b[0m\u001b[1;32m      8\u001b[0m     \u001b[0mprint\u001b[0m\u001b[0;34m(\u001b[0m\u001b[0mnum1\u001b[0m\u001b[0;34m,\u001b[0m\u001b[0;34m'divided by'\u001b[0m\u001b[0;34m,\u001b[0m\u001b[0mnum2\u001b[0m\u001b[0;34m,\u001b[0m\u001b[0;34m'is'\u001b[0m\u001b[0;34m,\u001b[0m\u001b[0mresult\u001b[0m\u001b[0;34m)\u001b[0m\u001b[0;34m\u001b[0m\u001b[0m\n\u001b[1;32m      9\u001b[0m \u001b[0;34m\u001b[0m\u001b[0m\n",
      "\u001b[0;31mZeroDivisionError\u001b[0m: division by zero"
     ]
    }
   ],
   "source": [
    "def main():\n",
    "    # get two numbers\n",
    "    num1 = int(input('Enter a number : '))\n",
    "    num2 = int(input('Enter another number : '))\n",
    "    \n",
    "    # divide num1 by num2 and display the result\n",
    "    result = num1 / num2\n",
    "    print(num1,'divided by',num2,'is',result)\n",
    "    \n",
    "# call the main function\n",
    "main()"
   ]
  },
  {
   "cell_type": "markdown",
   "metadata": {},
   "source": [
    "<p>We can prevent division by zero using an if statement.</p>"
   ]
  },
  {
   "cell_type": "code",
   "execution_count": 6,
   "metadata": {
    "collapsed": false
   },
   "outputs": [
    {
     "name": "stdout",
     "output_type": "stream",
     "text": [
      "Enter a number : 6\n",
      "Enter another number : 0\n",
      "Cannot divided by zero.\n"
     ]
    }
   ],
   "source": [
    "def main():\n",
    "    # get two numbers\n",
    "    num1 = int(input('Enter a number : '))\n",
    "    num2 = int(input('Enter another number : '))\n",
    "    \n",
    "    # divide num1 by num2 and display the result\n",
    "    if num2 != 0:\n",
    "        result = num1 / num2\n",
    "        print(num1,'divided by',num2,'is',result)\n",
    "    else:\n",
    "        print('Cannot divided by zero.')\n",
    "        \n",
    "# call the main function\n",
    "main()"
   ]
  },
  {
   "cell_type": "markdown",
   "metadata": {},
   "source": [
    "<p>However, some exceptions cannot be avoided.</p>"
   ]
  },
  {
   "cell_type": "code",
   "execution_count": 9,
   "metadata": {
    "collapsed": false
   },
   "outputs": [
    {
     "name": "stdout",
     "output_type": "stream",
     "text": [
      "Enter an integer : abc\n"
     ]
    },
    {
     "ename": "ValueError",
     "evalue": "invalid literal for int() with base 10: 'abc'",
     "output_type": "error",
     "traceback": [
      "\u001b[0;31m---------------------------------------------------------------------------\u001b[0m",
      "\u001b[0;31mValueError\u001b[0m                                Traceback (most recent call last)",
      "\u001b[0;32m<ipython-input-9-53d3eb40e419>\u001b[0m in \u001b[0;36m<module>\u001b[0;34m()\u001b[0m\n\u001b[1;32m     10\u001b[0m \u001b[0;34m\u001b[0m\u001b[0m\n\u001b[1;32m     11\u001b[0m \u001b[0;31m# call the main function\u001b[0m\u001b[0;34m\u001b[0m\u001b[0;34m\u001b[0m\u001b[0m\n\u001b[0;32m---> 12\u001b[0;31m \u001b[0mmain\u001b[0m\u001b[0;34m(\u001b[0m\u001b[0;34m)\u001b[0m\u001b[0;34m\u001b[0m\u001b[0m\n\u001b[0m",
      "\u001b[0;32m<ipython-input-9-53d3eb40e419>\u001b[0m in \u001b[0;36mmain\u001b[0;34m()\u001b[0m\n\u001b[1;32m      1\u001b[0m \u001b[0;32mdef\u001b[0m \u001b[0mmain\u001b[0m\u001b[0;34m(\u001b[0m\u001b[0;34m)\u001b[0m\u001b[0;34m:\u001b[0m\u001b[0;34m\u001b[0m\u001b[0m\n\u001b[1;32m      2\u001b[0m     \u001b[0;31m# get the numbers\u001b[0m\u001b[0;34m\u001b[0m\u001b[0;34m\u001b[0m\u001b[0m\n\u001b[0;32m----> 3\u001b[0;31m     \u001b[0mnum1\u001b[0m \u001b[0;34m=\u001b[0m \u001b[0mint\u001b[0m\u001b[0;34m(\u001b[0m\u001b[0minput\u001b[0m\u001b[0;34m(\u001b[0m\u001b[0;34m'Enter an integer : '\u001b[0m\u001b[0;34m)\u001b[0m\u001b[0;34m)\u001b[0m\u001b[0;34m\u001b[0m\u001b[0m\n\u001b[0m\u001b[1;32m      4\u001b[0m \u001b[0;34m\u001b[0m\u001b[0m\n\u001b[1;32m      5\u001b[0m     \u001b[0;31m# even or odd\u001b[0m\u001b[0;34m\u001b[0m\u001b[0;34m\u001b[0m\u001b[0m\n",
      "\u001b[0;31mValueError\u001b[0m: invalid literal for int() with base 10: 'abc'"
     ]
    }
   ],
   "source": [
    "def main():\n",
    "    # get the numbers\n",
    "    num1 = int(input('Enter an integer : '))\n",
    "    \n",
    "    # even or odd\n",
    "    if num1 % 2 == 0:\n",
    "        print(num1,'is an even number.')\n",
    "    else:\n",
    "        print(num1,'is an odd number.')\n",
    "\n",
    "# call the main function\n",
    "main()"
   ]
  },
  {
   "cell_type": "markdown",
   "metadata": {
    "collapsed": true
   },
   "source": [
    "<h3>A try/except statement</h3>\n",
    "<p>We can handle runtime error (aka exception) using a try-except statement.</p>\n",
    "\n",
    "```python\n",
    "try:\n",
    "    statement(s)\n",
    "except ExceptionName:\n",
    "    statement(s)\n",
    "```\n",
    "\n",
    "<p>The following program demonstrates how to handle a ZeroDivisionError exception using a try-except statement.</p>"
   ]
  },
  {
   "cell_type": "code",
   "execution_count": 12,
   "metadata": {
    "collapsed": false
   },
   "outputs": [
    {
     "name": "stdout",
     "output_type": "stream",
     "text": [
      "Enter an integer : abc\n",
      "ERROR: the input must be an integer.\n"
     ]
    }
   ],
   "source": [
    "def main():\n",
    "    \n",
    "    try:\n",
    "        # get the numbers\n",
    "        num1 = int(input('Enter an integer : '))\n",
    "    \n",
    "        # even or odd\n",
    "        if num1 % 2 == 0:\n",
    "            print(num1,'is an even number.')\n",
    "        else:\n",
    "            print(num1,'is an odd number.')\n",
    "\n",
    "    except ValueError:\n",
    "        print('ERROR: the input must be an integer.')\n",
    "        \n",
    "# call the main function\n",
    "main()"
   ]
  },
  {
   "cell_type": "markdown",
   "metadata": {},
   "source": [
    "<p>This program demonstrates another type of exception, FileNotFoundError.</p>"
   ]
  },
  {
   "cell_type": "code",
   "execution_count": 13,
   "metadata": {
    "collapsed": false,
    "scrolled": true
   },
   "outputs": [
    {
     "name": "stdout",
     "output_type": "stream",
     "text": [
      "Enter a filename : abc.txt\n"
     ]
    },
    {
     "ename": "FileNotFoundError",
     "evalue": "[Errno 2] No such file or directory: 'abc.txt'",
     "output_type": "error",
     "traceback": [
      "\u001b[0;31m---------------------------------------------------------------------------\u001b[0m",
      "\u001b[0;31mFileNotFoundError\u001b[0m                         Traceback (most recent call last)",
      "\u001b[0;32m<ipython-input-13-965d531d8d81>\u001b[0m in \u001b[0;36m<module>\u001b[0;34m()\u001b[0m\n\u001b[1;32m     16\u001b[0m \u001b[0;34m\u001b[0m\u001b[0m\n\u001b[1;32m     17\u001b[0m \u001b[0;31m# call the main function\u001b[0m\u001b[0;34m\u001b[0m\u001b[0;34m\u001b[0m\u001b[0m\n\u001b[0;32m---> 18\u001b[0;31m \u001b[0mmain\u001b[0m\u001b[0;34m(\u001b[0m\u001b[0;34m)\u001b[0m\u001b[0;34m\u001b[0m\u001b[0m\n\u001b[0m",
      "\u001b[0;32m<ipython-input-13-965d531d8d81>\u001b[0m in \u001b[0;36mmain\u001b[0;34m()\u001b[0m\n\u001b[1;32m      4\u001b[0m \u001b[0;34m\u001b[0m\u001b[0m\n\u001b[1;32m      5\u001b[0m     \u001b[0;31m# open the file\u001b[0m\u001b[0;34m\u001b[0m\u001b[0;34m\u001b[0m\u001b[0m\n\u001b[0;32m----> 6\u001b[0;31m     \u001b[0minfile\u001b[0m \u001b[0;34m=\u001b[0m \u001b[0mopen\u001b[0m\u001b[0;34m(\u001b[0m\u001b[0mfilename\u001b[0m\u001b[0;34m,\u001b[0m\u001b[0;34m'r'\u001b[0m\u001b[0;34m)\u001b[0m\u001b[0;34m\u001b[0m\u001b[0m\n\u001b[0m\u001b[1;32m      7\u001b[0m \u001b[0;34m\u001b[0m\u001b[0m\n\u001b[1;32m      8\u001b[0m     \u001b[0;31m# read the file's contents\u001b[0m\u001b[0;34m\u001b[0m\u001b[0;34m\u001b[0m\u001b[0m\n",
      "\u001b[0;31mFileNotFoundError\u001b[0m: [Errno 2] No such file or directory: 'abc.txt'"
     ]
    }
   ],
   "source": [
    "def main():\n",
    "    # get the name of a file\n",
    "    filename = input('Enter a filename : ')\n",
    "    \n",
    "    # open the file\n",
    "    infile = open(filename,'r')\n",
    "    \n",
    "    # read the file's contents\n",
    "    contents = infile.read()\n",
    "    \n",
    "    # display the file's contents\n",
    "    print(contents)\n",
    "    \n",
    "    # close the file\n",
    "    infile.close()\n",
    "    \n",
    "# call the main function\n",
    "main()"
   ]
  },
  {
   "cell_type": "markdown",
   "metadata": {},
   "source": [
    "<p>Here is how to handle a FileNotFoundError exception.</p>"
   ]
  },
  {
   "cell_type": "code",
   "execution_count": 14,
   "metadata": {
    "collapsed": false
   },
   "outputs": [
    {
     "name": "stdout",
     "output_type": "stream",
     "text": [
      "Enter a filename : abc.txt\n",
      "The file abc.txt cannot be found.\n"
     ]
    }
   ],
   "source": [
    "def main():\n",
    "    # get the name of a file\n",
    "    filename = input('Enter a filename : ')\n",
    "    \n",
    "    try:\n",
    "    \n",
    "        # open the file\n",
    "        infile = open(filename,'r')\n",
    "    \n",
    "        # read the file's contents\n",
    "        contents = infile.read()\n",
    "    \n",
    "        # display the file's contents\n",
    "        print(contents)\n",
    "    \n",
    "        # close the file\n",
    "        infile.close()\n",
    "    \n",
    "    except FileNotFoundError:\n",
    "        print('The file',filename,'cannot be found.')\n",
    "    \n",
    "# call the main function\n",
    "main()"
   ]
  },
  {
   "cell_type": "markdown",
   "metadata": {},
   "source": [
    "<h3>Handling Multiple Exceptions</h3>"
   ]
  },
  {
   "cell_type": "code",
   "execution_count": null,
   "metadata": {
    "collapsed": false
   },
   "outputs": [],
   "source": [
    "# this program displays the total of the amounts in the file\n",
    "def main():\n",
    "    # initialize the accumulator\n",
    "    total = 0.0\n",
    "    \n",
    "    try:\n",
    "        # open the sales_data.txt file\n",
    "        infile = open('sale_data.txt','r')\n",
    "        \n",
    "        # read the values from the file and accumulate them\n",
    "        for line in infile:\n",
    "            amount = float(line)\n",
    "            total += amount\n",
    "        \n",
    "        # close the file\n",
    "        infile.close()\n",
    "        \n",
    "        # print the total\n",
    "        print(format(total,',.2f'))\n",
    "        \n",
    "    except FileNotFoundError:\n",
    "        print('The file sales_data.txt cannot be found.')\n",
    "        \n",
    "    except ValueError:\n",
    "        print('Non-numeric data found in the file.')\n",
    "        \n",
    "    except: # catch all other exceptions\n",
    "        print('An error occured.')\n",
    "        \n",
    "# call the main function\n",
    "main()"
   ]
  },
  {
   "cell_type": "markdown",
   "metadata": {},
   "source": [
    "<h3>Display an Exception's Default Error Message</h3>\n",
    "\n",
    "```python\n",
    "except ValueError as err:\n",
    "```"
   ]
  },
  {
   "cell_type": "code",
   "execution_count": null,
   "metadata": {
    "collapsed": false
   },
   "outputs": [],
   "source": [
    "# this program displays the total of the amounts in the file\n",
    "def main():\n",
    "    # initialize the accumulator\n",
    "    total = 0.0\n",
    "    \n",
    "    try:\n",
    "        # open the sales_data.txt file\n",
    "        infile = open('sale_data.txt','r')\n",
    "        \n",
    "        # read the values from the file and accumulate them\n",
    "        for line in infile:\n",
    "            amount = float(line)\n",
    "            total += amount\n",
    "        \n",
    "        # close the file\n",
    "        infile.close()\n",
    "        \n",
    "        # print the total\n",
    "        print(format(total,',.2f'))\n",
    "        \n",
    "    except FileNotFoundError as err:\n",
    "        print(err)\n",
    "        \n",
    "    except ValueError as err:\n",
    "        print(err)\n",
    "        \n",
    "    except: # catch all other exceptions\n",
    "        print('An error occured.')\n",
    "        \n",
    "# call the main function\n",
    "main()"
   ]
  },
  {
   "cell_type": "code",
   "execution_count": null,
   "metadata": {
    "collapsed": true
   },
   "outputs": [],
   "source": [
    "# this program displays the total of the amounts in the file\n",
    "def main():\n",
    "    # initialize the accumulator\n",
    "    total = 0.0\n",
    "    \n",
    "    try:\n",
    "        # open the sales_data.txt file\n",
    "        infile = open('sales_data.txt','r')\n",
    "        \n",
    "        # read the values from the file and accumulate them\n",
    "        for line in infile:\n",
    "            amount = float(line)\n",
    "            total += amount\n",
    "        \n",
    "        # close the file\n",
    "        infile.close()\n",
    "        \n",
    "        # print the total\n",
    "        print(format(total,',.2f'))\n",
    "        \n",
    "    except Exception as err: # catch all exceptions\n",
    "        print(err)\n",
    "        \n",
    "# call the main function\n",
    "main()"
   ]
  },
  {
   "cell_type": "markdown",
   "metadata": {},
   "source": [
    "<h3>The else clause</h3>\n",
    "\n",
    "```python\n",
    "try:\n",
    "    statement(s)\n",
    "except ExceptionName:\n",
    "    statement(s)\n",
    "else:\n",
    "    statement(s)\n",
    "```\n",
    "\n",
    "<p>The statements in the else suite are executed after the statements in the try suite, only if no exceptions were raised. If an exception is raised, the else suite is skipped.</p>\n"
   ]
  },
  {
   "cell_type": "markdown",
   "metadata": {},
   "source": [
    "<h3>The finally clause</h3>\n",
    "\n",
    "```python\n",
    "try:\n",
    "    statement(s)\n",
    "except ExceptionName:\n",
    "    statement(s)\n",
    "finally:\n",
    "    statement(s)\n",
    "```\n",
    "\n",
    "<p>The statements in the finally suite are always executed after the try suite has executed and after any exception handlers have executed. The statements in the finally suite execute whether an exception occurs or not.\n",
    "</p>"
   ]
  }
 ],
 "metadata": {
  "kernelspec": {
   "display_name": "Python 3",
   "language": "python",
   "name": "python3"
  },
  "language_info": {
   "codemirror_mode": {
    "name": "ipython",
    "version": 3
   },
   "file_extension": ".py",
   "mimetype": "text/x-python",
   "name": "python",
   "nbconvert_exporter": "python",
   "pygments_lexer": "ipython3",
   "version": "3.5.2"
  }
 },
 "nbformat": 4,
 "nbformat_minor": 1
}
