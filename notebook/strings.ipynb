{
 "cells": [
  {
   "cell_type": "markdown",
   "metadata": {},
   "source": [
    "<h1>Strings</h1>\n",
    "\n",
    "<strong>Acknowledgement</strong> : the contents of this notebook are partially based on the book <i>\"Starting Out with Python (3rd Edition)\"</i>.\n",
    "\n",
    "<p>Python provides several ways to access the individual characters in a string. Strings also have methods that allow you to perform operations on them.</p>"
   ]
  },
  {
   "cell_type": "markdown",
   "metadata": {},
   "source": [
    "<h3>Accessing the individual characters</h3>\n",
    "<p>Like list and tuple, string is a sequence. Hence, it can be iterated using for loop.</p>"
   ]
  },
  {
   "cell_type": "code",
   "execution_count": 2,
   "metadata": {
    "collapsed": false
   },
   "outputs": [
    {
     "name": "stdout",
     "output_type": "stream",
     "text": [
      "E\n",
      "k\n",
      "a\n",
      "s\n",
      "i\n",
      "t\n"
     ]
    }
   ],
   "source": [
    "# using for loop\n",
    "name = 'Ekasit'\n",
    "for ch in name:\n",
    "    print(ch)"
   ]
  },
  {
   "cell_type": "markdown",
   "metadata": {},
   "source": [
    "<p>This program counts the number of times the letter T appears in a string</p>"
   ]
  },
  {
   "cell_type": "code",
   "execution_count": 1,
   "metadata": {
    "collapsed": false
   },
   "outputs": [
    {
     "name": "stdout",
     "output_type": "stream",
     "text": [
      "Enter a sentence : This is a sentence\n",
      "The letter T appears 2 times.\n"
     ]
    }
   ],
   "source": [
    "# count variable\n",
    "count = 0\n",
    "    \n",
    "# get a string from the user\n",
    "my_string = input('Enter a sentence : ')\n",
    "    \n",
    "# count the Ts\n",
    "for ch in my_string:\n",
    "    if ch == 'T' or ch == 't':\n",
    "        count += 1\n",
    "            \n",
    "# print the result\n",
    "print('The letter T appears',count,'times.')"
   ]
  },
  {
   "cell_type": "markdown",
   "metadata": {},
   "source": [
    "<h3>String Indexing</h3>\n",
    "<p>Just like list and tuple, strings also support indexing.</p>"
   ]
  },
  {
   "cell_type": "code",
   "execution_count": 2,
   "metadata": {
    "collapsed": false
   },
   "outputs": [
    {
     "name": "stdout",
     "output_type": "stream",
     "text": [
      "k\n"
     ]
    }
   ],
   "source": [
    "# using indexing\n",
    "my_name = 'Krikamol'\n",
    "ch = my_name[3]\n",
    "\n",
    "print(ch)"
   ]
  },
  {
   "cell_type": "code",
   "execution_count": 7,
   "metadata": {
    "collapsed": false
   },
   "outputs": [
    {
     "ename": "IndexError",
     "evalue": "string index out of range",
     "output_type": "error",
     "traceback": [
      "\u001b[0;31m---------------------------------------------------------------------------\u001b[0m",
      "\u001b[0;31mIndexError\u001b[0m                                Traceback (most recent call last)",
      "\u001b[0;32m<ipython-input-7-81078100c4db>\u001b[0m in \u001b[0;36m<module>\u001b[0;34m()\u001b[0m\n\u001b[1;32m      1\u001b[0m \u001b[0;31m# IndexError exception\u001b[0m\u001b[0;34m\u001b[0m\u001b[0;34m\u001b[0m\u001b[0m\n\u001b[1;32m      2\u001b[0m \u001b[0mcity\u001b[0m \u001b[0;34m=\u001b[0m \u001b[0;34m'Bangkok'\u001b[0m\u001b[0;34m\u001b[0m\u001b[0m\n\u001b[0;32m----> 3\u001b[0;31m \u001b[0mprint\u001b[0m\u001b[0;34m(\u001b[0m\u001b[0mcity\u001b[0m\u001b[0;34m[\u001b[0m\u001b[0;36m7\u001b[0m\u001b[0;34m]\u001b[0m\u001b[0;34m)\u001b[0m\u001b[0;34m\u001b[0m\u001b[0m\n\u001b[0m",
      "\u001b[0;31mIndexError\u001b[0m: string index out of range"
     ]
    }
   ],
   "source": [
    "# IndexError exception\n",
    "city = 'Bangkok'\n",
    "print(city[7])"
   ]
  },
  {
   "cell_type": "markdown",
   "metadata": {},
   "source": [
    "<p>To find a length of a string, we can use the <b>len()</b> function.</p>"
   ]
  },
  {
   "cell_type": "code",
   "execution_count": 4,
   "metadata": {
    "collapsed": false
   },
   "outputs": [
    {
     "name": "stdout",
     "output_type": "stream",
     "text": [
      "7\n"
     ]
    }
   ],
   "source": [
    "city = 'Bangkok'\n",
    "size = len(city)\n",
    "print(size)"
   ]
  },
  {
   "cell_type": "markdown",
   "metadata": {},
   "source": [
    "<h3>String concatenation</h3>\n",
    "<p>Note that string is immutable object. Hence, a new string object will be created as a result of string concatenation.</p>"
   ]
  },
  {
   "cell_type": "code",
   "execution_count": 7,
   "metadata": {
    "collapsed": false
   },
   "outputs": [
    {
     "name": "stdout",
     "output_type": "stream",
     "text": [
      "Krikamol Muandet\n"
     ]
    }
   ],
   "source": [
    "firstname = 'Krikamol '\n",
    "lastname = 'Muandet'\n",
    "\n",
    "fullname = firstname + lastname\n",
    "\n",
    "print(fullname)"
   ]
  },
  {
   "cell_type": "code",
   "execution_count": 8,
   "metadata": {
    "collapsed": false
   },
   "outputs": [
    {
     "name": "stdout",
     "output_type": "stream",
     "text": [
      "abcdef\n"
     ]
    }
   ],
   "source": [
    "letters = 'abc'\n",
    "\n",
    "letters += 'def' # letters = letters + 'def'\n",
    "\n",
    "print(letters)"
   ]
  },
  {
   "cell_type": "code",
   "execution_count": 9,
   "metadata": {
    "collapsed": false
   },
   "outputs": [
    {
     "name": "stdout",
     "output_type": "stream",
     "text": [
      "Krikamol Muandet\n"
     ]
    }
   ],
   "source": [
    "# recommended way to concatenate the strings\n",
    "firstname = 'Krikamol'\n",
    "lastname = 'Muandet'\n",
    "\n",
    "new_string = ' '.join([firstname, lastname])\n",
    "\n",
    "print(new_string)"
   ]
  },
  {
   "cell_type": "markdown",
   "metadata": {},
   "source": [
    "<h3>Strings are immutable</h3>\n",
    "<p>This means we cannot modify the string object.</p>"
   ]
  },
  {
   "cell_type": "code",
   "execution_count": 10,
   "metadata": {
    "collapsed": false
   },
   "outputs": [
    {
     "name": "stdout",
     "output_type": "stream",
     "text": [
      "The name is Krikamol\n",
      "Now the name is Krikamol Muandet\n"
     ]
    }
   ],
   "source": [
    "# this program concatenates strings\n",
    "name = 'Krikamol'\n",
    "print('The name is',name)\n",
    "    \n",
    "name = name + ' Muandet'\n",
    "print('Now the name is',name)"
   ]
  },
  {
   "cell_type": "code",
   "execution_count": 12,
   "metadata": {
    "collapsed": false
   },
   "outputs": [
    {
     "ename": "TypeError",
     "evalue": "'str' object does not support item assignment",
     "output_type": "error",
     "traceback": [
      "\u001b[0;31m---------------------------------------------------------------------------\u001b[0m",
      "\u001b[0;31mTypeError\u001b[0m                                 Traceback (most recent call last)",
      "\u001b[0;32m<ipython-input-12-965d4ee3093a>\u001b[0m in \u001b[0;36m<module>\u001b[0;34m()\u001b[0m\n\u001b[1;32m      3\u001b[0m \u001b[0;34m\u001b[0m\u001b[0m\n\u001b[1;32m      4\u001b[0m \u001b[0;31m# can we change the first character to 'J'?\u001b[0m\u001b[0;34m\u001b[0m\u001b[0;34m\u001b[0m\u001b[0m\n\u001b[0;32m----> 5\u001b[0;31m \u001b[0mfriend\u001b[0m\u001b[0;34m[\u001b[0m\u001b[0;36m0\u001b[0m\u001b[0;34m]\u001b[0m \u001b[0;34m=\u001b[0m \u001b[0;34m'J'\u001b[0m\u001b[0;34m\u001b[0m\u001b[0m\n\u001b[0m",
      "\u001b[0;31mTypeError\u001b[0m: 'str' object does not support item assignment"
     ]
    }
   ],
   "source": [
    "# assign 'Nuttaporn' to friend\n",
    "friend = 'Nuttaporn'\n",
    "\n",
    "# can we change the first character to 'J'?\n",
    "friend[0] = 'J'"
   ]
  },
  {
   "cell_type": "markdown",
   "metadata": {},
   "source": [
    "<h3>String slicing (substrings)</h3>\n",
    "<p>You can use slicing expressions to select a range of characters from a string.\n",
    "<br><br>\n",
    "<b>Syntax:</b> <i>string[start : end]</i>\n",
    "</p>"
   ]
  },
  {
   "cell_type": "code",
   "execution_count": 11,
   "metadata": {
    "collapsed": false
   },
   "outputs": [
    {
     "name": "stdout",
     "output_type": "stream",
     "text": [
      "Robert\n"
     ]
    }
   ],
   "source": [
    "fullname = 'Mark Robert Smith'\n",
    "middlename = fullname[5:11]\n",
    "print(middlename)"
   ]
  },
  {
   "cell_type": "code",
   "execution_count": 12,
   "metadata": {
    "collapsed": false
   },
   "outputs": [
    {
     "name": "stdout",
     "output_type": "stream",
     "text": [
      "Mark \n"
     ]
    }
   ],
   "source": [
    "print(fullname[:5])"
   ]
  },
  {
   "cell_type": "code",
   "execution_count": 13,
   "metadata": {
    "collapsed": false
   },
   "outputs": [
    {
     "name": "stdout",
     "output_type": "stream",
     "text": [
      "Robert Smith\n"
     ]
    }
   ],
   "source": [
    "print(fullname[5:])"
   ]
  },
  {
   "cell_type": "code",
   "execution_count": 14,
   "metadata": {
    "collapsed": false
   },
   "outputs": [
    {
     "name": "stdout",
     "output_type": "stream",
     "text": [
      "Mark Robert Smith\n"
     ]
    }
   ],
   "source": [
    "print(fullname[:])"
   ]
  },
  {
   "cell_type": "code",
   "execution_count": 15,
   "metadata": {
    "collapsed": false
   },
   "outputs": [
    {
     "name": "stdout",
     "output_type": "stream",
     "text": [
      "ACEGIKMOQSUWY\n"
     ]
    }
   ],
   "source": [
    "letters = 'ABCDEFGHIJKLMNOPQRSTUVWXYZ'\n",
    "print(letters[0:26:2])"
   ]
  },
  {
   "cell_type": "markdown",
   "metadata": {},
   "source": [
    "<h3>Testing, searching, and manipulating strings</h3>\n",
    "<p>Python provides operators and methods for testing strings, searching the contents of strings, and getting modified copies of strings.</p>"
   ]
  },
  {
   "cell_type": "markdown",
   "metadata": {},
   "source": [
    "<p>To check if a string is a substring of another string, we can use <b>in</b> and <b>not in</b> operators.\n",
    "<br><br>\n",
    "<b>Syntax:</b> (<i>string1</i> <b>in</b> <i>string2</i>) ---> True if string1 is a substring of string2, and False otherwise \n",
    "</p>"
   ]
  },
  {
   "cell_type": "code",
   "execution_count": 16,
   "metadata": {
    "collapsed": false
   },
   "outputs": [
    {
     "name": "stdout",
     "output_type": "stream",
     "text": [
      "The string 'second' was found.\n"
     ]
    }
   ],
   "source": [
    "# in and not in (string1 in string2)\n",
    "text =  'The second-year students are good students'\n",
    "if 'second' in text:\n",
    "    print(\"The string 'second' was found.\")\n",
    "else:\n",
    "    print(\"The string 'second' was not found.\")"
   ]
  },
  {
   "cell_type": "code",
   "execution_count": 17,
   "metadata": {
    "collapsed": false
   },
   "outputs": [
    {
     "name": "stdout",
     "output_type": "stream",
     "text": [
      "The string 'third' was not found.\n"
     ]
    }
   ],
   "source": [
    "text =  'The second-year students are good students'\n",
    "if 'third' not in text:\n",
    "    print(\"The string 'third' was not found.\")\n",
    "else:\n",
    "    print(\"The string 'third' was found.\")"
   ]
  },
  {
   "cell_type": "markdown",
   "metadata": {},
   "source": [
    "<h3>String methods</h3>\n",
    "<p>The first category of string methods consists of string testing methods.</p>\n",
    "<ul>\n",
    "<li>isalnum()</li>\n",
    "<li>isalpha()</li>\n",
    "<li>isdigit()</li>\n",
    "<li>islower()</li>\n",
    "<li>isspace()</li>\n",
    "<li>isupper()</li>\n",
    "</ul>"
   ]
  },
  {
   "cell_type": "code",
   "execution_count": 18,
   "metadata": {
    "collapsed": false
   },
   "outputs": [
    {
     "name": "stdout",
     "output_type": "stream",
     "text": [
      "Have some characters\n"
     ]
    }
   ],
   "source": [
    "string1 = '1200a'\n",
    "if string1.isdigit():\n",
    "    print('Digits only')\n",
    "else:\n",
    "    print('Have some characters')"
   ]
  },
  {
   "cell_type": "code",
   "execution_count": 21,
   "metadata": {
    "collapsed": false
   },
   "outputs": [
    {
     "name": "stdout",
     "output_type": "stream",
     "text": [
      "True\n"
     ]
    }
   ],
   "source": [
    "letters = 'ABC'\n",
    "print(letters.isupper())"
   ]
  },
  {
   "cell_type": "code",
   "execution_count": 22,
   "metadata": {
    "collapsed": false
   },
   "outputs": [
    {
     "name": "stdout",
     "output_type": "stream",
     "text": [
      "True\n"
     ]
    }
   ],
   "source": [
    "letters = '     '\n",
    "print(letters.isspace())"
   ]
  },
  {
   "cell_type": "markdown",
   "metadata": {},
   "source": [
    "<p>The next category consists of the string modification methods.</p>\n",
    "<ul>\n",
    "<li>lower()</li>\n",
    "<li>lstrip()</li>\n",
    "<li>lstrip(char)</li>\n",
    "<li>rstrip()</li>\n",
    "<li>rstrip(char)</li>\n",
    "<li>strip()</li>\n",
    "<li>strip(char)</li>\n",
    "<li>upper()</li>\n",
    "</ul>"
   ]
  },
  {
   "cell_type": "code",
   "execution_count": 24,
   "metadata": {
    "collapsed": false
   },
   "outputs": [
    {
     "name": "stdout",
     "output_type": "stream",
     "text": [
      "WXYZ wxyz\n"
     ]
    }
   ],
   "source": [
    "letters = 'WXYZ'\n",
    "print(letters, letters.lower())"
   ]
  },
  {
   "cell_type": "code",
   "execution_count": 25,
   "metadata": {
    "collapsed": false
   },
   "outputs": [
    {
     "name": "stdout",
     "output_type": "stream",
     "text": [
      "abcd ABCD\n"
     ]
    }
   ],
   "source": [
    "letters = 'abcd'\n",
    "print(letters, letters.upper())"
   ]
  },
  {
   "cell_type": "markdown",
   "metadata": {
    "collapsed": true
   },
   "source": [
    "<p>Searching and replacing methods</p>\n",
    "<ul>\n",
    "<li>endswith(substring)</li>\n",
    "<li>find(substring)</li>\n",
    "<li>replace(old, new)</li>\n",
    "<li>startswith(substring)</li>\n",
    "</ul>"
   ]
  },
  {
   "cell_type": "code",
   "execution_count": 19,
   "metadata": {
    "collapsed": false
   },
   "outputs": [
    {
     "name": "stdout",
     "output_type": "stream",
     "text": [
      "Enter the filename : doc.txt\n",
      "text file.\n"
     ]
    }
   ],
   "source": [
    "filename = input('Enter the filename : ')\n",
    "\n",
    "if filename.endswith('.txt'):\n",
    "    print('text file.')\n",
    "elif filename.endswith('.py'):\n",
    "    print('Python file')\n",
    "elif filename.endswith('.doc'):\n",
    "    print('word file')\n",
    "else:\n",
    "    print('Unknown file type')"
   ]
  },
  {
   "cell_type": "code",
   "execution_count": 20,
   "metadata": {
    "collapsed": false
   },
   "outputs": [
    {
     "name": "stdout",
     "output_type": "stream",
     "text": [
      "The word 'second' was found at index 4\n"
     ]
    }
   ],
   "source": [
    "# the find method\n",
    "string = 'The second-year students are good students'\n",
    "position = string.find('second')\n",
    "\n",
    "if position != -1:\n",
    "    print(\"The word 'second' was found at index\",position)\n",
    "else:\n",
    "    print(\"The word 'second' was not found.\")"
   ]
  },
  {
   "cell_type": "code",
   "execution_count": 21,
   "metadata": {
    "collapsed": false
   },
   "outputs": [
    {
     "name": "stdout",
     "output_type": "stream",
     "text": [
      "The second-year students are bad students\n"
     ]
    }
   ],
   "source": [
    "# the replace method\n",
    "string = 'The second-year students are good students'\n",
    "new_string = string.replace('good','bad')\n",
    "print(new_string)"
   ]
  },
  {
   "cell_type": "markdown",
   "metadata": {},
   "source": [
    "<h3>The repetition operator</h3>\n",
    "<p><b>Syntax:</b> <i>string_to_copy * n</i></p>"
   ]
  },
  {
   "cell_type": "code",
   "execution_count": 22,
   "metadata": {
    "collapsed": false
   },
   "outputs": [
    {
     "name": "stdout",
     "output_type": "stream",
     "text": [
      "AAAAA\n"
     ]
    }
   ],
   "source": [
    "my_string = 'A'*5\n",
    "print(my_string)"
   ]
  },
  {
   "cell_type": "markdown",
   "metadata": {},
   "source": [
    "<h3>Splitting a string</h3>\n",
    "<p>We can split a single string into a list of multiple strings using the <b>split()</b> method.</p>"
   ]
  },
  {
   "cell_type": "code",
   "execution_count": 23,
   "metadata": {
    "collapsed": false
   },
   "outputs": [
    {
     "name": "stdout",
     "output_type": "stream",
     "text": [
      "['one', 'two', 'three', 'four', 'five']\n"
     ]
    }
   ],
   "source": [
    "# this program demonstrates the split method\n",
    "\n",
    "# create a string with multiple words\n",
    "my_string = 'one two three four five'\n",
    "    \n",
    "# split the string\n",
    "word_list = my_string.split()\n",
    "    \n",
    "# print the list of words\n",
    "print(word_list)"
   ]
  },
  {
   "cell_type": "markdown",
   "metadata": {},
   "source": [
    "<p>We can use different deparator in split method.</p>"
   ]
  },
  {
   "cell_type": "code",
   "execution_count": 24,
   "metadata": {
    "collapsed": false
   },
   "outputs": [
    {
     "name": "stdout",
     "output_type": "stream",
     "text": [
      "Month : 11\n",
      "Day : 26\n",
      "Year : 2014\n"
     ]
    }
   ],
   "source": [
    "# create a string with a date\n",
    "date_string = '11/26/2014'\n",
    "    \n",
    "# split the date\n",
    "date_list = date_string.split('/')\n",
    "    \n",
    "# display each piece of the date\n",
    "print('Month :', date_list[0])\n",
    "print('Day :',date_list[1])\n",
    "print('Year :', date_list[2])"
   ]
  },
  {
   "cell_type": "code",
   "execution_count": null,
   "metadata": {
    "collapsed": true
   },
   "outputs": [],
   "source": []
  }
 ],
 "metadata": {
  "kernelspec": {
   "display_name": "Python 3",
   "language": "python",
   "name": "python3"
  },
  "language_info": {
   "codemirror_mode": {
    "name": "ipython",
    "version": 3
   },
   "file_extension": ".py",
   "mimetype": "text/x-python",
   "name": "python",
   "nbconvert_exporter": "python",
   "pygments_lexer": "ipython3",
   "version": "3.5.2"
  }
 },
 "nbformat": 4,
 "nbformat_minor": 1
}
