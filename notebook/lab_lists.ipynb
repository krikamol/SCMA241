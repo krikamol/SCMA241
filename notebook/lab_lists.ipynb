{
 "cells": [
  {
   "cell_type": "markdown",
   "metadata": {},
   "source": [
    "<h1>Lab 4: Lists</h1>"
   ]
  },
  {
   "cell_type": "markdown",
   "metadata": {},
   "source": [
    "<h3>Problem #0</h3>\n",
    "<p>Write a program that gets a positive integer $N$ from the user. Then, the program creates and prints out a list $L$ of length $N$ where \n",
    "<br><br>\n",
    "$$L = [2,4,6,\\ldots].$$\n",
    "<br><br>\n",
    "Example:<br>\n",
    ">>> Enter positive number: 4<br>\n",
    "[2,4,6,8]\n",
    "</p>"
   ]
  },
  {
   "cell_type": "code",
   "execution_count": null,
   "metadata": {
    "collapsed": true
   },
   "outputs": [],
   "source": []
  },
  {
   "cell_type": "markdown",
   "metadata": {},
   "source": [
    "<h3>Problem #1</h3>\n",
    "<p>Write a program that gets a positive integer $N$ from the user. Then, the program creates an empty list of length $N$ and initialize its values by random numbers.</p>"
   ]
  },
  {
   "cell_type": "code",
   "execution_count": null,
   "metadata": {
    "collapsed": false
   },
   "outputs": [],
   "source": []
  },
  {
   "cell_type": "markdown",
   "metadata": {},
   "source": [
    "<h3>Problem #2</h3>\n",
    "<p>Given the list from Problem #1, write a program that counts the number of odd and even numbers in the list.<br><br>\n",
    "\n",
    "Example:<br>\n",
    ">>> my_list = [2,4,3,7,5,6,8]<br>\n",
    "There are 4 even numbers and 3 odd numbers.\n",
    "</p>"
   ]
  },
  {
   "cell_type": "code",
   "execution_count": null,
   "metadata": {
    "collapsed": false
   },
   "outputs": [],
   "source": []
  },
  {
   "cell_type": "markdown",
   "metadata": {},
   "source": [
    "<h3>Problem #3</h3>\n",
    "<p>Given an arbitrary list of integers, write a program that calculates the square of each element in the list.<br><br>\n",
    "Example:<br>\n",
    ">>> my_list = [1,2,3,4,5]<br>\n",
    "Output: [1,4,9,16,25]\n",
    "</p>"
   ]
  },
  {
   "cell_type": "code",
   "execution_count": null,
   "metadata": {
    "collapsed": false
   },
   "outputs": [],
   "source": []
  },
  {
   "cell_type": "markdown",
   "metadata": {},
   "source": [
    "<h3>Problem #4</h3>\n",
    "<p>Given an arbitrary list, write a program that returns the length of a list without using the len() function.<br><br>\n",
    "\n",
    "Example:<br>\n",
    ">>> my_list = [1,2,3,4,5]<br>\n",
    "The length is 5.\n",
    "</p>"
   ]
  },
  {
   "cell_type": "code",
   "execution_count": null,
   "metadata": {
    "collapsed": false
   },
   "outputs": [],
   "source": []
  },
  {
   "cell_type": "markdown",
   "metadata": {},
   "source": [
    "<h3>Problem #5</h3>\n",
    "<p>Write a program that receives a string from the user as an input. Then, the program must convert the string into a list and print it\n",
    "in reverse order.<br><br>\n",
    "\n",
    "Example:<br>\n",
    "Input: 'Krikamol'<br>\n",
    "Output: 'lomakirK'\n",
    "</p>"
   ]
  },
  {
   "cell_type": "code",
   "execution_count": null,
   "metadata": {
    "collapsed": true
   },
   "outputs": [],
   "source": []
  },
  {
   "cell_type": "markdown",
   "metadata": {
    "collapsed": false
   },
   "source": [
    "<h3>Problem #6</h3>\n",
    "<p>Write a program that counts the number of unique elements in a list.<br><br>\n",
    "\n",
    "Example:<br>\n",
    ">>> my_list = [1,2,2,3,3,3,4,4,4,4]<br>\n",
    "The number of unique elements is 4.\n",
    "</p>"
   ]
  },
  {
   "cell_type": "code",
   "execution_count": null,
   "metadata": {
    "collapsed": false
   },
   "outputs": [],
   "source": []
  },
  {
   "cell_type": "markdown",
   "metadata": {},
   "source": [
    "<h3>Problem #7</h3>\n",
    "<p>Write a program that gets a positive integer greater than 2 and check if it is a prime number.\n",
    "</p>"
   ]
  },
  {
   "cell_type": "code",
   "execution_count": null,
   "metadata": {
    "collapsed": true
   },
   "outputs": [],
   "source": []
  }
 ],
 "metadata": {
  "kernelspec": {
   "display_name": "Python 3",
   "language": "python",
   "name": "python3"
  },
  "language_info": {
   "codemirror_mode": {
    "name": "ipython",
    "version": 3
   },
   "file_extension": ".py",
   "mimetype": "text/x-python",
   "name": "python",
   "nbconvert_exporter": "python",
   "pygments_lexer": "ipython3",
   "version": "3.5.2"
  }
 },
 "nbformat": 4,
 "nbformat_minor": 1
}
