{
 "cells": [
  {
   "cell_type": "markdown",
   "metadata": {},
   "source": [
    "<h1>Lab: Dictionary & Set</h1>"
   ]
  },
  {
   "cell_type": "markdown",
   "metadata": {},
   "source": [
    "<h3>Problem #0</h3>\n",
    "<p>Create a dictionary whose keys are English alphabets A-Z and values are the corresponding ASCII codes.</p>"
   ]
  },
  {
   "cell_type": "code",
   "execution_count": null,
   "metadata": {
    "collapsed": false
   },
   "outputs": [],
   "source": [
    "# TODO"
   ]
  },
  {
   "cell_type": "markdown",
   "metadata": {},
   "source": [
    "<h3>Problem #1</h3>\n",
    "<p>Given lists of keys and values, create a dictionary from these two lists.</p>"
   ]
  },
  {
   "cell_type": "code",
   "execution_count": null,
   "metadata": {
    "collapsed": false
   },
   "outputs": [],
   "source": [
    "def main():\n",
    "    \n",
    "    key_list   = ['a','b','c','d','e','f'] # list of keys\n",
    "    value_list = [1,2,3,4,5,6] # list of values\n",
    "    \n",
    "    # create an empty dictionary\n",
    "    my_dict = dict()\n",
    "    \n",
    "    # TODO: create a dictionary from key_list and value_list\n",
    "    #\n",
    "    \n",
    "    print(my_dict)\n",
    "\n",
    "# call the main function\n",
    "main()"
   ]
  },
  {
   "cell_type": "markdown",
   "metadata": {},
   "source": [
    "<h3>Problem #2</h3>\n",
    "<p>Write a program to combine two dictionaries by adding values with common keys.</p>\n",
    "```python\n",
    "d1 = {'a':10, 'b':20, 'c':30}\n",
    "d2 = {'a':5, 'b':40, 'c':20, 'd':50}\n",
    "\n",
    "output = {'a':15, 'b':60, 'c':50, 'd':50}\n",
    "```"
   ]
  },
  {
   "cell_type": "code",
   "execution_count": null,
   "metadata": {
    "collapsed": false
   },
   "outputs": [],
   "source": [
    "def main():\n",
    "    \n",
    "    d1 = {'a':10, 'b':20, 'c':30}\n",
    "    d2 = {'a':5, 'b':40, 'c':20, 'd':50}\n",
    "    \n",
    "    # create an empty dictionary\n",
    "    output = {}\n",
    "    \n",
    "    # TODO: combine d1 and d2 by adding values with common keys\n",
    "    #\n",
    "    \n",
    "    print(output)\n",
    "\n",
    "# call the main function\n",
    "main()"
   ]
  },
  {
   "cell_type": "markdown",
   "metadata": {},
   "source": [
    "<h3>Problem #3</h3>\n",
    "<p>Write a program to create a dictionary from a string. The keys of the dictionary are characters in the string and the values are the associated number of occurrences.</p>\n",
    "```python\n",
    "input_string = 'abbcccdddd'\n",
    "output_dict = {'a':1, 'b':2, 'c':3, 'd':4}\n",
    "```"
   ]
  },
  {
   "cell_type": "code",
   "execution_count": null,
   "metadata": {
    "collapsed": false
   },
   "outputs": [],
   "source": [
    "def main():\n",
    "    \n",
    "    input_string = input(\"Please enter a string: \")\n",
    "    \n",
    "    # create an empty dictionary\n",
    "    output_dict = dict()\n",
    "    \n",
    "    # TODO: create a dictionary from the input_string\n",
    "    #\n",
    "    \n",
    "    print(output_dict)\n",
    "    \n",
    "# call the main function\n",
    "main()"
   ]
  },
  {
   "cell_type": "markdown",
   "metadata": {
    "collapsed": true
   },
   "source": [
    "<h3>Problem #4</h3>\n",
    "<p>Write a program that receives a string from user and then outputs the number of unique characters as well as the numbers of unique words.</p>\n",
    "```python\n",
    "input_string = 'The faith that he had had had had an affect on his life.'\n",
    "\n",
    "Unique chars: 15\n",
    "Unique words: 10\n",
    "```"
   ]
  },
  {
   "cell_type": "code",
   "execution_count": null,
   "metadata": {
    "collapsed": false
   },
   "outputs": [],
   "source": [
    "def main():\n",
    "    \n",
    "    input_string = input(\"Please enter a string: \")\n",
    "    \n",
    "    # initialize variables\n",
    "    num_chars = 0\n",
    "    num_words = 0\n",
    "    \n",
    "    # TODO: count the unique characters and words in the input_string\n",
    "    #\n",
    "    \n",
    "    print('Unique chars:', num_chars)\n",
    "    print('Unique words:', num_words)\n",
    "    \n",
    "# call the main function\n",
    "main()"
   ]
  },
  {
   "cell_type": "code",
   "execution_count": null,
   "metadata": {
    "collapsed": true
   },
   "outputs": [],
   "source": []
  }
 ],
 "metadata": {
  "kernelspec": {
   "display_name": "Python 3",
   "language": "python",
   "name": "python3"
  },
  "language_info": {
   "codemirror_mode": {
    "name": "ipython",
    "version": 3
   },
   "file_extension": ".py",
   "mimetype": "text/x-python",
   "name": "python",
   "nbconvert_exporter": "python",
   "pygments_lexer": "ipython3",
   "version": "3.5.2"
  }
 },
 "nbformat": 4,
 "nbformat_minor": 1
}
