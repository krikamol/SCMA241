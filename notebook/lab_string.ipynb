{
 "cells": [
  {
   "cell_type": "markdown",
   "metadata": {},
   "source": [
    "<h1>Lab 5: String</h1>"
   ]
  },
  {
   "cell_type": "markdown",
   "metadata": {},
   "source": [
    "<h3>Problem #0</h3>\n",
    "<p>Write a program that gets a string as an input and then prints out the total number of small letters ($S$), capital letters ($C$), and digits ($D$) in the string. It should all other special characters. </p>"
   ]
  },
  {
   "cell_type": "code",
   "execution_count": null,
   "metadata": {
    "collapsed": false
   },
   "outputs": [],
   "source": [
    "my_string = input('Enter a string: ')\n",
    "\n",
    "# print out the numbers of small letters , capital letters, and digits\n",
    "#\n",
    "# Examples: \n",
    "#   Input = 'abcDEF123', Output: S=3, C=3, D=3\n",
    "#   Input = '167d6D9fF', Output: S=2, C=2, D=5\n",
    "#   Input = '%&99ABC', Output: S=0, C=3, D=2 "
   ]
  },
  {
   "cell_type": "markdown",
   "metadata": {},
   "source": [
    "<h3>Problem #1</h3>\n",
    "<p>Write a program that gets a string as an input and then counts the number of occurrences of a character in the string.</p>"
   ]
  },
  {
   "cell_type": "code",
   "execution_count": null,
   "metadata": {
    "collapsed": false
   },
   "outputs": [],
   "source": [
    "my_string = input('Enter a string: ')\n",
    "\n",
    "# count the number of occurrences of a character in the string\n",
    "#\n",
    "# Examples:\n",
    "#   Input = 'abbccc', Output: a=1, b=2, c=3\n",
    "#   Input = 'aAAbBBCC', Output: a=1, A=2, b=1, B=2, C=2\n",
    "#   Input = 'ZZZZZ', Output: Z=5"
   ]
  },
  {
   "cell_type": "markdown",
   "metadata": {},
   "source": [
    "<h3>Problem #2</h3>\n",
    "<p>Write a program that gets a sentence as an input and then counts the number of words in the sentence. A word must consist of at least 3 characters.</p>"
   ]
  },
  {
   "cell_type": "code",
   "execution_count": null,
   "metadata": {
    "collapsed": false
   },
   "outputs": [],
   "source": [
    "my_sentence = input('Enter a sentence: ')\n",
    "\n",
    "# count the number of words\n",
    "#\n",
    "# Examples:\n",
    "#    Input = 'This is a sentence', Output: 2\n",
    "#    Input = 'The SCMA241 instructor is very handsome', Output: 5\n",
    "#    Input = 'The students are all smart', Output: 5"
   ]
  },
  {
   "cell_type": "markdown",
   "metadata": {},
   "source": [
    "<h3>Problem #3</h3>\n",
    "<p>Write a program that gets a list of integer numbers separated by comma as an input and then finds an average of these numbers.</p>"
   ]
  },
  {
   "cell_type": "code",
   "execution_count": null,
   "metadata": {
    "collapsed": false
   },
   "outputs": [],
   "source": [
    "my_numbers = input('Enter a list of integers separated by comma: ')\n",
    "\n",
    "# find an average of numbers\n",
    "#\n",
    "# Examples:\n",
    "#    Input = 1,2,3,4,5 Output = 3.0\n",
    "#    Input = 2,4,6,8   Output = 5.0\n",
    "#    Input = 2,2,2     Output = 2.0"
   ]
  },
  {
   "cell_type": "markdown",
   "metadata": {},
   "source": [
    "<h3>Problem #4 (Dictionary)</h3>\n",
    "<p>Write a simple dictionary program: \n",
    "<ul>\n",
    "<li>Ask the user to enter words and their meanings until he/she is happy,</li>\n",
    "<li>After that, the program asks the user to enter another word. The program should then lookup the meaning of this word stored in the dictionary.</li>\n",
    "<li>The program should print the error message if the word that the user entered does not exist in the dictionary.</li>\n",
    "</ul>\n",
    "</p>"
   ]
  },
  {
   "cell_type": "code",
   "execution_count": null,
   "metadata": {
    "collapsed": false
   },
   "outputs": [],
   "source": [
    "# TODO"
   ]
  }
 ],
 "metadata": {
  "kernelspec": {
   "display_name": "Python 3",
   "language": "python",
   "name": "python3"
  },
  "language_info": {
   "codemirror_mode": {
    "name": "ipython",
    "version": 3
   },
   "file_extension": ".py",
   "mimetype": "text/x-python",
   "name": "python",
   "nbconvert_exporter": "python",
   "pygments_lexer": "ipython3",
   "version": "3.5.2"
  }
 },
 "nbformat": 4,
 "nbformat_minor": 1
}
