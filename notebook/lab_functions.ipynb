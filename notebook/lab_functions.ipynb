{
 "cells": [
  {
   "cell_type": "markdown",
   "metadata": {},
   "source": [
    "<h1>Lab : Functions</h1>"
   ]
  },
  {
   "cell_type": "markdown",
   "metadata": {},
   "source": [
    "<h3>Problem #0</h3>\n",
    "<p>xxx</p>"
   ]
  },
  {
   "cell_type": "code",
   "execution_count": null,
   "metadata": {
    "collapsed": false
   },
   "outputs": [],
   "source": [
    "# template of the program\n",
    "\n",
    "# function 1\n",
    "def function_1():\n",
    "    print('function 1')\n",
    "    \n",
    "# function 2\n",
    "def function_2():\n",
    "    print('function 2')\n",
    "\n",
    "# function 3\n",
    "def function_3():\n",
    "    print('function 3')\n",
    "\n",
    "# main function\n",
    "def main():\n",
    "    print('Main function')\n",
    "    function_1()\n",
    "    function_2()\n",
    "    function_3()\n",
    "    \n",
    "# call the main function\n",
    "main()"
   ]
  },
  {
   "cell_type": "markdown",
   "metadata": {},
   "source": [
    "<h3>Problem #1</h3>\n",
    "<p>Write a function that calculates an <b>area</b> and a <b>circumference</b> of the circle given the redius (use math module to obtain the value of $\\pi$)</p>"
   ]
  },
  {
   "cell_type": "code",
   "execution_count": null,
   "metadata": {
    "collapsed": false
   },
   "outputs": [],
   "source": [
    "import math\n",
    "\n",
    "def area(radius):\n",
    "    \"\"\" find an area of a circle \"\"\"\n",
    "    # TODO\n",
    "    \n",
    "def circumference(radius):\n",
    "    \"\"\" find a circumference of a circle \"\"\"\n",
    "    # TODO\n",
    "    \n",
    "def main():\n",
    "    \"\"\" the main function \"\"\"\n",
    "    r = float(input('Radius : '))\n",
    "    my_area = area(r)\n",
    "    my_circumference = circumference(r)\n",
    "    \n",
    "    print(\"Area =\",my_area)\n",
    "    print(\"Circumference =\",my_circumference)\n",
    "    \n",
    "main()"
   ]
  },
  {
   "cell_type": "markdown",
   "metadata": {
    "collapsed": true
   },
   "source": [
    "<h3>Problem #2</h3>\n",
    "<p>Write <b>find_min</b> and <b>find_max</b> functions which receive a list of numbers as an argument and return the minimum number and maximum number in the list.</p>"
   ]
  },
  {
   "cell_type": "code",
   "execution_count": null,
   "metadata": {
    "collapsed": false
   },
   "outputs": [],
   "source": [
    "# find_min function\n",
    "\n",
    "\n",
    "# find_max function\n",
    "\n",
    "\n",
    "def main():\n",
    "    \"\"\" the main function \"\"\"\n",
    "    list_numbers = [9,5,3,4,6,9,12,4,1]\n",
    "    min_number = find_min(list_numbers)\n",
    "    max_number = find_max(list_numbers)\n",
    "    \n",
    "    print(\"Minimum =\",min_number)\n",
    "    print(\"Maximum =\",max_number)\n",
    "    \n",
    "main()"
   ]
  },
  {
   "cell_type": "markdown",
   "metadata": {
    "collapsed": true
   },
   "source": [
    "<h3>Problem #3</h3>\n",
    "<p>Write a <b>sum_multiply</b> function which receives a list of numbers as an argument and returns the total sum and multiplication of numbers in the list.</p>"
   ]
  },
  {
   "cell_type": "code",
   "execution_count": null,
   "metadata": {
    "collapsed": false
   },
   "outputs": [],
   "source": [
    "# sum_multiply function\n",
    "\n",
    "def main():\n",
    "    list_numbers = [9,5,3,4,6,9,12,4,1]\n",
    "    sum_value, mul_value = sum_multiply(list_numbers)\n",
    "    \n",
    "    print(\"Total sum =\",sum_value)\n",
    "    print(\"Total multiplication =\",mul_value)\n",
    "    \n",
    "main()"
   ]
  },
  {
   "cell_type": "markdown",
   "metadata": {
    "collapsed": true
   },
   "source": [
    "<h3>Problem #4</h3>\n",
    "<p>Write a function called <b>factorial</b> that receives a non-negative integer as an argument and calculates the factorial of that number.</p>"
   ]
  },
  {
   "cell_type": "code",
   "execution_count": null,
   "metadata": {
    "collapsed": false
   },
   "outputs": [],
   "source": [
    "# sum_multiply function\n",
    "\n",
    "def main():\n",
    "    \n",
    "    result_1 = factorial(5)  # return 5!\n",
    "    result_2 = factorial(10) # return 10!\n",
    "    \n",
    "    print(result_1, result_2)\n",
    "     \n",
    "main()"
   ]
  },
  {
   "cell_type": "markdown",
   "metadata": {},
   "source": [
    "<h3>Problem #5</h3>\n",
    "<p>Write a function that takes a list and returns a new list with unique elements of the first list.</p>\n",
    "```python\n",
    "Sample List : [1,2,3,3,3,3,4,5]\n",
    "Unique List : [1, 2, 3, 4, 5]\n",
    "\n",
    "```"
   ]
  },
  {
   "cell_type": "code",
   "execution_count": null,
   "metadata": {
    "collapsed": true
   },
   "outputs": [],
   "source": []
  }
 ],
 "metadata": {
  "kernelspec": {
   "display_name": "Python 3",
   "language": "python",
   "name": "python3"
  },
  "language_info": {
   "codemirror_mode": {
    "name": "ipython",
    "version": 3
   },
   "file_extension": ".py",
   "mimetype": "text/x-python",
   "name": "python",
   "nbconvert_exporter": "python",
   "pygments_lexer": "ipython3",
   "version": "3.5.2"
  }
 },
 "nbformat": 4,
 "nbformat_minor": 1
}
