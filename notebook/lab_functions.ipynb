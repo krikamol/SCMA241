{
 "cells": [
  {
   "cell_type": "markdown",
   "metadata": {},
   "source": [
    "<h1>SCMA241 Lab : Functions</h1>"
   ]
  },
  {
   "cell_type": "code",
   "execution_count": 2,
   "metadata": {
    "collapsed": false
   },
   "outputs": [
    {
     "name": "stdout",
     "output_type": "stream",
     "text": [
      "Main function\n",
      "function 1\n",
      "function 2\n",
      "function 3\n"
     ]
    }
   ],
   "source": [
    "# template of the program\n",
    "\n",
    "# function 1\n",
    "def function_1():\n",
    "    print('function 1')\n",
    "    \n",
    "# function 2\n",
    "def function_2():\n",
    "    print('function 2')\n",
    "\n",
    "# function 3\n",
    "def function_3():\n",
    "    print('function 3')\n",
    "\n",
    "# main function\n",
    "def main():\n",
    "    print('Main function')\n",
    "    function_1()\n",
    "    function_2()\n",
    "    function_3()\n",
    "    \n",
    "# call the main function\n",
    "main()"
   ]
  },
  {
   "cell_type": "code",
   "execution_count": 3,
   "metadata": {
    "collapsed": false
   },
   "outputs": [
    {
     "name": "stdout",
     "output_type": "stream",
     "text": [
      "Radius : 5\n",
      "78.53981633974483\n",
      "31.41592653589793\n"
     ]
    }
   ],
   "source": [
    "# area and circumference of the circle (use math module)\n",
    "import math\n",
    "\n",
    "def area(radius):\n",
    "    # find area\n",
    "    area_circle = math.pi*radius*radius\n",
    "    return area_circle\n",
    "    \n",
    "def circumference(radius):\n",
    "    # find circumference\n",
    "    circ = math.pi*2*radius\n",
    "    return circ\n",
    "    \n",
    "def main():\n",
    "    r = float(input('Radius : '))\n",
    "    a = area(r)\n",
    "    b = circumference(r)\n",
    "    \n",
    "    print(a)\n",
    "    print(b)\n",
    "    \n",
    "main()"
   ]
  },
  {
   "cell_type": "code",
   "execution_count": 4,
   "metadata": {
    "collapsed": true
   },
   "outputs": [],
   "source": [
    "# min and max functions (with list as an argument)"
   ]
  },
  {
   "cell_type": "code",
   "execution_count": 5,
   "metadata": {
    "collapsed": false
   },
   "outputs": [
    {
     "name": "stdout",
     "output_type": "stream",
     "text": [
      "1\n"
     ]
    }
   ],
   "source": [
    "def min_fun(numbers):\n",
    "    # find minimum\n",
    "    min_val = math.inf\n",
    "    \n",
    "    for i in numbers:\n",
    "        if i < min_val:\n",
    "            min_val = i\n",
    "    \n",
    "    return min_val\n",
    "    \n",
    "def main():\n",
    "    list_numbers = [9,5,3,4,6,9,12,4,1]\n",
    "    min_number = min_fun(list_numbers)\n",
    "    \n",
    "    print(min_number)\n",
    "    \n",
    "main()"
   ]
  },
  {
   "cell_type": "code",
   "execution_count": 6,
   "metadata": {
    "collapsed": true
   },
   "outputs": [],
   "source": [
    "# sum and multiply functions (with list as an argument)"
   ]
  },
  {
   "cell_type": "code",
   "execution_count": 7,
   "metadata": {
    "collapsed": false
   },
   "outputs": [
    {
     "name": "stdout",
     "output_type": "stream",
     "text": [
      "53.0\n",
      "53\n"
     ]
    }
   ],
   "source": [
    "def sum_fun(numbers):\n",
    "    # find sum\n",
    "    sum_val = 0.0\n",
    "    \n",
    "    for i in numbers:\n",
    "        sum_val += i\n",
    "        \n",
    "    return sum_val\n",
    "    \n",
    "def main():\n",
    "    list_numbers = [9,5,3,4,6,9,12,4,1]\n",
    "    sum_value = sum_fun(list_numbers)\n",
    "    \n",
    "    print(sum_value)\n",
    "    print(sum(list_numbers))\n",
    "    \n",
    "main()\n"
   ]
  },
  {
   "cell_type": "code",
   "execution_count": 8,
   "metadata": {
    "collapsed": true
   },
   "outputs": [],
   "source": [
    "# is_member function"
   ]
  },
  {
   "cell_type": "code",
   "execution_count": 9,
   "metadata": {
    "collapsed": false
   },
   "outputs": [
    {
     "name": "stdout",
     "output_type": "stream",
     "text": [
      "YES!\n"
     ]
    }
   ],
   "source": [
    "def is_member(numbers,n):\n",
    "    # find if n is a member of numbers\n",
    "    is_mem = False\n",
    "    \n",
    "    for i in numbers:\n",
    "        if i == n:\n",
    "            is_mem = True\n",
    "    \n",
    "    return is_mem\n",
    "\n",
    "def main():\n",
    "    num = 12\n",
    "    list_numbers = [9,5,3,4,6,9,12,4,1]\n",
    "    \n",
    "    if num in list_numbers:\n",
    "        print('YES!')\n",
    "    else:\n",
    "        print('NO!')\n",
    "    \n",
    "main()"
   ]
  },
  {
   "cell_type": "code",
   "execution_count": 10,
   "metadata": {
    "collapsed": true
   },
   "outputs": [],
   "source": [
    "# a guessing game : a user enters one number. The program must tell whether it is smaller or larger than the true number. The program terminates when the user enters the correct number. [while loop]\n",
    "# ** break into multiple functions:\n",
    "# ***** get player’s name\n",
    "# ***** get input number\n",
    "# ***** check the input number\n",
    "\n",
    "# Hello! What is your name?\n",
    "# Krikamol\n",
    "# Good afternoon, Krikamol, I am thinking of a number between 1 and 100.\n",
    "# Take a guess.\n",
    "# 10\n",
    "# Your guess is too low.\n",
    "# Take a guess.\n",
    "# 15\n",
    "# Your guess is too low.\n",
    "# Take a guess.\n",
    "# 18\n",
    "# Good job, Krikamol! You guessed my number in 3 guesses!"
   ]
  },
  {
   "cell_type": "code",
   "execution_count": 1,
   "metadata": {
    "collapsed": false
   },
   "outputs": [
    {
     "name": "stdout",
     "output_type": "stream",
     "text": [
      "Hello, what is your name? Krikamol\n",
      "Good afternoon,  Krikamol , I am thinking of a number between 1 and 100.\n",
      "Take a guess : 50\n",
      "Your guess is too low.\n",
      "Take a guess : 100\n",
      "Your guess is too high.\n",
      "Take a guess : 75\n",
      "Your guess is too high.\n",
      "Take a guess : 60\n",
      "Your guess is too low.\n",
      "Take a guess : 65\n",
      "Your guess is too low.\n",
      "Take a guess : 70\n",
      "Your guess is too low.\n",
      "Take a guess : 71\n",
      "Your guess is too low.\n",
      "Take a guess : 73\n",
      "Your guess is too low.\n",
      "Take a guess : 74\n",
      "Good job,  Krikamol\n",
      "You guessed my number in 9  guesses\n"
     ]
    }
   ],
   "source": [
    "import random\n",
    "\n",
    "def get_name():\n",
    "    # get player's name\n",
    "    name = input('Hello, what is your name? ')\n",
    "    print('Good afternoon, ', name,', I am thinking of a number between 1 and 100.')\n",
    "    return name\n",
    "\n",
    "def take_guess():\n",
    "    # take a guess\n",
    "    num = int(input('Take a guess : '))\n",
    "    return num\n",
    "    \n",
    "def check_number(true_val,guess_val):\n",
    "    # check the guessed number\n",
    "    is_end = False\n",
    "    \n",
    "    if guess_val < true_val:\n",
    "        print('Your guess is too low.')\n",
    "    elif guess_val > true_val:\n",
    "        print('Your guess is too high.')\n",
    "    else:\n",
    "        is_end = True\n",
    "        \n",
    "    return is_end\n",
    "    \n",
    "def main():\n",
    "    # guess a number game\n",
    "    true_number = random.randint(1,100)\n",
    "    player_name = get_name()\n",
    "    guess_number = take_guess()\n",
    "    \n",
    "    num_of_guess = 1\n",
    "    \n",
    "    while (not check_number(true_number,guess_number)):\n",
    "        guess_number = take_guess()\n",
    "        num_of_guess += 1\n",
    "    \n",
    "    print('Good job, ',player_name)\n",
    "    print('You guessed my number in', num_of_guess,' guesses')\n",
    "    \n",
    "main()"
   ]
  },
  {
   "cell_type": "code",
   "execution_count": null,
   "metadata": {
    "collapsed": false
   },
   "outputs": [],
   "source": [
    "help(random.randint)"
   ]
  },
  {
   "cell_type": "code",
   "execution_count": null,
   "metadata": {
    "collapsed": true
   },
   "outputs": [],
   "source": []
  }
 ],
 "metadata": {
  "kernelspec": {
   "display_name": "Python 3",
   "language": "python",
   "name": "python3"
  },
  "language_info": {
   "codemirror_mode": {
    "name": "ipython",
    "version": 3
   },
   "file_extension": ".py",
   "mimetype": "text/x-python",
   "name": "python",
   "nbconvert_exporter": "python",
   "pygments_lexer": "ipython3",
   "version": "3.5.2"
  }
 },
 "nbformat": 4,
 "nbformat_minor": 1
}
