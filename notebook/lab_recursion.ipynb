{
 "cells": [
  {
   "cell_type": "markdown",
   "metadata": {},
   "source": [
    "<h1>Recursive Functions</h1>"
   ]
  },
  {
   "cell_type": "code",
   "execution_count": 1,
   "metadata": {
    "collapsed": false
   },
   "outputs": [
    {
     "name": "stdout",
     "output_type": "stream",
     "text": [
      "The sum is 12\n"
     ]
    }
   ],
   "source": [
    "# a recursive function to find a sum of a list of numbers\n",
    "\n",
    "def recursive_sum(mylist):\n",
    "    \n",
    "    if len(mylist) == 1: # check base case\n",
    "        return mylist[0]\n",
    "    else:\n",
    "        # recursive case\n",
    "        return mylist[0]+recursive_sum(mylist[1:])\n",
    "    \n",
    "def main():\n",
    "    num_list = [2,4,6]\n",
    "    \n",
    "    sum_num = recursive_sum(num_list)\n",
    "    \n",
    "    print('The sum is',sum_num)\n",
    "    \n",
    "main()"
   ]
  },
  {
   "cell_type": "code",
   "execution_count": 2,
   "metadata": {
    "collapsed": false
   },
   "outputs": [
    {
     "name": "stdout",
     "output_type": "stream",
     "text": [
      "The maximum value is 4\n"
     ]
    }
   ],
   "source": [
    "# a recursive function to find a maximum or minimum value in the list\n",
    "def find_max(mylist):\n",
    "    \n",
    "    if len(mylist) == 1: # base case\n",
    "        return mylist[0]\n",
    "    else:\n",
    "        # recursive case\n",
    "        b = find_max(mylist[1:])\n",
    "        if mylist[0] > b:\n",
    "            return mylist[0]\n",
    "        else:\n",
    "            return b\n",
    "    \n",
    "def main():\n",
    "    num_list = [-1,2,-9,4,3]\n",
    "    \n",
    "    max_val = find_max(num_list)\n",
    "    \n",
    "    print('The maximum value is',max_val)\n",
    "    \n",
    "main()"
   ]
  },
  {
   "cell_type": "code",
   "execution_count": 3,
   "metadata": {
    "collapsed": false
   },
   "outputs": [
    {
     "name": "stdout",
     "output_type": "stream",
     "text": [
      "abcDEF\n",
      "FEDcba\n"
     ]
    }
   ],
   "source": [
    "# a recursive function to find a reverse of a string\n",
    "def reverse_string(mystr):\n",
    "    if len(mystr) == 1:\n",
    "        return mystr\n",
    "    else:\n",
    "        #return mystr[-1] + reverse_string(mystr[0:-1])\n",
    "        return reverse_string(mystr[1:]) + mystr[0]\n",
    "    \n",
    "def main():\n",
    "    mystr = 'abcDEF'\n",
    "    \n",
    "    reverse_str = reverse_string(mystr)\n",
    "    \n",
    "    print(mystr)\n",
    "    print(reverse_str)\n",
    "main()"
   ]
  },
  {
   "cell_type": "code",
   "execution_count": 4,
   "metadata": {
    "collapsed": true
   },
   "outputs": [],
   "source": []
  },
  {
   "cell_type": "code",
   "execution_count": null,
   "metadata": {
    "collapsed": true
   },
   "outputs": [],
   "source": []
  }
 ],
 "metadata": {
  "kernelspec": {
   "display_name": "Python 3",
   "language": "python",
   "name": "python3"
  },
  "language_info": {
   "codemirror_mode": {
    "name": "ipython",
    "version": 3
   },
   "file_extension": ".py",
   "mimetype": "text/x-python",
   "name": "python",
   "nbconvert_exporter": "python",
   "pygments_lexer": "ipython3",
   "version": "3.5.2"
  }
 },
 "nbformat": 4,
 "nbformat_minor": 1
}
