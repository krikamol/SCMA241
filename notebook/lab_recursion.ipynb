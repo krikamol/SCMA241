{
 "cells": [
  {
   "cell_type": "markdown",
   "metadata": {},
   "source": [
    "<h1>Lab: Recursive Functions</h1>"
   ]
  },
  {
   "cell_type": "markdown",
   "metadata": {},
   "source": [
    "<h3>Problem #0</h3>\n",
    "<p>Write a recursive function to find a consecutive sum of numbers from 1 to $N$ where $N \\geq 1$.</p>"
   ]
  },
  {
   "cell_type": "code",
   "execution_count": null,
   "metadata": {
    "collapsed": false
   },
   "outputs": [],
   "source": [
    "def consecutive_sum(N):\n",
    "    # TODO\n",
    "    \n",
    "def main():\n",
    "    \n",
    "    N = 10\n",
    "    \n",
    "    sum_num = consecutive_sum(N)\n",
    "    \n",
    "    print('The sum is',sum_num)\n",
    "    \n",
    "main()"
   ]
  },
  {
   "cell_type": "markdown",
   "metadata": {},
   "source": [
    "<h3>Problem #1</h3>\n",
    "<p>Write a recursive function to find a sum of numbers in a list.</p>"
   ]
  },
  {
   "cell_type": "code",
   "execution_count": null,
   "metadata": {
    "collapsed": false
   },
   "outputs": [],
   "source": [
    "def recursive_sum(mylist):\n",
    "    # TODO\n",
    "    \n",
    "def main():\n",
    "    \n",
    "    num_list = [2,4,6]\n",
    "    \n",
    "    sum_num = recursive_sum(num_list)\n",
    "    \n",
    "    print('The sum is',sum_num)\n",
    "    \n",
    "main()"
   ]
  },
  {
   "cell_type": "markdown",
   "metadata": {},
   "source": [
    "<h3>Problem #2</h3>\n",
    "<p>Write a recursive function to find a maximum or a minimum value in the list.</p>"
   ]
  },
  {
   "cell_type": "code",
   "execution_count": null,
   "metadata": {
    "collapsed": false
   },
   "outputs": [],
   "source": [
    "def find_max(mylist):\n",
    "    \n",
    "    # TODO\n",
    "    \n",
    "def main():\n",
    "    \n",
    "    num_list = [-1,2,-9,4,3]\n",
    "    \n",
    "    max_val = find_max(num_list)\n",
    "    \n",
    "    print('The maximum value is',max_val)\n",
    "    \n",
    "main()"
   ]
  },
  {
   "cell_type": "markdown",
   "metadata": {},
   "source": [
    "<h3>Problem #3</h3>\n",
    "<p>Write a recursive function to find a reverse of a string.</p>"
   ]
  },
  {
   "cell_type": "code",
   "execution_count": null,
   "metadata": {
    "collapsed": false
   },
   "outputs": [],
   "source": [
    "def reverse_string(mystr):\n",
    "    \n",
    "    # TODO\n",
    "    \n",
    "def main():\n",
    "    \n",
    "    mystr = 'abcDEF'\n",
    "    \n",
    "    reverse_str = reverse_string(mystr)\n",
    "    \n",
    "    print(mystr) # 'abcDEF'\n",
    "    print(reverse_str) # 'FEDcba'\n",
    "    \n",
    "main()"
   ]
  },
  {
   "cell_type": "code",
   "execution_count": null,
   "metadata": {
    "collapsed": true
   },
   "outputs": [],
   "source": []
  }
 ],
 "metadata": {
  "kernelspec": {
   "display_name": "Python 3",
   "language": "python",
   "name": "python3"
  },
  "language_info": {
   "codemirror_mode": {
    "name": "ipython",
    "version": 3
   },
   "file_extension": ".py",
   "mimetype": "text/x-python",
   "name": "python",
   "nbconvert_exporter": "python",
   "pygments_lexer": "ipython3",
   "version": "3.5.2"
  }
 },
 "nbformat": 4,
 "nbformat_minor": 1
}
