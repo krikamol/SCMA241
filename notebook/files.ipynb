{
 "cells": [
  {
   "cell_type": "markdown",
   "metadata": {},
   "source": [
    "<h1>Files</h1>\n",
    "\n",
    "<strong>Acknowledgement</strong> : the contents of this notebook are partially based on the book <i>\"Starting Out with Python (3rd Edition)\"</i>.\n",
    "\n",
    "<p>When a program needs to save data for later use, it writes the data in a file. The data can be read from the file at a later time. Examples of commercial softwares that save data to files include word processors, image editors, spreadsheets, and games.<br><br>\n",
    "\n",
    "There are always three steps that must be taken when using a file in a program.\n",
    "<ul>\n",
    "<li>Open the file</li>\n",
    "<li>Process the file</li>\n",
    "<li>Close the file</li>\n",
    "</ul>\n",
    "</p>"
   ]
  },
  {
   "cell_type": "markdown",
   "metadata": {},
   "source": [
    "<h3>Opening a file</h3>\n",
    "<p>To open a file, use the following command:</p>\n",
    "\n",
    "```python\n",
    "file_variable = open(filename,mode)\n",
    "```\n",
    "\n",
    "<p>The second argument <b>mode</b> tells the interpreter which way the file will be used. The available modes are\n",
    "<ul>\n",
    "<li>'r' - read only mode</li>\n",
    "<li>'w' - write only mode</li>\n",
    "<li>'a' - appending mode</li>\n",
    "<li>'r+' - special read and write mode</li>\n",
    "</ul>\n",
    "</p>"
   ]
  },
  {
   "cell_type": "code",
   "execution_count": 2,
   "metadata": {
    "collapsed": false
   },
   "outputs": [],
   "source": [
    "student_file = open('students.txt','r')"
   ]
  },
  {
   "cell_type": "code",
   "execution_count": 5,
   "metadata": {
    "collapsed": false
   },
   "outputs": [
    {
     "name": "stdout",
     "output_type": "stream",
     "text": [
      "<class '_io.TextIOWrapper'>\n"
     ]
    }
   ],
   "source": [
    "print(type(student_file))"
   ]
  },
  {
   "cell_type": "code",
   "execution_count": 11,
   "metadata": {
    "collapsed": true
   },
   "outputs": [],
   "source": [
    "customer_file = open('customers.txt','w')"
   ]
  },
  {
   "cell_type": "code",
   "execution_count": 12,
   "metadata": {
    "collapsed": false
   },
   "outputs": [
    {
     "name": "stdout",
     "output_type": "stream",
     "text": [
      "<class '_io.TextIOWrapper'>\n"
     ]
    }
   ],
   "source": [
    "print(type(customer_file))"
   ]
  },
  {
   "cell_type": "markdown",
   "metadata": {},
   "source": [
    "<h3>Writing data to a file</h3>\n",
    "<p>After opening a file, we can manipulate the file including reading from and writing to it. For example, we can write data to the file using the following command:</p> \n",
    "\n",
    "```python\n",
    "file_variable.write(string)\n",
    "```\n",
    "\n",
    "**note that write() is a method associated with the file object."
   ]
  },
  {
   "cell_type": "code",
   "execution_count": 13,
   "metadata": {
    "collapsed": false
   },
   "outputs": [
    {
     "data": {
      "text/plain": [
       "17"
      ]
     },
     "execution_count": 13,
     "metadata": {},
     "output_type": "execute_result"
    }
   ],
   "source": [
    "customer_file.write('Krikamol Muandet\\n')"
   ]
  },
  {
   "cell_type": "code",
   "execution_count": 14,
   "metadata": {
    "collapsed": false
   },
   "outputs": [
    {
     "data": {
      "text/plain": [
       "11"
      ]
     },
     "execution_count": 14,
     "metadata": {},
     "output_type": "execute_result"
    }
   ],
   "source": [
    "name = 'Johny Depp\\n'\n",
    "customer_file.write(name)"
   ]
  },
  {
   "cell_type": "markdown",
   "metadata": {},
   "source": [
    "<p>To finalize the file manipulation, the file should be closed using the following command:</p>\n",
    "\n",
    "```python\n",
    "file_variable.close()\n",
    "```"
   ]
  },
  {
   "cell_type": "code",
   "execution_count": 15,
   "metadata": {
    "collapsed": false
   },
   "outputs": [],
   "source": [
    "# closing a file\n",
    "customer_file.close()"
   ]
  },
  {
   "cell_type": "markdown",
   "metadata": {},
   "source": [
    "<h3>Reading data from a file</h3>\n",
    "<p>To read data from a file, use the following command:</p>\n",
    "\n",
    "```python\n",
    "file_content = file_variable.read()\n",
    "```"
   ]
  },
  {
   "cell_type": "code",
   "execution_count": 27,
   "metadata": {
    "collapsed": false
   },
   "outputs": [
    {
     "name": "stdout",
     "output_type": "stream",
     "text": [
      "Krikamol Muandet\n",
      "Johny Depp\n",
      "\n"
     ]
    }
   ],
   "source": [
    "def main():\n",
    "    # open a file named customers.txt.\n",
    "    infile = open('customers.txt','r')\n",
    "    \n",
    "    # read the file's content \n",
    "    file_contents = infile.read()\n",
    "    \n",
    "    # close the file \n",
    "    infile.close()\n",
    "    \n",
    "    # print the file's content\n",
    "    print(file_contents)\n",
    "    \n",
    "# call the main function\n",
    "main()"
   ]
  },
  {
   "cell_type": "markdown",
   "metadata": {},
   "source": [
    "<p>The <b>readline()</b> function can be used when we want to read the data line by line.</p>"
   ]
  },
  {
   "cell_type": "code",
   "execution_count": 16,
   "metadata": {
    "collapsed": false
   },
   "outputs": [
    {
     "name": "stdout",
     "output_type": "stream",
     "text": [
      "Krikamol Muandet\n",
      "\n",
      "Johny Depp\n",
      "\n"
     ]
    }
   ],
   "source": [
    "# readline function\n",
    "def main():\n",
    "    #open a file named customers.txt.\n",
    "    infile = open('customers.txt','r')\n",
    "    \n",
    "    # read two lines from the file \n",
    "    line1 = infile.readline()\n",
    "    line2 = infile.readline()\n",
    "    \n",
    "    # close the file \n",
    "    infile.close()\n",
    "    \n",
    "    # print the file's content\n",
    "    print(line1)\n",
    "    print(line2)\n",
    "    \n",
    "# call the main function\n",
    "main()"
   ]
  },
  {
   "cell_type": "markdown",
   "metadata": {},
   "source": [
    "<h3>Concatenating a newline to a string</h3>"
   ]
  },
  {
   "cell_type": "code",
   "execution_count": 18,
   "metadata": {
    "collapsed": false
   },
   "outputs": [
    {
     "name": "stdout",
     "output_type": "stream",
     "text": [
      "Enter the names of three friends.\n",
      "Friend #1: john\n",
      "Friend #2: jack\n",
      "Friend #3: joe\n",
      "The names were written to friends.txt.\n"
     ]
    }
   ],
   "source": [
    "def main():\n",
    "    # get three names\n",
    "    print('Enter the names of three friends.')\n",
    "    name1 = input('Friend #1: ')\n",
    "    name2 = input('Friend #2: ')\n",
    "    name3 = input('Friend #3: ')\n",
    "    \n",
    "    # open a file named friends.txt\n",
    "    myfile = open('friends.txt','w')\n",
    "    \n",
    "    # write the names to the file\n",
    "    myfile.write(name1 + '\\n')\n",
    "    myfile.write(name2 + '\\n')\n",
    "    myfile.write(name3 + '\\n')\n",
    "    \n",
    "    # close the file \n",
    "    myfile.close()\n",
    "    print('The names were written to friends.txt.')\n",
    "    \n",
    "# call the main function\n",
    "main()"
   ]
  },
  {
   "cell_type": "markdown",
   "metadata": {},
   "source": [
    "<h3>Reading a string and stripping a newline from it</h3>"
   ]
  },
  {
   "cell_type": "code",
   "execution_count": 19,
   "metadata": {
    "collapsed": false
   },
   "outputs": [
    {
     "name": "stdout",
     "output_type": "stream",
     "text": [
      "Krikamol Muandet\n",
      "Johny Depp\n"
     ]
    }
   ],
   "source": [
    "# rstrip function\n",
    "def main():\n",
    "    #open a file named customers.txt.\n",
    "    infile = open('customers.txt','r')\n",
    "    \n",
    "    # read two lines from the file \n",
    "    line1 = infile.readline()\n",
    "    line2 = infile.readline()\n",
    "    \n",
    "    # close the file \n",
    "    infile.close()\n",
    "    \n",
    "    # strip the \\n from each string\n",
    "    line1 = line1.rstrip('\\n')\n",
    "    line2 = line2.rstrip('\\n')\n",
    "    \n",
    "    # print the file's content\n",
    "    print(line1)\n",
    "    print(line2)\n",
    "    \n",
    "# call the main function\n",
    "main()"
   ]
  },
  {
   "cell_type": "markdown",
   "metadata": {},
   "source": [
    "<h3>Appending data to an existing file</h3>"
   ]
  },
  {
   "cell_type": "code",
   "execution_count": 20,
   "metadata": {
    "collapsed": true
   },
   "outputs": [],
   "source": [
    "myfile = open('customers.txt','a')\n",
    "myfile.write('John\\n')\n",
    "myfile.write('Chris\\n')\n",
    "myfile.close()"
   ]
  },
  {
   "cell_type": "markdown",
   "metadata": {},
   "source": [
    "<h3>Writing and reading numeric data</h3>"
   ]
  },
  {
   "cell_type": "code",
   "execution_count": 21,
   "metadata": {
    "collapsed": false
   },
   "outputs": [
    {
     "name": "stdout",
     "output_type": "stream",
     "text": [
      "Enter a number : 10\n",
      "Enter another number : 15\n",
      "Enter another number : 20\n",
      "Data written to numbers.txt\n"
     ]
    }
   ],
   "source": [
    "# This program demonstrates how numbers must be converted to string \n",
    "# before they are written to a text file.\n",
    "def main():\n",
    "    # open a file for writing \n",
    "    outfile = open('numbers.txt','w')\n",
    "    \n",
    "    # get three numbers from the user.\n",
    "    num1 = int(input('Enter a number : '))\n",
    "    num2 = int(input('Enter another number : '))\n",
    "    num3 = int(input('Enter another number : '))\n",
    "    \n",
    "    # write the numbers to the file.\n",
    "    outfile.write(str(num1) + '\\n')\n",
    "    outfile.write(str(num2) + '\\n')\n",
    "    outfile.write(str(num3) + '\\n')\n",
    "    \n",
    "    # close the file\n",
    "    outfile.close()\n",
    "    print('Data written to numbers.txt')\n",
    "    \n",
    "# call the main function\n",
    "main()"
   ]
  },
  {
   "cell_type": "code",
   "execution_count": 22,
   "metadata": {
    "collapsed": false
   },
   "outputs": [
    {
     "name": "stdout",
     "output_type": "stream",
     "text": [
      "The numbers are : 10 15 20\n",
      "Their total is : 45\n"
     ]
    }
   ],
   "source": [
    "# This program demonstrates how numbers that are read from a file\n",
    "# must be converted from strings before they are used in a math operation.\n",
    "\n",
    "def main():\n",
    "    # open a file for reading\n",
    "    infile = open('numbers.txt','r')\n",
    "    \n",
    "    # read three numbers from the file.\n",
    "    num1 = int(infile.readline())\n",
    "    num2 = int(infile.readline())\n",
    "    num3 = int(infile.readline())\n",
    "    \n",
    "    # close the file\n",
    "    infile.close()\n",
    "    \n",
    "    # add the three numbers\n",
    "    total = num1 + num2 + num3\n",
    "    \n",
    "    # display the numbers and their total\n",
    "    print('The numbers are :',num1,num2,num3)\n",
    "    print('Their total is :',total)\n",
    "    \n",
    "# call the main function\n",
    "main()"
   ]
  },
  {
   "cell_type": "markdown",
   "metadata": {},
   "source": [
    "<h3>Using Loops to Process Files</h3>\n",
    "<p>Files usually hold large amounts of data, and programs typically use a loop to process the data in a file.</p>"
   ]
  },
  {
   "cell_type": "code",
   "execution_count": 23,
   "metadata": {
    "collapsed": false
   },
   "outputs": [
    {
     "name": "stdout",
     "output_type": "stream",
     "text": [
      "5601033,Mr.,JAKRAWAL,KONGKITPAISAN\n",
      "\n",
      "5805010,Mr.,KANROP,HOOKAEW\n",
      "\n",
      "5805012,Ms.,KANRAWEE,WISETWONGSA\n",
      "\n",
      "5805020,Mr.,KRIANGKRAI,WUTTHISARINGKARN\n",
      "\n",
      "5805032,Ms.,CHARINPORN,UTHONDAN\n",
      "\n",
      "5805037,Mr.,CHETTAPORN,CHUESUPHAN\n",
      "\n",
      "5805045,Ms.,NUTNICHA,THISACHAMADEE\n",
      "\n",
      "5805046,Ms.,NATNICHA,YASINTHORN\n",
      "\n",
      "5805049,Mr.,NATTANON,ATTAKITMONGKOL\n",
      "\n",
      "5805051,Mr.,NUTTAPON,PEUNGTHONG\n",
      "\n",
      "5805052,Ms.,NATTHAMON,SUKPHADUNG\n",
      "\n",
      "5805086,Mr.,PRAPAT,TRAIMURATI\n",
      "\n",
      "5805095,Mr.,PHOTCHARAPHONG,RODMANEE\n",
      "\n",
      "5805097,Ms.,PORNNAPA,KONACHAIYAPOOM\n",
      "\n",
      "5805098,Ms.,PORNSAKUL,BOONSOONTI\n",
      "\n",
      "5805102,Ms.,PATTANAN,BOONYOUKONG\n",
      "\n",
      "5805117,Mr.,MARUT,KUNLAWONG\n",
      "\n",
      "5805161,Ms.,SUPINYA,NOPCHUMNAN\n",
      "\n",
      "5805168,Ms.,ONKANYA,LIMPHATTHARACHAI\n",
      "\n",
      "5805173,Mr.,EAKSIT,BUATHONG-IEM\n",
      "\n",
      "5805175,Ms.,KANOKWAN,SRISONGKRAN\n",
      "\n",
      "5805194,Ms.,CHANYANUT,SIRIPHETSOMBUT\n",
      "\n",
      "5805206,Ms.,NATTHA,PASALAPHAN\n",
      "\n",
      "5805208,Ms.,NATTAKARN,ONRAK\n",
      "\n",
      "5805210,Ms.,NUTCHA,ZAZUM\n",
      "\n",
      "5805250,Ms.,PANCHARAT,SAMATI\n",
      "\n",
      "5805254,Ms.,PUNYAPHORN,NGOWSAWAT\n",
      "\n",
      "5805279,Ms.,YOLCHAYA,JUNGPRASERT\n",
      "\n",
      "5805289,Ms.,SARUTAYA,CHAROENRAJ\n",
      "\n",
      "5805304,Ms.,ONNICHA,KANGKASUWAN\n",
      "\n",
      "5805313,Mr.,CHAWAPHAK,SANGRAT\n"
     ]
    }
   ],
   "source": [
    "# This program reads all of the values in the students_scma241.csv file\n",
    "\n",
    "def main():\n",
    "    # open the file for reading\n",
    "    students_file = open('students_scma241.csv','r')\n",
    "    \n",
    "    # read the first line from the file\n",
    "    line = students_file.readline()\n",
    "    \n",
    "    # check if we reach the end of file\n",
    "    while line != '':\n",
    "        \n",
    "        # display the value\n",
    "        print(line)\n",
    "        \n",
    "        # read the next line\n",
    "        line = students_file.readline()\n",
    "        \n",
    "    # close the file\n",
    "    students_file.close()\n",
    "    \n",
    "# call the main function\n",
    "main()"
   ]
  },
  {
   "cell_type": "markdown",
   "metadata": {},
   "source": [
    "<h3>Using for Loop to read line</h3>\n",
    "<p>for <i>variable</i> in <i>file_object</i>:<br>\n",
    "&nbsp;&nbsp;&nbsp;&nbsp;&nbsp;&nbsp;statement <br>\n",
    "&nbsp;&nbsp;&nbsp;&nbsp;&nbsp;&nbsp;statement <br>\n",
    "&nbsp;&nbsp;&nbsp;&nbsp;&nbsp;&nbsp;etc.\n",
    "</p>"
   ]
  },
  {
   "cell_type": "code",
   "execution_count": 24,
   "metadata": {
    "collapsed": false
   },
   "outputs": [
    {
     "name": "stdout",
     "output_type": "stream",
     "text": [
      "5601033,Mr.,JAKRAWAL,KONGKITPAISAN\n",
      "\n",
      "5805010,Mr.,KANROP,HOOKAEW\n",
      "\n",
      "5805012,Ms.,KANRAWEE,WISETWONGSA\n",
      "\n",
      "5805020,Mr.,KRIANGKRAI,WUTTHISARINGKARN\n",
      "\n",
      "5805032,Ms.,CHARINPORN,UTHONDAN\n",
      "\n",
      "5805037,Mr.,CHETTAPORN,CHUESUPHAN\n",
      "\n",
      "5805045,Ms.,NUTNICHA,THISACHAMADEE\n",
      "\n",
      "5805046,Ms.,NATNICHA,YASINTHORN\n",
      "\n",
      "5805049,Mr.,NATTANON,ATTAKITMONGKOL\n",
      "\n",
      "5805051,Mr.,NUTTAPON,PEUNGTHONG\n",
      "\n",
      "5805052,Ms.,NATTHAMON,SUKPHADUNG\n",
      "\n",
      "5805086,Mr.,PRAPAT,TRAIMURATI\n",
      "\n",
      "5805095,Mr.,PHOTCHARAPHONG,RODMANEE\n",
      "\n",
      "5805097,Ms.,PORNNAPA,KONACHAIYAPOOM\n",
      "\n",
      "5805098,Ms.,PORNSAKUL,BOONSOONTI\n",
      "\n",
      "5805102,Ms.,PATTANAN,BOONYOUKONG\n",
      "\n",
      "5805117,Mr.,MARUT,KUNLAWONG\n",
      "\n",
      "5805161,Ms.,SUPINYA,NOPCHUMNAN\n",
      "\n",
      "5805168,Ms.,ONKANYA,LIMPHATTHARACHAI\n",
      "\n",
      "5805173,Mr.,EAKSIT,BUATHONG-IEM\n",
      "\n",
      "5805175,Ms.,KANOKWAN,SRISONGKRAN\n",
      "\n",
      "5805194,Ms.,CHANYANUT,SIRIPHETSOMBUT\n",
      "\n",
      "5805206,Ms.,NATTHA,PASALAPHAN\n",
      "\n",
      "5805208,Ms.,NATTAKARN,ONRAK\n",
      "\n",
      "5805210,Ms.,NUTCHA,ZAZUM\n",
      "\n",
      "5805250,Ms.,PANCHARAT,SAMATI\n",
      "\n",
      "5805254,Ms.,PUNYAPHORN,NGOWSAWAT\n",
      "\n",
      "5805279,Ms.,YOLCHAYA,JUNGPRASERT\n",
      "\n",
      "5805289,Ms.,SARUTAYA,CHAROENRAJ\n",
      "\n",
      "5805304,Ms.,ONNICHA,KANGKASUWAN\n",
      "\n",
      "5805313,Mr.,CHAWAPHAK,SANGRAT\n"
     ]
    }
   ],
   "source": [
    "# This program uses the for loop to read all of the \n",
    "# values in the text file\n",
    "\n",
    "def main():\n",
    "    # open the file for reading\n",
    "    students_file = open('students_scma241.csv','r')\n",
    "    \n",
    "    # read all the lines from the file\n",
    "    for line in students_file:\n",
    "        \n",
    "        # display the value\n",
    "        print(line)\n",
    "        \n",
    "    # close the file\n",
    "    students_file.close()\n",
    "    \n",
    "# call the main function\n",
    "main()"
   ]
  },
  {
   "cell_type": "markdown",
   "metadata": {},
   "source": [
    "<h2>Processing Records</h2>\n",
    "<p>The data that is stored in a file is frequently organized in records. A record is a complete set of data about an item, and a field is an individual piece of data within a record.</p>"
   ]
  },
  {
   "cell_type": "code",
   "execution_count": 1,
   "metadata": {
    "collapsed": false
   },
   "outputs": [
    {
     "name": "stdout",
     "output_type": "stream",
     "text": [
      "How many student records? 2\n",
      "Enter data for student #1\n",
      "Name : Krikamol Muandet\n",
      "ID : 123456\n",
      "Department : Math\n",
      "\n",
      "Enter data for student #2\n",
      "Name : Elephant\n",
      "ID : 67890\n",
      "Department : Physics\n",
      "\n",
      "Student records written to students_record.txt\n"
     ]
    }
   ],
   "source": [
    "# This program gets student data from the user and saves it as records\n",
    "# in the text file\n",
    "\n",
    "def main():\n",
    "    # get the number of student records to create\n",
    "    num_students = int(input('How many student records? '))\n",
    "    \n",
    "    # open a file for writing\n",
    "    std_file = open('students_record.txt','w')\n",
    "    \n",
    "    # get each student's data and write it to the file\n",
    "    for count in range(1,num_students+1):\n",
    "        \n",
    "        # get the data for a student\n",
    "        print('Enter data for student #',count,sep='')\n",
    "        name = input('Name : ')\n",
    "        id_num = input('ID : ')\n",
    "        dept = input('Department : ')\n",
    "        \n",
    "        # write the data as a record to the file\n",
    "        std_file.write(name + '\\n')\n",
    "        std_file.write(id_num + '\\n')\n",
    "        std_file.write(dept + '\\n')\n",
    "        \n",
    "        # display a blank line\n",
    "        print()\n",
    "        \n",
    "    # close the file\n",
    "    std_file.close()\n",
    "    print('Student records written to students_record.txt')\n",
    "    \n",
    "# call the main function\n",
    "main()"
   ]
  },
  {
   "cell_type": "code",
   "execution_count": 2,
   "metadata": {
    "collapsed": false
   },
   "outputs": [
    {
     "name": "stdout",
     "output_type": "stream",
     "text": [
      "Name :  Krikamol Muandet\n",
      "ID :  123456\n",
      "Dept : Math\n",
      "\n",
      "Name :  Elephant\n",
      "ID :  67890\n",
      "Dept : Physics\n",
      "\n"
     ]
    }
   ],
   "source": [
    "# This program displays the records that are in the students_record.txt file.\n",
    "\n",
    "def main():\n",
    "    # open the students_record.txt file\n",
    "    std_file = open('students_record.txt','r')\n",
    "    \n",
    "    # read the first line from the file\n",
    "    name = std_file.readline()\n",
    "    \n",
    "    while name != '':\n",
    "        # read the ID number field\n",
    "        id_num = std_file.readline()\n",
    "        \n",
    "        # read the department field\n",
    "        dept = std_file.readline()\n",
    "        \n",
    "        # strip the newlines from the fields\n",
    "        name = name.rstrip('\\n')\n",
    "        id_num = id_num.rstrip('\\n')\n",
    "        dept = dept.rstrip('\\n')\n",
    "        \n",
    "        # display the record\n",
    "        print('Name : ',name)\n",
    "        print('ID : ',id_num)\n",
    "        print('Dept :',dept)\n",
    "        print()\n",
    "        \n",
    "        # read the name field of the next record\n",
    "        name = std_file.readline()\n",
    "        \n",
    "    # close the file\n",
    "    std_file.close()\n",
    "    \n",
    "# call the main function\n",
    "main()"
   ]
  },
  {
   "cell_type": "code",
   "execution_count": null,
   "metadata": {
    "collapsed": true
   },
   "outputs": [],
   "source": []
  }
 ],
 "metadata": {
  "kernelspec": {
   "display_name": "Python 3",
   "language": "python",
   "name": "python3"
  },
  "language_info": {
   "codemirror_mode": {
    "name": "ipython",
    "version": 3
   },
   "file_extension": ".py",
   "mimetype": "text/x-python",
   "name": "python",
   "nbconvert_exporter": "python",
   "pygments_lexer": "ipython3",
   "version": "3.5.2"
  }
 },
 "nbformat": 4,
 "nbformat_minor": 1
}
