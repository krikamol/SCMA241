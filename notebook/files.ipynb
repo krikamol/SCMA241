{
 "cells": [
  {
   "cell_type": "markdown",
   "metadata": {},
   "source": [
    "<h1>Files</h1>\n",
    "\n",
    "<strong>Acknowledgement</strong> : the contents of this notebook are partially based on the book <i>\"Starting Out with Python (3rd Edition)\"</i>.\n",
    "\n",
    "<p>When a program needs to save data for later use, it writes the data in a file. The data can be read from the file at a later time. Examples of commercial softwares that save data to files include word processors, image editors, spreadsheets, and games.<br><br>\n",
    "\n",
    "There are always three steps that must be taken when using a file in a program.\n",
    "<ul>\n",
    "<li>Open the file</li>\n",
    "<li>Process the file</li>\n",
    "<li>Close the file</li>\n",
    "</ul>\n",
    "</p>"
   ]
  },
  {
   "cell_type": "markdown",
   "metadata": {},
   "source": [
    "<h3>Opening a file</h3>\n",
    "<p>To open a file, use the following command:</p>\n",
    "\n",
    "```python\n",
    "file_variable = open(filename, mode)\n",
    "```\n",
    "\n",
    "<p>The second argument <b>mode</b> tells the interpreter which way the file will be used. The available modes are\n",
    "<ul>\n",
    "<li>'r' - read only mode</li>\n",
    "<li>'w' - write only mode</li>\n",
    "<li>'a' - appending mode</li>\n",
    "<li>'r+' - special read and write mode</li>\n",
    "</ul>\n",
    "</p>"
   ]
  },
  {
   "cell_type": "code",
   "execution_count": 3,
   "metadata": {
    "collapsed": false
   },
   "outputs": [],
   "source": [
    "student_file = open('students.txt','r')"
   ]
  },
  {
   "cell_type": "code",
   "execution_count": 4,
   "metadata": {
    "collapsed": false
   },
   "outputs": [
    {
     "name": "stdout",
     "output_type": "stream",
     "text": [
      "<class '_io.TextIOWrapper'>\n"
     ]
    }
   ],
   "source": [
    "print(type(student_file))"
   ]
  },
  {
   "cell_type": "code",
   "execution_count": 13,
   "metadata": {
    "collapsed": true
   },
   "outputs": [],
   "source": [
    "customer_file = open('customers.txt','w')"
   ]
  },
  {
   "cell_type": "code",
   "execution_count": 6,
   "metadata": {
    "collapsed": false
   },
   "outputs": [
    {
     "name": "stdout",
     "output_type": "stream",
     "text": [
      "<class '_io.TextIOWrapper'>\n"
     ]
    }
   ],
   "source": [
    "print(type(customer_file))"
   ]
  },
  {
   "cell_type": "markdown",
   "metadata": {},
   "source": [
    "<h3>Writing data to a file</h3>\n",
    "<p>After opening a file, we can manipulate the file including reading from and writing to it. For example, we can write data to the file using the following command:</p> \n",
    "\n",
    "```python\n",
    "file_variable.write(string)\n",
    "```\n",
    "\n",
    "**note that write() is a method associated with the file object."
   ]
  },
  {
   "cell_type": "code",
   "execution_count": 14,
   "metadata": {
    "collapsed": false
   },
   "outputs": [
    {
     "data": {
      "text/plain": [
       "16"
      ]
     },
     "execution_count": 14,
     "metadata": {},
     "output_type": "execute_result"
    }
   ],
   "source": [
    "customer_file.write('Krikamol Muandet\\n')"
   ]
  },
  {
   "cell_type": "code",
   "execution_count": 15,
   "metadata": {
    "collapsed": false
   },
   "outputs": [
    {
     "data": {
      "text/plain": [
       "10"
      ]
     },
     "execution_count": 15,
     "metadata": {},
     "output_type": "execute_result"
    }
   ],
   "source": [
    "name = 'Johny Depp\\n'\n",
    "customer_file.write(name)"
   ]
  },
  {
   "cell_type": "markdown",
   "metadata": {},
   "source": [
    "<p>To finalize the file manipulation, the file should be closed using the following command:</p>\n",
    "\n",
    "```python\n",
    "file_variable.close()\n",
    "```"
   ]
  },
  {
   "cell_type": "code",
   "execution_count": 16,
   "metadata": {
    "collapsed": false
   },
   "outputs": [],
   "source": [
    "# closing a file\n",
    "customer_file.close()"
   ]
  },
  {
   "cell_type": "markdown",
   "metadata": {},
   "source": [
    "<h3>Reading data from a file</h3>\n",
    "<p>To read data from a file, use the following command:</p>\n",
    "\n",
    "```python\n",
    "file_content = file_variable.read()\n",
    "```"
   ]
  },
  {
   "cell_type": "code",
   "execution_count": 10,
   "metadata": {
    "collapsed": false
   },
   "outputs": [
    {
     "name": "stdout",
     "output_type": "stream",
     "text": [
      "Krikamol Muandet\n",
      "Johny Depp\n",
      "\n"
     ]
    }
   ],
   "source": [
    "def main():\n",
    "    \n",
    "    # open a file named customers.txt.\n",
    "    infile = open('customers.txt','r')\n",
    "    \n",
    "    # read the file's content \n",
    "    file_contents = infile.read()\n",
    "    \n",
    "    # close the file \n",
    "    infile.close()\n",
    "    \n",
    "    # print the file's content\n",
    "    print(file_contents)\n",
    "    \n",
    "# call the main function\n",
    "main()"
   ]
  },
  {
   "cell_type": "markdown",
   "metadata": {},
   "source": [
    "<p>The <b>readline()</b> function can be used when we want to read the data line by line.</p>"
   ]
  },
  {
   "cell_type": "code",
   "execution_count": 11,
   "metadata": {
    "collapsed": false
   },
   "outputs": [
    {
     "name": "stdout",
     "output_type": "stream",
     "text": [
      "Krikamol Muandet\n",
      "\n",
      "Johny Depp\n",
      "\n"
     ]
    }
   ],
   "source": [
    "# readline function\n",
    "def main():\n",
    "    \n",
    "    #open a file named customers.txt.\n",
    "    infile = open('customers.txt','r')\n",
    "    \n",
    "    # read two lines from the file \n",
    "    line1 = infile.readline()\n",
    "    line2 = infile.readline()\n",
    "    \n",
    "    # close the file \n",
    "    infile.close()\n",
    "    \n",
    "    # print the file's content\n",
    "    print(line1)\n",
    "    print(line2)\n",
    "    \n",
    "# call the main function\n",
    "main()"
   ]
  },
  {
   "cell_type": "markdown",
   "metadata": {},
   "source": [
    "<h3>Concatenating a newline to a string</h3>\n",
    "<p>To start a new line when writing into file, the newline character '\\n' must be concatenated to the end of the string.</p>"
   ]
  },
  {
   "cell_type": "code",
   "execution_count": 17,
   "metadata": {
    "collapsed": false
   },
   "outputs": [
    {
     "name": "stdout",
     "output_type": "stream",
     "text": [
      "Enter the names of three friends.\n",
      "Friend #1: Panada\n",
      "Friend #2: Prohrak\n",
      "Friend #3: Napat\n",
      "The names were written to friends.txt.\n"
     ]
    }
   ],
   "source": [
    "def main():\n",
    "    \n",
    "    # get three names\n",
    "    print('Enter the names of three friends.')\n",
    "    name1 = input('Friend #1: ')\n",
    "    name2 = input('Friend #2: ')\n",
    "    name3 = input('Friend #3: ')\n",
    "    \n",
    "    # open a file named friends.txt\n",
    "    myfile = open('friends.txt','w')\n",
    "    \n",
    "    # write the names to the file\n",
    "    myfile.write(name1 + '\\n')\n",
    "    myfile.write(name2 + '\\n')\n",
    "    myfile.write(name3 + '\\n')\n",
    "    \n",
    "    # close the file \n",
    "    myfile.close()\n",
    "    print('The names were written to friends.txt.')\n",
    "    \n",
    "# call the main function\n",
    "main()"
   ]
  },
  {
   "cell_type": "markdown",
   "metadata": {},
   "source": [
    "<h3>Reading a string and stripping a newline from it</h3>\n",
    "<p>After reading each line from a file, the newline character '\\n' must be removed from the string before further uses.</p>"
   ]
  },
  {
   "cell_type": "code",
   "execution_count": 19,
   "metadata": {
    "collapsed": false
   },
   "outputs": [
    {
     "name": "stdout",
     "output_type": "stream",
     "text": [
      "Krikamol Muandet\n",
      "Johny Depp\n"
     ]
    }
   ],
   "source": [
    "# rstrip function\n",
    "def main():\n",
    "    #open a file named customers.txt.\n",
    "    infile = open('customers.txt','r')\n",
    "    \n",
    "    # read two lines from the file \n",
    "    line1 = infile.readline()\n",
    "    line2 = infile.readline()\n",
    "    \n",
    "    # close the file \n",
    "    infile.close()\n",
    "    \n",
    "    # strip the \\n from each string\n",
    "    line1 = line1.rstrip('\\n')\n",
    "    line2 = line2.rstrip('\\n')\n",
    "    \n",
    "    # print the file's content\n",
    "    print(line1)\n",
    "    print(line2)\n",
    "    \n",
    "# call the main function\n",
    "main()"
   ]
  },
  {
   "cell_type": "markdown",
   "metadata": {},
   "source": [
    "<h3>Appending data to an existing file</h3>\n",
    "<p>To append data to existing file (rather than overwriting it), we must open the file using appending mode (mode = 'a').</p>"
   ]
  },
  {
   "cell_type": "code",
   "execution_count": 23,
   "metadata": {
    "collapsed": true
   },
   "outputs": [],
   "source": [
    "myfile = open('customers.txt','a')\n",
    "myfile.write('John\\n')\n",
    "myfile.write('Chris\\n')\n",
    "myfile.close()"
   ]
  },
  {
   "cell_type": "markdown",
   "metadata": {},
   "source": [
    "<h3>Writing and reading numeric data</h3>\n",
    "<p>When read from a file, the data must be converted to an appropriate type. The following program demonstrates how numbers must be converted to string before they are written to a text file.</p>"
   ]
  },
  {
   "cell_type": "code",
   "execution_count": 26,
   "metadata": {
    "collapsed": false
   },
   "outputs": [
    {
     "name": "stdout",
     "output_type": "stream",
     "text": [
      "Enter a number : 10\n",
      "Enter another number : 20\n",
      "Enter another number : 30\n",
      "Data written to numbers.txt\n"
     ]
    }
   ],
   "source": [
    "def main():\n",
    "    # open a file for writing \n",
    "    outfile = open('numbers.txt','w')\n",
    "    \n",
    "    # get three numbers from the user.\n",
    "    num1 = int(input('Enter a number : '))\n",
    "    num2 = int(input('Enter another number : '))\n",
    "    num3 = int(input('Enter another number : '))\n",
    "    \n",
    "    # write the numbers to the file.\n",
    "    outfile.write(str(num1) + '\\n')\n",
    "    outfile.write(str(num2) + '\\n')\n",
    "    outfile.write(str(num3) + '\\n')\n",
    "    \n",
    "    # close the file\n",
    "    outfile.close()\n",
    "    print('Data written to numbers.txt')\n",
    "    \n",
    "# call the main function\n",
    "main()"
   ]
  },
  {
   "cell_type": "markdown",
   "metadata": {},
   "source": [
    "<p>This program demonstrates how numbers that are read from a file must be converted from strings before they are used in a math operation.</p>"
   ]
  },
  {
   "cell_type": "code",
   "execution_count": 28,
   "metadata": {
    "collapsed": false
   },
   "outputs": [
    {
     "name": "stdout",
     "output_type": "stream",
     "text": [
      "The numbers are : 10 20 40\n",
      "Their total is : 70\n"
     ]
    }
   ],
   "source": [
    "def main():\n",
    "    # open a file for reading\n",
    "    infile = open('numbers.txt','r')\n",
    "    \n",
    "    # read three numbers from the file.\n",
    "    num1 = int(infile.readline())\n",
    "    num2 = int(infile.readline())\n",
    "    num3 = int(infile.readline())\n",
    "    \n",
    "    # close the file\n",
    "    infile.close()\n",
    "    \n",
    "    # add the three numbers\n",
    "    total = num1 + num2 + num3\n",
    "    \n",
    "    # display the numbers and their total\n",
    "    print('The numbers are :',num1,num2,num3)\n",
    "    print('Their total is :',total)\n",
    "    \n",
    "# call the main function\n",
    "main()"
   ]
  },
  {
   "cell_type": "markdown",
   "metadata": {},
   "source": [
    "<h3>Using Loops to Process Files</h3>\n",
    "<p>Files usually hold large amounts of data, and programs typically use a loop to process the data in a file. This program reads all of the values in the students_scma241.csv file</p>"
   ]
  },
  {
   "cell_type": "code",
   "execution_count": 29,
   "metadata": {
    "collapsed": false
   },
   "outputs": [
    {
     "name": "stdout",
     "output_type": "stream",
     "text": [
      "No.\tID\tTitle\tFullname\n",
      "\n",
      "1\t5905011\tMs.\tKANYARAT LAMTHAISONG\n",
      "\n",
      "2\t5905026\tMs.\tCHAYANEE KHONGSUEBCHART\n",
      "\n",
      "3\t5905033\tMr.\tCHAIYANON WAJASAT\n",
      "\n",
      "4\t5905048\tMs.\tNITCHAKARN TIN ONG\n",
      "\n",
      "5\t5905049\tMs.\tNITCHAKARN PHOLDEEYIAM\n",
      "\n",
      "6\t5905058\tMr.\tTHUMPAPON POONPOEMSUKSOMBUT\n",
      "\n",
      "7\t5905063\tMr.\tNARAPHONG SIRIKUNOPAKARN\n",
      "\n",
      "8\t5905072\tMs.\tPANATDA KAEWTHIT\n",
      "\n",
      "9\t5905074\tMs.\tPRATIPA GEENASON\n",
      "\n",
      "10\t5905080\tMs.\tPAREENA THITIPONGWNICH\n",
      "\n",
      "11\t5905090\tMs.\tPROHRAK KRUENGTHOMYA\n",
      "\n",
      "12\t5905108\tMr.\tWORATHEP CHIMPALEE\n",
      "\n",
      "13\t5905115\tMr.\tWASAWAT KITCHAROENSUBDEE\n",
      "\n",
      "14\t5905119\tMs.\tWAEWWAN ERUAMSUMPUN\n",
      "\n",
      "15\t5905121\tMs.\tSASIVIMOL SRIROJ\n",
      "\n",
      "16\t5905139\tMs.\tSIRIYAGON JAIAUR\n",
      "\n",
      "17\t5905144\tMs.\tSUPHANEE KONGKUNGWANPRAI\n",
      "\n",
      "18\t5905147\tMr.\tATIJIT KITBAMRUNG\n",
      "\n",
      "19\t5905160\tMr.\tNAPAT SANGUANSAKPAKDEE\n",
      "\n",
      "20\t5905161\tMr.\tVIPOP LEKHACHINABUTR\n",
      "\n",
      "21\t5905166\tMr.\tKRITTAPHAD ROEMSRI\n",
      "\n",
      "22\t5905177\tMs.\tJIRUNTANIN JAROONPORNMONGKOL\n",
      "\n",
      "23\t5905190\tMr.\tTHITAPHON SRISUMANG\n",
      "\n",
      "24\t5905194\tMs.\tNATCHA AYAMUANG\n",
      "\n",
      "25\t5905212\tMs.\tTHIWAPHORN PRAPASEE\n",
      "\n",
      "26\t5905216\tMr.\tTHATCHANON PHOPANDEE\n",
      "\n",
      "27\t5905224\tMr.\tNARAWIT CHAOWADEE\n",
      "\n",
      "28\t5905228\tMr.\tNIRATTISAI TANPRADIT\n",
      "\n",
      "29\t5905229\tMr.\tBUNDIT ROTYOON\n",
      "\n",
      "30\t5905237\tMs.\tPLOY NUANGSUBSAEN\n",
      "\n",
      "31\t5905240\tMs.\tPHATTHAWAN RACHANARK\n",
      "\n",
      "32\t5905243\tMr.\tPISIT PIROJPONGSA\n",
      "\n",
      "33\t5905248\tMs.\tPAVARUN MANAJIT\n",
      "\n",
      "34\t5905260\tMs.\tWARANGKANA JAIJANG\n"
     ]
    }
   ],
   "source": [
    "def main():\n",
    "    # open the file for reading\n",
    "    students_file = open('scma241_students.txt','r')\n",
    "    \n",
    "    # read the first line from the file\n",
    "    line = students_file.readline()\n",
    "    \n",
    "    # check if we reach the end of file\n",
    "    while line != '':\n",
    "        \n",
    "        # display the value\n",
    "        print(line)\n",
    "        \n",
    "        # read the next line\n",
    "        line = students_file.readline()\n",
    "        \n",
    "    # close the file\n",
    "    students_file.close()\n",
    "    \n",
    "# call the main function\n",
    "main()"
   ]
  },
  {
   "cell_type": "markdown",
   "metadata": {},
   "source": [
    "<h3>Using for Loop to read line</h3>\n",
    "<p>To read file using for loop, use the following syntax:</p>\n",
    "\n",
    "```python\n",
    "for variable in file_object:\n",
    "    statement(s) \n",
    "```\n",
    "<p>This program uses the for loop to read all of the values in the text file.</p>"
   ]
  },
  {
   "cell_type": "code",
   "execution_count": 30,
   "metadata": {
    "collapsed": false
   },
   "outputs": [
    {
     "name": "stdout",
     "output_type": "stream",
     "text": [
      "No.\tID\tTitle\tFullname\n",
      "\n",
      "1\t5905011\tMs.\tKANYARAT LAMTHAISONG\n",
      "\n",
      "2\t5905026\tMs.\tCHAYANEE KHONGSUEBCHART\n",
      "\n",
      "3\t5905033\tMr.\tCHAIYANON WAJASAT\n",
      "\n",
      "4\t5905048\tMs.\tNITCHAKARN TIN ONG\n",
      "\n",
      "5\t5905049\tMs.\tNITCHAKARN PHOLDEEYIAM\n",
      "\n",
      "6\t5905058\tMr.\tTHUMPAPON POONPOEMSUKSOMBUT\n",
      "\n",
      "7\t5905063\tMr.\tNARAPHONG SIRIKUNOPAKARN\n",
      "\n",
      "8\t5905072\tMs.\tPANATDA KAEWTHIT\n",
      "\n",
      "9\t5905074\tMs.\tPRATIPA GEENASON\n",
      "\n",
      "10\t5905080\tMs.\tPAREENA THITIPONGWNICH\n",
      "\n",
      "11\t5905090\tMs.\tPROHRAK KRUENGTHOMYA\n",
      "\n",
      "12\t5905108\tMr.\tWORATHEP CHIMPALEE\n",
      "\n",
      "13\t5905115\tMr.\tWASAWAT KITCHAROENSUBDEE\n",
      "\n",
      "14\t5905119\tMs.\tWAEWWAN ERUAMSUMPUN\n",
      "\n",
      "15\t5905121\tMs.\tSASIVIMOL SRIROJ\n",
      "\n",
      "16\t5905139\tMs.\tSIRIYAGON JAIAUR\n",
      "\n",
      "17\t5905144\tMs.\tSUPHANEE KONGKUNGWANPRAI\n",
      "\n",
      "18\t5905147\tMr.\tATIJIT KITBAMRUNG\n",
      "\n",
      "19\t5905160\tMr.\tNAPAT SANGUANSAKPAKDEE\n",
      "\n",
      "20\t5905161\tMr.\tVIPOP LEKHACHINABUTR\n",
      "\n",
      "21\t5905166\tMr.\tKRITTAPHAD ROEMSRI\n",
      "\n",
      "22\t5905177\tMs.\tJIRUNTANIN JAROONPORNMONGKOL\n",
      "\n",
      "23\t5905190\tMr.\tTHITAPHON SRISUMANG\n",
      "\n",
      "24\t5905194\tMs.\tNATCHA AYAMUANG\n",
      "\n",
      "25\t5905212\tMs.\tTHIWAPHORN PRAPASEE\n",
      "\n",
      "26\t5905216\tMr.\tTHATCHANON PHOPANDEE\n",
      "\n",
      "27\t5905224\tMr.\tNARAWIT CHAOWADEE\n",
      "\n",
      "28\t5905228\tMr.\tNIRATTISAI TANPRADIT\n",
      "\n",
      "29\t5905229\tMr.\tBUNDIT ROTYOON\n",
      "\n",
      "30\t5905237\tMs.\tPLOY NUANGSUBSAEN\n",
      "\n",
      "31\t5905240\tMs.\tPHATTHAWAN RACHANARK\n",
      "\n",
      "32\t5905243\tMr.\tPISIT PIROJPONGSA\n",
      "\n",
      "33\t5905248\tMs.\tPAVARUN MANAJIT\n",
      "\n",
      "34\t5905260\tMs.\tWARANGKANA JAIJANG\n"
     ]
    }
   ],
   "source": [
    "def main():\n",
    "    \n",
    "    # open the file for reading\n",
    "    students_file = open('scma241_students.txt','r')\n",
    "    \n",
    "    # read all the lines from the file\n",
    "    for line in students_file:\n",
    "        \n",
    "        # display the value\n",
    "        print(line)\n",
    "        \n",
    "    # close the file\n",
    "    students_file.close()\n",
    "    \n",
    "# call the main function\n",
    "main()"
   ]
  },
  {
   "cell_type": "markdown",
   "metadata": {},
   "source": [
    "<h2>Processing Records</h2>\n",
    "<p>The data that is stored in a file is frequently organized in records. A record is a complete set of data about an item, and a field is an individual piece of data within a record.</p>"
   ]
  },
  {
   "cell_type": "markdown",
   "metadata": {},
   "source": [
    "<p>This program gets student data from the user and saves it as records in the text file</p>"
   ]
  },
  {
   "cell_type": "code",
   "execution_count": 31,
   "metadata": {
    "collapsed": false
   },
   "outputs": [
    {
     "name": "stdout",
     "output_type": "stream",
     "text": [
      "How many student records? 2\n",
      "Enter data for student #1\n",
      "Name : Prohrak\n",
      "ID : 123456\n",
      "Department : Mathematics\n",
      "\n",
      "Enter data for student #2\n",
      "Name : Napat\n",
      "ID : 37364839\n",
      "Department : Biology\n",
      "\n",
      "Student records written to students_record.txt\n"
     ]
    }
   ],
   "source": [
    "def main():\n",
    "    # get the number of student records to create\n",
    "    num_students = int(input('How many student records? '))\n",
    "    \n",
    "    # open a file for writing\n",
    "    std_file = open('students_record.txt','w')\n",
    "    \n",
    "    # get each student's data and write it to the file\n",
    "    for count in range(1,num_students+1):\n",
    "        \n",
    "        # get the data for a student\n",
    "        print('Enter data for student #',count,sep='')\n",
    "        name = input('Name : ')\n",
    "        id_num = input('ID : ')\n",
    "        dept = input('Department : ')\n",
    "        \n",
    "        # write the data as a record to the file\n",
    "        std_file.write(name + '\\n')\n",
    "        std_file.write(id_num + '\\n')\n",
    "        std_file.write(dept + '\\n')\n",
    "        \n",
    "        # display a blank line\n",
    "        print()\n",
    "        \n",
    "    # close the file\n",
    "    std_file.close()\n",
    "    print('Student records written to students_record.txt')\n",
    "    \n",
    "# call the main function\n",
    "main()"
   ]
  },
  {
   "cell_type": "markdown",
   "metadata": {},
   "source": [
    "<p>This program displays the records that are in the students_record.txt file.</p>"
   ]
  },
  {
   "cell_type": "code",
   "execution_count": 32,
   "metadata": {
    "collapsed": false
   },
   "outputs": [
    {
     "name": "stdout",
     "output_type": "stream",
     "text": [
      "Name :  Prohrak\n",
      "ID :  123456\n",
      "Dept : Mathematics\n",
      "\n",
      "Name :  Napat\n",
      "ID :  37364839\n",
      "Dept : Biology\n",
      "\n"
     ]
    }
   ],
   "source": [
    "def main():\n",
    "    # open the students_record.txt file\n",
    "    std_file = open('students_record.txt','r')\n",
    "    \n",
    "    # read the first line from the file\n",
    "    name = std_file.readline()\n",
    "    \n",
    "    while name != '':\n",
    "        # read the ID number field\n",
    "        id_num = std_file.readline()\n",
    "        \n",
    "        # read the department field\n",
    "        dept = std_file.readline()\n",
    "        \n",
    "        # strip the newlines from the fields\n",
    "        name = name.rstrip('\\n')\n",
    "        id_num = id_num.rstrip('\\n')\n",
    "        dept = dept.rstrip('\\n')\n",
    "        \n",
    "        # display the record\n",
    "        print('Name : ',name)\n",
    "        print('ID : ',id_num)\n",
    "        print('Dept :',dept)\n",
    "        print()\n",
    "        \n",
    "        # read the name field of the next record\n",
    "        name = std_file.readline()\n",
    "        \n",
    "    # close the file\n",
    "    std_file.close()\n",
    "    \n",
    "# call the main function\n",
    "main()"
   ]
  },
  {
   "cell_type": "code",
   "execution_count": 33,
   "metadata": {
    "collapsed": true
   },
   "outputs": [],
   "source": []
  }
 ],
 "metadata": {
  "kernelspec": {
   "display_name": "Python 3",
   "language": "python",
   "name": "python3"
  },
  "language_info": {
   "codemirror_mode": {
    "name": "ipython",
    "version": 3
   },
   "file_extension": ".py",
   "mimetype": "text/x-python",
   "name": "python",
   "nbconvert_exporter": "python",
   "pygments_lexer": "ipython3",
   "version": "3.5.2"
  }
 },
 "nbformat": 4,
 "nbformat_minor": 1
}
