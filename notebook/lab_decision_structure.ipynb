{
 "cells": [
  {
   "cell_type": "markdown",
   "metadata": {},
   "source": [
    "<h1>Lab 2: Decision Structure</h1>"
   ]
  },
  {
   "cell_type": "markdown",
   "metadata": {},
   "source": [
    "<h3>Problem #1</h3>\n",
    "<p>Write a program that gets an input as an integer number and then output its absolute value.</p>\n",
    "<br>\n",
    "$$|x| = \\begin{cases}\n",
    "     x & \\text{if } x \\geq 0 \\\\\n",
    "     -x & \\text{otherwise}\n",
    "\\end{cases}$$"
   ]
  },
  {
   "cell_type": "code",
   "execution_count": 5,
   "metadata": {
    "collapsed": false
   },
   "outputs": [
    {
     "name": "stdout",
     "output_type": "stream",
     "text": [
      "Enter an integer: -7\n",
      "Absolute value of -7 is 7\n"
     ]
    }
   ],
   "source": [
    "x = int(input('Enter an integer: '))\n",
    "print('Absolute value of',x,'is',abs(x))\n",
    "\n",
    "#if x >= 0:\n",
    "#    print('Absolute value of',x,'is',x)\n",
    "#else:\n",
    "#    print('Absolute value of',x,'is',-x)"
   ]
  },
  {
   "cell_type": "markdown",
   "metadata": {},
   "source": [
    "<h3>Problem #2:</h3>\n",
    "<p>Write a program that gets 3 numbers as an input and outputs the median of these three numbers.</p>"
   ]
  },
  {
   "cell_type": "code",
   "execution_count": 8,
   "metadata": {
    "collapsed": false
   },
   "outputs": [
    {
     "name": "stdout",
     "output_type": "stream",
     "text": [
      "Enter 1st number: 5\n",
      "Enter 2nd number: 8\n",
      "Enter 3rd number: 3\n",
      "Median is 5.0\n"
     ]
    }
   ],
   "source": [
    "num1 = float(input('Enter 1st number: '))\n",
    "num2 = float(input('Enter 2nd number: '))\n",
    "num3 = float(input('Enter 3rd number: '))\n",
    "\n",
    "if (num1 <= num2 and num1 >= num3) or (num1 <= num3 and num1 >= num2):\n",
    "    print('Median is',num1)\n",
    "elif (num2 <= num1 and num2 >= num3) or (num2 <= num3 and num2 >= num1):\n",
    "    print('Median is',num2)\n",
    "else:\n",
    "    print('Median is',num3)"
   ]
  },
  {
   "cell_type": "markdown",
   "metadata": {},
   "source": [
    "<h3>Problem #3:</h3>\n",
    "<p>Write a program that asks the user to enter a sequence of 5 numbers and check if it is a Fibonacci sequence.</p>"
   ]
  },
  {
   "cell_type": "code",
   "execution_count": null,
   "metadata": {
    "collapsed": false
   },
   "outputs": [],
   "source": []
  },
  {
   "cell_type": "markdown",
   "metadata": {},
   "source": [
    "<h3>Problem #4:</h3>\n",
    "<p>Write a program that asks the user to enter a string and check if it is a palindrome. Assuming that all letters are lowercase letters. <br><br><b>Hint:</b> In Python, one can reverse a string using \"string_var[::-1]\" syntax.</p>"
   ]
  },
  {
   "cell_type": "code",
   "execution_count": null,
   "metadata": {
    "collapsed": false
   },
   "outputs": [],
   "source": []
  },
  {
   "cell_type": "markdown",
   "metadata": {},
   "source": [
    "<h3>Problem #5:</h3>\n",
    "<p>Write a program that asks the user to enter a number in a range of [1,20] and check if the entered number is a prime number.</p>"
   ]
  },
  {
   "cell_type": "code",
   "execution_count": null,
   "metadata": {
    "collapsed": false
   },
   "outputs": [],
   "source": []
  },
  {
   "cell_type": "markdown",
   "metadata": {},
   "source": [
    "<h3>Problem #6:</h3>\n",
    "<p>Write a program that ask a user to enter the year and check if it is a <i>leap year</i>.\n",
    "<br><br>\n",
    "To determine whether a year is a leap year, follow these steps:\n",
    "<br>\n",
    "<ul>\n",
    "<li>(1) If the year is evenly divisible by 4, go to step 2. Otherwise, go to step 5.</li>\n",
    "<li>(2) If the year is evenly divisible by 100, go to step 3. Otherwise, go to step 4.</li>\n",
    "<li>(3) If the year is evenly divisible by 400, go to step 4. Otherwise, go to step 5.</li>\n",
    "<li>(4) The year is a leap year (it has 366 days).</li>\n",
    "<li>(5) The year is not a leap year (it has 365 days).</li>\n",
    "</ul>\n",
    "</p>"
   ]
  },
  {
   "cell_type": "code",
   "execution_count": null,
   "metadata": {
    "collapsed": false
   },
   "outputs": [],
   "source": []
  },
  {
   "cell_type": "markdown",
   "metadata": {},
   "source": [
    "<h3>Extra Problem #1</h3>\n",
    "<p>Write a program that asks the user to enter the number of days in a year (that is in a range of [1,365]) and convert it to day and month format (and vice versa).<br><br>\n",
    "\n",
    "For example, day 1 corresponds to January 1st and day 365 corresponds to December 31st.\n",
    "</p>\n",
    "\n"
   ]
  },
  {
   "cell_type": "code",
   "execution_count": null,
   "metadata": {
    "collapsed": false
   },
   "outputs": [],
   "source": []
  },
  {
   "cell_type": "markdown",
   "metadata": {
    "collapsed": true
   },
   "source": [
    "<h3>Extra Problem #2</h3>\n",
    "<p>Write a program that asks the user to enter their birthday. The program should output the day of the week, i.e., Monday, Tuesday, etc.\n",
    "<br><br>\n",
    "January 1st, 1800 is a Wednesday.</p>"
   ]
  },
  {
   "cell_type": "code",
   "execution_count": null,
   "metadata": {
    "collapsed": true
   },
   "outputs": [],
   "source": []
  }
 ],
 "metadata": {
  "kernelspec": {
   "display_name": "Python 3",
   "language": "python",
   "name": "python3"
  },
  "language_info": {
   "codemirror_mode": {
    "name": "ipython",
    "version": 3
   },
   "file_extension": ".py",
   "mimetype": "text/x-python",
   "name": "python",
   "nbconvert_exporter": "python",
   "pygments_lexer": "ipython3",
   "version": "3.5.2"
  }
 },
 "nbformat": 4,
 "nbformat_minor": 1
}
