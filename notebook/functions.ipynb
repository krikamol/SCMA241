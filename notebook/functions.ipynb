{
 "cells": [
  {
   "cell_type": "markdown",
   "metadata": {},
   "source": [
    "<h1>Functions</h1>\n",
    "\n",
    "<strong>Acknowledgement</strong> : the contents of this notebook are partially based on the book <i>\"Starting Out with Python (3rd Edition)\"</i>.\n",
    "\n",
    "<p>A function is a group of re-usable statements that exist within a program for the purpose of performing a specific task. Benefits of breaking down a function into functions include\n",
    "<ul>\n",
    "<li>simpler code</li>\n",
    "<li>code reuse</li>\n",
    "<li>better testing</li>\n",
    "<li>faster development</li>\n",
    "<li>facilitation of teamwork</li>\n",
    "</ul>\n",
    "<br>\n",
    "Built-in functions are usually a part of Python packages and libraries, whereas user-defined functions are written by the developers to meet some requirements.\n",
    "</p>"
   ]
  },
  {
   "cell_type": "markdown",
   "metadata": {},
   "source": [
    "<h3>A Void Function</h3>\n",
    "<p>The code for a function is known as a function definition. To execute the function, you write a statement that calls it.\n",
    "<br><br>\n",
    "To create a function, we write <br>\n",
    "</p>\n",
    "```python\n",
    "def function_name():\n",
    "    \"\"\" docstring of the function \"\"\"\n",
    "    statement\n",
    "    statement\n",
    "    etc\n",
    "```\n",
    "<p>To execute the function, we call</p>\n",
    "```python\n",
    "function_name()\n",
    "```"
   ]
  },
  {
   "cell_type": "code",
   "execution_count": 2,
   "metadata": {
    "collapsed": true
   },
   "outputs": [],
   "source": [
    "# define a function\n",
    "def message():\n",
    "    print('This is a function')\n",
    "    print('We call it message()')"
   ]
  },
  {
   "cell_type": "code",
   "execution_count": 3,
   "metadata": {
    "collapsed": false
   },
   "outputs": [
    {
     "name": "stdout",
     "output_type": "stream",
     "text": [
      "This is a function\n",
      "We call it message()\n"
     ]
    }
   ],
   "source": [
    "# call a function\n",
    "message()"
   ]
  },
  {
   "cell_type": "markdown",
   "metadata": {},
   "source": [
    "<p>We can also define multiple functions.</p>"
   ]
  },
  {
   "cell_type": "code",
   "execution_count": 3,
   "metadata": {
    "collapsed": false
   },
   "outputs": [
    {
     "name": "stdout",
     "output_type": "stream",
     "text": [
      "Starting a program.\n",
      "This is a message from a message function.\n",
      "Good bye\n"
     ]
    }
   ],
   "source": [
    "# define the main function\n",
    "def main():\n",
    "    print('Starting a program.')\n",
    "    message()\n",
    "    print('Good bye')\n",
    "    \n",
    "# define the message function\n",
    "def message():\n",
    "    print('This is a message from a message function.')\n",
    "    \n",
    "# call the main function\n",
    "main()"
   ]
  },
  {
   "cell_type": "code",
   "execution_count": null,
   "metadata": {
    "collapsed": true
   },
   "outputs": [],
   "source": [
    "# indentation in a function is very important!"
   ]
  },
  {
   "cell_type": "code",
   "execution_count": 4,
   "metadata": {
    "collapsed": false
   },
   "outputs": [
    {
     "name": "stdout",
     "output_type": "stream",
     "text": [
      "Press enter to continue...\n"
     ]
    },
    {
     "data": {
      "text/plain": [
       "''"
      ]
     },
     "execution_count": 4,
     "metadata": {},
     "output_type": "execute_result"
    }
   ],
   "source": [
    "# pausing execution until the user presses enter\n",
    "input('Press enter to continue...')"
   ]
  },
  {
   "cell_type": "markdown",
   "metadata": {},
   "source": [
    "<h3>Local Variables</h3>\n",
    "<p>A local variable is created inside a function and cannot be accessed by statements that are outside the function. Different functions can have local variables with the same names because the functions cannot see each other's local varaibles.</p>"
   ]
  },
  {
   "cell_type": "markdown",
   "metadata": {},
   "source": [
    "Below the variable \"name\" is defined in get_name() function. Hence, it is a local variable and cannot be used in the main() function."
   ]
  },
  {
   "cell_type": "code",
   "execution_count": 6,
   "metadata": {
    "collapsed": false
   },
   "outputs": [
    {
     "name": "stdout",
     "output_type": "stream",
     "text": [
      "Enter your name: Krikamol\n"
     ]
    },
    {
     "ename": "NameError",
     "evalue": "name 'name' is not defined",
     "output_type": "error",
     "traceback": [
      "\u001b[0;31m---------------------------------------------------------------------------\u001b[0m",
      "\u001b[0;31mNameError\u001b[0m                                 Traceback (most recent call last)",
      "\u001b[0;32m<ipython-input-6-750ef3eae3b9>\u001b[0m in \u001b[0;36m<module>\u001b[0;34m()\u001b[0m\n\u001b[1;32m     11\u001b[0m \u001b[0;34m\u001b[0m\u001b[0m\n\u001b[1;32m     12\u001b[0m \u001b[0;31m# call the main function\u001b[0m\u001b[0;34m\u001b[0m\u001b[0;34m\u001b[0m\u001b[0m\n\u001b[0;32m---> 13\u001b[0;31m \u001b[0mmain\u001b[0m\u001b[0;34m(\u001b[0m\u001b[0;34m)\u001b[0m\u001b[0;34m\u001b[0m\u001b[0m\n\u001b[0m",
      "\u001b[0;32m<ipython-input-6-750ef3eae3b9>\u001b[0m in \u001b[0;36mmain\u001b[0;34m()\u001b[0m\n\u001b[1;32m      4\u001b[0m \u001b[0;32mdef\u001b[0m \u001b[0mmain\u001b[0m\u001b[0;34m(\u001b[0m\u001b[0;34m)\u001b[0m\u001b[0;34m:\u001b[0m\u001b[0;34m\u001b[0m\u001b[0m\n\u001b[1;32m      5\u001b[0m     \u001b[0mget_name\u001b[0m\u001b[0;34m(\u001b[0m\u001b[0;34m)\u001b[0m\u001b[0;34m\u001b[0m\u001b[0m\n\u001b[0;32m----> 6\u001b[0;31m     \u001b[0mprint\u001b[0m\u001b[0;34m(\u001b[0m\u001b[0;34m'Hello'\u001b[0m\u001b[0;34m,\u001b[0m\u001b[0mname\u001b[0m\u001b[0;34m)\u001b[0m\u001b[0;34m\u001b[0m\u001b[0m\n\u001b[0m\u001b[1;32m      7\u001b[0m \u001b[0;34m\u001b[0m\u001b[0m\n\u001b[1;32m      8\u001b[0m \u001b[0;31m# define the get_name function\u001b[0m\u001b[0;34m\u001b[0m\u001b[0;34m\u001b[0m\u001b[0m\n",
      "\u001b[0;31mNameError\u001b[0m: name 'name' is not defined"
     ]
    }
   ],
   "source": [
    "def main():\n",
    "    get_name()\n",
    "    print('Hello',name)\n",
    "\n",
    "# define the get_name function\n",
    "def get_name():\n",
    "    name = input('Enter your name: ')\n",
    "    \n",
    "# call the main function\n",
    "main()"
   ]
  },
  {
   "cell_type": "markdown",
   "metadata": {},
   "source": [
    "A local variable cannot be accessed by code that appears before the variable has been created."
   ]
  },
  {
   "cell_type": "code",
   "execution_count": 9,
   "metadata": {
    "collapsed": false
   },
   "outputs": [
    {
     "ename": "UnboundLocalError",
     "evalue": "local variable 'val' referenced before assignment",
     "output_type": "error",
     "traceback": [
      "\u001b[0;31m---------------------------------------------------------------------------\u001b[0m",
      "\u001b[0;31mUnboundLocalError\u001b[0m                         Traceback (most recent call last)",
      "\u001b[0;32m<ipython-input-9-1c1ae2b060b3>\u001b[0m in \u001b[0;36m<module>\u001b[0;34m()\u001b[0m\n\u001b[1;32m      6\u001b[0m \u001b[0;34m\u001b[0m\u001b[0m\n\u001b[1;32m      7\u001b[0m \u001b[0;31m# call the function\u001b[0m\u001b[0;34m\u001b[0m\u001b[0;34m\u001b[0m\u001b[0m\n\u001b[0;32m----> 8\u001b[0;31m \u001b[0mbad_function\u001b[0m\u001b[0;34m(\u001b[0m\u001b[0;34m)\u001b[0m\u001b[0;34m\u001b[0m\u001b[0m\n\u001b[0m",
      "\u001b[0;32m<ipython-input-9-1c1ae2b060b3>\u001b[0m in \u001b[0;36mbad_function\u001b[0;34m()\u001b[0m\n\u001b[1;32m      2\u001b[0m \u001b[0;31m# before the variable has been created.\u001b[0m\u001b[0;34m\u001b[0m\u001b[0;34m\u001b[0m\u001b[0m\n\u001b[1;32m      3\u001b[0m \u001b[0;32mdef\u001b[0m \u001b[0mbad_function\u001b[0m\u001b[0;34m(\u001b[0m\u001b[0;34m)\u001b[0m\u001b[0;34m:\u001b[0m\u001b[0;34m\u001b[0m\u001b[0m\n\u001b[0;32m----> 4\u001b[0;31m     \u001b[0mprint\u001b[0m\u001b[0;34m(\u001b[0m\u001b[0;34m'The value is '\u001b[0m\u001b[0;34m,\u001b[0m\u001b[0mval\u001b[0m\u001b[0;34m)\u001b[0m\u001b[0;34m\u001b[0m\u001b[0m\n\u001b[0m\u001b[1;32m      5\u001b[0m     \u001b[0mval\u001b[0m \u001b[0;34m=\u001b[0m \u001b[0;36m99\u001b[0m\u001b[0;34m\u001b[0m\u001b[0m\n\u001b[1;32m      6\u001b[0m \u001b[0;34m\u001b[0m\u001b[0m\n",
      "\u001b[0;31mUnboundLocalError\u001b[0m: local variable 'val' referenced before assignment"
     ]
    }
   ],
   "source": [
    "def bad_function():\n",
    "    print('The value is ',val)\n",
    "    val = 99\n",
    "    \n",
    "# call the function\n",
    "bad_function()"
   ]
  },
  {
   "cell_type": "markdown",
   "metadata": {},
   "source": [
    "Functions can have their own local variables."
   ]
  },
  {
   "cell_type": "code",
   "execution_count": 10,
   "metadata": {
    "collapsed": false
   },
   "outputs": [
    {
     "name": "stdout",
     "output_type": "stream",
     "text": [
      "X =  10\n",
      "X =  15\n",
      "X =  20\n"
     ]
    }
   ],
   "source": [
    "def func_1():\n",
    "    x = 10\n",
    "    print('X = ',x)\n",
    "    \n",
    "def func_2():\n",
    "    x = 15\n",
    "    print('X = ',x)\n",
    "    \n",
    "def main():\n",
    "    x = 20\n",
    "    func_1()\n",
    "    func_2()\n",
    "    print('X = ',x)\n",
    "    \n",
    "# call the main function\n",
    "main()"
   ]
  },
  {
   "cell_type": "markdown",
   "metadata": {},
   "source": [
    "<h3>Passing Arguments to Functions</h3>\n",
    "<p>An argument is any piece of data that is passed into a function when the function is called. A parameter is a variable that receives an argument that is passed into a function.</p>"
   ]
  },
  {
   "cell_type": "code",
   "execution_count": 11,
   "metadata": {
    "collapsed": false
   },
   "outputs": [
    {
     "name": "stdout",
     "output_type": "stream",
     "text": [
      "25\n"
     ]
    }
   ],
   "source": [
    "def main():\n",
    "    value = 5\n",
    "    show_square(value)\n",
    "\n",
    "def show_square(number):\n",
    "    result = number ** 2\n",
    "    print(result)\n",
    "\n",
    "# call the main function\n",
    "main()"
   ]
  },
  {
   "cell_type": "code",
   "execution_count": 13,
   "metadata": {
    "collapsed": false
   },
   "outputs": [
    {
     "name": "stdout",
     "output_type": "stream",
     "text": [
      "400\n"
     ]
    }
   ],
   "source": [
    "# call the same function with different argument.\n",
    "show_square(20)"
   ]
  },
  {
   "cell_type": "markdown",
   "metadata": {},
   "source": [
    "<h4>Passing multiple arguments</h4>\n",
    "<p>We can pass as many arguments as we want into a function.</p>"
   ]
  },
  {
   "cell_type": "code",
   "execution_count": 14,
   "metadata": {
    "collapsed": false
   },
   "outputs": [
    {
     "name": "stdout",
     "output_type": "stream",
     "text": [
      "The sum of 5 and 10 is \n",
      "15\n"
     ]
    }
   ],
   "source": [
    "# define main function\n",
    "def main():\n",
    "    print('The sum of 5 and 10 is ')\n",
    "    show_sum(5,10)\n",
    "\n",
    "# define show_sum function\n",
    "def show_sum(num1,num2):\n",
    "    result = num1+num2\n",
    "    print(result)\n",
    "    \n",
    "# call the main function\n",
    "main()"
   ]
  },
  {
   "cell_type": "code",
   "execution_count": 15,
   "metadata": {
    "collapsed": false
   },
   "outputs": [
    {
     "name": "stdout",
     "output_type": "stream",
     "text": [
      "114\n"
     ]
    }
   ],
   "source": [
    "show_sum(14,100)"
   ]
  },
  {
   "cell_type": "code",
   "execution_count": 16,
   "metadata": {
    "collapsed": false
   },
   "outputs": [
    {
     "name": "stdout",
     "output_type": "stream",
     "text": [
      "Enter your first name : Krikamol\n",
      "Enter your last name : Muandet\n",
      "Your name reversed is \n",
      "Muandet Krikamol\n"
     ]
    }
   ],
   "source": [
    "# print first name and last name in a reverse order\n",
    "def main():\n",
    "    first_name = input('Enter your first name : ')\n",
    "    last_name = input('Enter your last name : ')\n",
    "    print('Your name reversed is ')\n",
    "    reverse_name(first_name,last_name)\n",
    "    \n",
    "def reverse_name(first,last):\n",
    "    print(last,first)\n",
    "    \n",
    "# call the main function\n",
    "main()"
   ]
  },
  {
   "cell_type": "markdown",
   "metadata": {},
   "source": [
    "Any changes that are made to the parameter variable will not affect the argument."
   ]
  },
  {
   "cell_type": "code",
   "execution_count": 17,
   "metadata": {
    "collapsed": false
   },
   "outputs": [
    {
     "name": "stdout",
     "output_type": "stream",
     "text": [
      "[main] The value is  99\n",
      "[change_value] The value is  0\n",
      "[main] The value is  99\n"
     ]
    }
   ],
   "source": [
    "def main():\n",
    "    value = 99\n",
    "    print('[main] The value is ',value)\n",
    "    change_value(value)\n",
    "    print('[main] The value is ',value)\n",
    "\n",
    "def change_value(arg):\n",
    "    arg = 0\n",
    "    print('[change_value] The value is ', arg)\n",
    "    \n",
    "# call the main function\n",
    "main()"
   ]
  },
  {
   "cell_type": "markdown",
   "metadata": {
    "collapsed": true
   },
   "source": [
    "<h4>Pass-by-value vs Pass-by-reference</h4>\n",
    "<p>All parameters (arguments) in Python are passed by reference. That is, if we change what a parameter refers to within a function, the change also affects the value in the calling function.</p>"
   ]
  },
  {
   "cell_type": "code",
   "execution_count": 7,
   "metadata": {
    "collapsed": false
   },
   "outputs": [
    {
     "name": "stdout",
     "output_type": "stream",
     "text": [
      "15\n",
      "[1, 2, 3, 4, 5, 0]\n"
     ]
    }
   ],
   "source": [
    "def change_list(alist):\n",
    "    \"\"\" modify the list inside the function \"\"\"\n",
    "    \n",
    "    total_sum = sum(alist)\n",
    "    \n",
    "    # add an element to the list\n",
    "    alist.append(0)\n",
    "    \n",
    "    return total_sum\n",
    "\n",
    "def main():\n",
    "    \n",
    "    my_list = [1,2,3,4,5]\n",
    "    my_sum = change_list(my_list)\n",
    "    \n",
    "    print(my_sum)\n",
    "    print(my_list)\n",
    "    \n",
    "main()"
   ]
  },
  {
   "cell_type": "code",
   "execution_count": 8,
   "metadata": {
    "collapsed": false
   },
   "outputs": [
    {
     "name": "stdout",
     "output_type": "stream",
     "text": [
      "Inside the function.\n",
      "[10, 20, 30, 40]\n",
      "Outside the function.\n",
      "[1, 2, 3, 4, 5]\n"
     ]
    }
   ],
   "source": [
    "def change_list(alist):\n",
    "    \"\"\" modify the list inside the function \"\"\"\n",
    "    \n",
    "    alist = [10,20,30,40]\n",
    "    \n",
    "    print(\"Inside the function.\")\n",
    "    print(alist)\n",
    "    \n",
    "def main():\n",
    "    \n",
    "    my_list = [1,2,3,4,5]\n",
    "    my_sum = change_list(my_list)\n",
    "    \n",
    "    print(\"Outside the function.\")\n",
    "    print(my_list)\n",
    "    \n",
    "main()"
   ]
  },
  {
   "cell_type": "markdown",
   "metadata": {},
   "source": [
    "<h4>Default arguments</h4>\n",
    "<p>Default values indicate that the function argument will take that value if no argument value is passed during function call.</p>"
   ]
  },
  {
   "cell_type": "code",
   "execution_count": 4,
   "metadata": {
    "collapsed": false
   },
   "outputs": [
    {
     "name": "stdout",
     "output_type": "stream",
     "text": [
      "Name: Krikamol , Age:  18\n",
      "Name: David , Age:  26\n",
      "Name: Jeff , Age:  35\n"
     ]
    }
   ],
   "source": [
    "# function definition\n",
    "def my_function(name, age=18):\n",
    "    print(\"Name:\",name,\", Age: \", age)\n",
    "\n",
    "# function call\n",
    "my_function(\"Krikamol\")\n",
    "my_function(\"David\",26)\n",
    "my_function(\"Jeff\",35)"
   ]
  },
  {
   "cell_type": "markdown",
   "metadata": {},
   "source": [
    "<h4>Keyword arguments</h4>\n",
    "<p>Keywords arguments are mentioned during the function call along with their corresponding values.</p>\n",
    "<p><i>parameter_name=value</i></p>"
   ]
  },
  {
   "cell_type": "code",
   "execution_count": 20,
   "metadata": {
    "collapsed": false
   },
   "outputs": [
    {
     "name": "stdout",
     "output_type": "stream",
     "text": [
      "Arg1 =  5\n",
      "Arg2 =  10\n",
      "Arg3 =  12\n",
      "\n",
      "Arg1 =  5\n",
      "Arg2 =  10\n",
      "Arg3 =  12\n"
     ]
    }
   ],
   "source": [
    "def main():\n",
    "    show_values(5,10,12)\n",
    "    print('')\n",
    "    show_values(arg2=10,arg1=5,arg3=12)\n",
    "    \n",
    "def show_values(arg1,arg2,arg3):\n",
    "    print('Arg1 = ',arg1)\n",
    "    print('Arg2 = ',arg2)\n",
    "    print('Arg3 = ',arg3)\n",
    "    \n",
    "# call the main function\n",
    "main()"
   ]
  },
  {
   "cell_type": "markdown",
   "metadata": {},
   "source": [
    "<h3>Global variables and global constants</h3>\n",
    "<p>A global variable is accessible to all the functions in a program file.</p>"
   ]
  },
  {
   "cell_type": "code",
   "execution_count": 21,
   "metadata": {
    "collapsed": false
   },
   "outputs": [
    {
     "name": "stdout",
     "output_type": "stream",
     "text": [
      "20\n",
      "10\n"
     ]
    }
   ],
   "source": [
    "# create a global varaible\n",
    "my_var = 10\n",
    "\n",
    "def show_value():\n",
    "    my_var = 20\n",
    "    print(my_var)\n",
    "    \n",
    "show_value()\n",
    "print(my_var)"
   ]
  },
  {
   "cell_type": "code",
   "execution_count": 22,
   "metadata": {
    "collapsed": false
   },
   "outputs": [
    {
     "name": "stdout",
     "output_type": "stream",
     "text": [
      "Enter a number : 10\n",
      "The number you entered is  10\n"
     ]
    }
   ],
   "source": [
    "# assign a value to global variable in function\n",
    "\n",
    "# create a global variable \n",
    "number = 0\n",
    "\n",
    "def main():\n",
    "    global number\n",
    "    number = int(input('Enter a number : '))\n",
    "    show_number()\n",
    "    \n",
    "def show_number():\n",
    "    print('The number you entered is ',number)\n",
    "    \n",
    "# call the main function\n",
    "main()"
   ]
  },
  {
   "cell_type": "markdown",
   "metadata": {},
   "source": [
    "<h3>Value-returning functions</h3>\n",
    "<p>A value-returning function is a function that returns a value back to the part of the program that called it.</p>"
   ]
  },
  {
   "cell_type": "code",
   "execution_count": 23,
   "metadata": {
    "collapsed": true
   },
   "outputs": [],
   "source": [
    "# standard library functions and the import statement\n",
    "import math"
   ]
  },
  {
   "cell_type": "code",
   "execution_count": 24,
   "metadata": {
    "collapsed": false
   },
   "outputs": [
    {
     "name": "stdout",
     "output_type": "stream",
     "text": [
      "48\n"
     ]
    }
   ],
   "source": [
    "# generating random numbers\n",
    "import random\n",
    "\n",
    "number = random.randint(1,100)\n",
    "print(number)"
   ]
  },
  {
   "cell_type": "code",
   "execution_count": 25,
   "metadata": {
    "collapsed": false
   },
   "outputs": [
    {
     "name": "stdout",
     "output_type": "stream",
     "text": [
      "The number is  3\n",
      "The number is  4\n",
      "The number is  8\n",
      "The number is  4\n",
      "The number is  5\n",
      "The number is  8\n",
      "The number is  2\n",
      "The number is  7\n",
      "The number is  6\n",
      "The number is  8\n"
     ]
    }
   ],
   "source": [
    "# another example\n",
    "import random\n",
    "\n",
    "def main():\n",
    "    for count in range(10):\n",
    "        # get a random number\n",
    "        number = random.randint(1,10)\n",
    "        \n",
    "        # display the number\n",
    "        print('The number is ',number)\n",
    "        \n",
    "# call the main function\n",
    "main()"
   ]
  },
  {
   "cell_type": "code",
   "execution_count": 26,
   "metadata": {
    "collapsed": false
   },
   "outputs": [
    {
     "name": "stdout",
     "output_type": "stream",
     "text": [
      "48\n"
     ]
    }
   ],
   "source": [
    "# the randrange, random, and uniform functions\n",
    "import random\n",
    "\n",
    "number = random.randrange(100)\n",
    "print(number)"
   ]
  },
  {
   "cell_type": "code",
   "execution_count": 27,
   "metadata": {
    "collapsed": false
   },
   "outputs": [
    {
     "name": "stdout",
     "output_type": "stream",
     "text": [
      "5\n"
     ]
    }
   ],
   "source": [
    "print(random.randrange(5,10))"
   ]
  },
  {
   "cell_type": "code",
   "execution_count": 28,
   "metadata": {
    "collapsed": false
   },
   "outputs": [
    {
     "name": "stdout",
     "output_type": "stream",
     "text": [
      "80\n"
     ]
    }
   ],
   "source": [
    "print(random.randrange(0,101,10))"
   ]
  },
  {
   "cell_type": "code",
   "execution_count": 29,
   "metadata": {
    "collapsed": false
   },
   "outputs": [
    {
     "name": "stdout",
     "output_type": "stream",
     "text": [
      "0.7535830801229281\n"
     ]
    }
   ],
   "source": [
    "number = random.random()\n",
    "print(number)"
   ]
  },
  {
   "cell_type": "code",
   "execution_count": 30,
   "metadata": {
    "collapsed": false
   },
   "outputs": [
    {
     "name": "stdout",
     "output_type": "stream",
     "text": [
      "2.8351295394992295\n"
     ]
    }
   ],
   "source": [
    "number = random.uniform(1.0,10.0)\n",
    "print(number)"
   ]
  },
  {
   "cell_type": "code",
   "execution_count": 31,
   "metadata": {
    "collapsed": false
   },
   "outputs": [
    {
     "name": "stdout",
     "output_type": "stream",
     "text": [
      "10\n",
      "5\n",
      "6\n",
      "9\n",
      "1\n",
      "8\n",
      "4\n",
      "1\n",
      "3\n",
      "2\n"
     ]
    }
   ],
   "source": [
    "# random number seeds\n",
    "random.seed(5)\n",
    "\n",
    "for i in range(10):\n",
    "    print(random.randint(1,10))"
   ]
  },
  {
   "cell_type": "markdown",
   "metadata": {},
   "source": [
    "<h4>Writing your own value-returning functions</h4>\n",
    "<p>A value-returning function has a <b>return</b> statement that returns a value back to the part of the program that called it.</p>\n",
    "\n",
    "```python\n",
    "def function_name(arguments):\n",
    "    statement(s)\n",
    "    return expression\n",
    "```\n"
   ]
  },
  {
   "cell_type": "code",
   "execution_count": 9,
   "metadata": {
    "collapsed": true
   },
   "outputs": [],
   "source": [
    "# define the sum function\n",
    "def sum(num1,num2):\n",
    "    return (num1 + num2) "
   ]
  },
  {
   "cell_type": "code",
   "execution_count": 33,
   "metadata": {
    "collapsed": false
   },
   "outputs": [
    {
     "name": "stdout",
     "output_type": "stream",
     "text": [
      "40\n"
     ]
    }
   ],
   "source": [
    "# call the sum function\n",
    "res = sum(20,20)\n",
    "print(res)"
   ]
  },
  {
   "cell_type": "code",
   "execution_count": 34,
   "metadata": {
    "collapsed": false
   },
   "outputs": [
    {
     "name": "stdout",
     "output_type": "stream",
     "text": [
      "Enter your name : Krikamol\n",
      "Krikamol\n"
     ]
    }
   ],
   "source": [
    "# return strings\n",
    "def get_name():\n",
    "    # get the user's name\n",
    "    name = input('Enter your name : ')\n",
    "    \n",
    "    # return the name \n",
    "    return name\n",
    "\n",
    "my_name = get_name()\n",
    "print(my_name)"
   ]
  },
  {
   "cell_type": "code",
   "execution_count": 35,
   "metadata": {
    "collapsed": false
   },
   "outputs": [
    {
     "name": "stdout",
     "output_type": "stream",
     "text": [
      "Enter a number : 19\n",
      "The number is odd.\n"
     ]
    }
   ],
   "source": [
    "# returning boolean values\n",
    "def is_even(number):\n",
    "    if (number % 2) == 0:\n",
    "        status = True\n",
    "    else:\n",
    "        status = False\n",
    "        \n",
    "    return status\n",
    "\n",
    "# the program\n",
    "number = int(input('Enter a number : '))\n",
    "if is_even(number):\n",
    "    print('The number is even.')\n",
    "else:\n",
    "    print('The number is odd.')"
   ]
  },
  {
   "cell_type": "code",
   "execution_count": 36,
   "metadata": {
    "collapsed": false
   },
   "outputs": [
    {
     "name": "stdout",
     "output_type": "stream",
     "text": [
      "Enter your first name : Krikamol\n",
      "Enter your last name : Muandet\n",
      "Krikamol Muandet\n",
      "<class 'str'>\n"
     ]
    }
   ],
   "source": [
    "# returning multiple values\n",
    "def get_name():\n",
    "    first = input('Enter your first name : ')\n",
    "    last = input('Enter your last name : ')\n",
    "    \n",
    "    # return both names\n",
    "    return first, last\n",
    "\n",
    "# a program\n",
    "first_name, last_name = get_name()\n",
    "print(first_name,last_name)\n",
    "print(type(first_name))"
   ]
  },
  {
   "cell_type": "code",
   "execution_count": null,
   "metadata": {
    "collapsed": true
   },
   "outputs": [],
   "source": [
    "# the math module\n",
    "# the math.pi and math.e values"
   ]
  },
  {
   "cell_type": "code",
   "execution_count": 37,
   "metadata": {
    "collapsed": false
   },
   "outputs": [
    {
     "data": {
      "text/plain": [
       "2.718281828459045"
      ]
     },
     "execution_count": 37,
     "metadata": {},
     "output_type": "execute_result"
    }
   ],
   "source": [
    "import math\n",
    "math.e"
   ]
  },
  {
   "cell_type": "markdown",
   "metadata": {},
   "source": [
    "<h3>Anonymous Functions</h3>\n",
    "<p>In addition to <b>def</b> keyword, we can also use <b>lambda</b> to define a function.</p>\n",
    "```python\n",
    "function_name = lambda arg: expression\n",
    "```"
   ]
  },
  {
   "cell_type": "code",
   "execution_count": 12,
   "metadata": {
    "collapsed": true
   },
   "outputs": [],
   "source": [
    "# define a lambda function\n",
    "square_root = lambda x: x**0.5"
   ]
  },
  {
   "cell_type": "code",
   "execution_count": 16,
   "metadata": {
    "collapsed": false
   },
   "outputs": [
    {
     "name": "stdout",
     "output_type": "stream",
     "text": [
      "2.0\n",
      "2.449489742783178\n",
      "9.9498743710662\n"
     ]
    }
   ],
   "source": [
    "# call the function\n",
    "print(square_root(4))\n",
    "print(square_root(6))\n",
    "print(square_root(99))"
   ]
  },
  {
   "cell_type": "markdown",
   "metadata": {},
   "source": [
    "<h3>Storing functions in modules</h3>\n",
    "<p>A module is a file that contains Python code. Large programs are easier to debug and maintain when they are divided into modules.</p>"
   ]
  },
  {
   "cell_type": "code",
   "execution_count": 10,
   "metadata": {
    "collapsed": false
   },
   "outputs": [
    {
     "name": "stdout",
     "output_type": "stream",
     "text": [
      "Area =  78.53981633974483 , Circumference =  31.41592653589793\n"
     ]
    }
   ],
   "source": [
    "# use circle module\n",
    "import circle\n",
    "\n",
    "radius = 5\n",
    "\n",
    "area = circle.area(radius)\n",
    "circ = circle.circumference(radius)\n",
    "\n",
    "print('Area = ',area,', Circumference = ',circ)"
   ]
  },
  {
   "cell_type": "code",
   "execution_count": 11,
   "metadata": {
    "collapsed": false
   },
   "outputs": [
    {
     "name": "stdout",
     "output_type": "stream",
     "text": [
      "Area =  50 , Perimeter =  30\n"
     ]
    }
   ],
   "source": [
    "# use rectangle module\n",
    "import rectangle\n",
    "\n",
    "width = 5\n",
    "length = 10\n",
    "\n",
    "area = rectangle.area(width,length)\n",
    "peri = rectangle.perimeter(width,length)\n",
    "\n",
    "print('Area = ',area,', Perimeter = ',peri)"
   ]
  },
  {
   "cell_type": "code",
   "execution_count": null,
   "metadata": {
    "collapsed": true
   },
   "outputs": [],
   "source": []
  }
 ],
 "metadata": {
  "kernelspec": {
   "display_name": "Python 3",
   "language": "python",
   "name": "python3"
  },
  "language_info": {
   "codemirror_mode": {
    "name": "ipython",
    "version": 3
   },
   "file_extension": ".py",
   "mimetype": "text/x-python",
   "name": "python",
   "nbconvert_exporter": "python",
   "pygments_lexer": "ipython3",
   "version": "3.5.2"
  }
 },
 "nbformat": 4,
 "nbformat_minor": 1
}
