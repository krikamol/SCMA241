{
 "cells": [
  {
   "cell_type": "markdown",
   "metadata": {},
   "source": [
    "<h1>Advanced Topics in Python</h1>\n",
    "<p>In Python, you can do much more than you can imagine.</p>"
   ]
  },
  {
   "cell_type": "markdown",
   "metadata": {},
   "source": [
    "<h3>Pass-by-reference vs pass-by-value</h3>\n",
    "<p>All arguments in the Python language are passed by reference.</p>"
   ]
  },
  {
   "cell_type": "code",
   "execution_count": 1,
   "metadata": {
    "collapsed": true
   },
   "outputs": [],
   "source": [
    "def change_my_values(arg_list):\n",
    "    print('before sorting :',arg_list)\n",
    "    arg_list.sort()\n",
    "    print('after sorting :',arg_list)"
   ]
  },
  {
   "cell_type": "code",
   "execution_count": 2,
   "metadata": {
    "collapsed": false
   },
   "outputs": [
    {
     "name": "stdout",
     "output_type": "stream",
     "text": [
      "before sorting : [5, 4, 3, 2, 1]\n",
      "after sorting : [1, 2, 3, 4, 5]\n",
      "outside function : [1, 2, 3, 4, 5]\n"
     ]
    }
   ],
   "source": [
    "my_list = [5,4,3,2,1]\n",
    "change_my_values(my_list)\n",
    "\n",
    "print('outside function :',my_list)"
   ]
  },
  {
   "cell_type": "code",
   "execution_count": 3,
   "metadata": {
    "collapsed": true
   },
   "outputs": [],
   "source": [
    "# ...\n",
    "def ref_demo(x):\n",
    "    print('x =',x,', id =',id(x))\n",
    "    x = 99\n",
    "    print('x =',x,', id =',id(x))"
   ]
  },
  {
   "cell_type": "code",
   "execution_count": 5,
   "metadata": {
    "collapsed": false
   },
   "outputs": [
    {
     "name": "stdout",
     "output_type": "stream",
     "text": [
      "num = 11 , id = 4536621952\n",
      "x = 11 , id = 4536621952\n",
      "x = 99 , id = 4536624768\n",
      "num = 11 , id = 4536621952\n"
     ]
    }
   ],
   "source": [
    "num = 11\n",
    "print('num =',num,', id =',id(num))\n",
    "ref_demo(num)\n",
    "print('num =',num,', id =',id(num))"
   ]
  },
  {
   "cell_type": "code",
   "execution_count": 8,
   "metadata": {
    "collapsed": false
   },
   "outputs": [
    {
     "name": "stdout",
     "output_type": "stream",
     "text": [
      "[1]\n",
      "[1, 2]\n",
      "[1, 2, 3]\n"
     ]
    }
   ],
   "source": [
    "# mutability\n",
    "def add_item(num,target=[]):\n",
    "    target.append(num)\n",
    "    return target\n",
    "\n",
    "print(add_item(1))\n",
    "print(add_item(2))\n",
    "print(add_item(3))"
   ]
  },
  {
   "cell_type": "code",
   "execution_count": 9,
   "metadata": {
    "collapsed": false
   },
   "outputs": [
    {
     "name": "stdout",
     "output_type": "stream",
     "text": [
      "[1]\n",
      "[2]\n",
      "[3]\n"
     ]
    }
   ],
   "source": [
    "# fix\n",
    "def add_item(num,target=None):\n",
    "    if target is None:\n",
    "        target = []\n",
    "    target.append(num)\n",
    "    return target\n",
    "\n",
    "print(add_item(1))\n",
    "print(add_item(2))\n",
    "print(add_item(3))"
   ]
  },
  {
   "cell_type": "markdown",
   "metadata": {},
   "source": [
    "<h3>Lambda function</h3>\n",
    "<p>Lambda function is a way to create small anonymous functions, i.e., without a name.<br><br>\n",
    "\n",
    "<b>lambda</b> <i>argument_list</i>: expression\n",
    "</p>"
   ]
  },
  {
   "cell_type": "code",
   "execution_count": 10,
   "metadata": {
    "collapsed": true
   },
   "outputs": [],
   "source": [
    "f = lambda x,y: x+y"
   ]
  },
  {
   "cell_type": "code",
   "execution_count": 11,
   "metadata": {
    "collapsed": false
   },
   "outputs": [
    {
     "data": {
      "text/plain": [
       "10"
      ]
     },
     "execution_count": 11,
     "metadata": {},
     "output_type": "execute_result"
    }
   ],
   "source": [
    "f(5,5)"
   ]
  },
  {
   "cell_type": "code",
   "execution_count": 12,
   "metadata": {
    "collapsed": true
   },
   "outputs": [],
   "source": [
    "g = lambda x: x**0.5"
   ]
  },
  {
   "cell_type": "code",
   "execution_count": 13,
   "metadata": {
    "collapsed": false
   },
   "outputs": [
    {
     "data": {
      "text/plain": [
       "1.4142135623730951"
      ]
     },
     "execution_count": 13,
     "metadata": {},
     "output_type": "execute_result"
    }
   ],
   "source": [
    "g(2)"
   ]
  },
  {
   "cell_type": "markdown",
   "metadata": {},
   "source": [
    "<h3>Map, filter, and reduce</h3>\n",
    "<p>\n",
    "<ul>\n",
    "<li><b>map(func,seq)</b> : apply a function <b>func</b> to all the elements of a <b>sequence</b>.\n",
    "<li><b>filter(func,seq)</b> : create a list of elements for which a function returns True.</li>\n",
    "<li><b>reduce(func,seq)</b> : continually apply the function to the sequence.</li>\n",
    "</ul>\n",
    "</p>"
   ]
  },
  {
   "cell_type": "code",
   "execution_count": 14,
   "metadata": {
    "collapsed": false
   },
   "outputs": [
    {
     "name": "stdout",
     "output_type": "stream",
     "text": [
      "[1, 4, 9, 16, 25]\n"
     ]
    }
   ],
   "source": [
    "# apply function to a list\n",
    "numbers = [1,2,3,4,5]\n",
    "squares = []\n",
    "\n",
    "for n in numbers:\n",
    "    squares.append(n**2)\n",
    "    \n",
    "print(squares)"
   ]
  },
  {
   "cell_type": "code",
   "execution_count": 15,
   "metadata": {
    "collapsed": false
   },
   "outputs": [
    {
     "name": "stdout",
     "output_type": "stream",
     "text": [
      "[1, 4, 9, 16, 25]\n"
     ]
    }
   ],
   "source": [
    "# map function\n",
    "numbers = [1,2,3,4,5]\n",
    "squares = list(map(lambda x:x**2,numbers))\n",
    "print(squares)"
   ]
  },
  {
   "cell_type": "code",
   "execution_count": 16,
   "metadata": {
    "collapsed": false
   },
   "outputs": [
    {
     "name": "stdout",
     "output_type": "stream",
     "text": [
      "[1, 2, 3, 4]\n",
      "[-5, -4, -3, -2, -1]\n"
     ]
    }
   ],
   "source": [
    "# filter function\n",
    "numbers = range(-5,5) # [-5,-4,..,4]\n",
    "negative_numbers = list(filter(lambda x: x<0,numbers))\n",
    "positive_numbers = list(filter(lambda x: x>0,numbers))\n",
    "\n",
    "print(positive_numbers)\n",
    "print(negative_numbers)"
   ]
  },
  {
   "cell_type": "code",
   "execution_count": 17,
   "metadata": {
    "collapsed": false
   },
   "outputs": [
    {
     "name": "stdout",
     "output_type": "stream",
     "text": [
      "384\n"
     ]
    }
   ],
   "source": [
    "# reduce function\n",
    "from functools import reduce\n",
    "\n",
    "numbers = [2,4,6,8]\n",
    "result = reduce(lambda x,y: x*y,numbers)\n",
    "\n",
    "print(result)"
   ]
  },
  {
   "cell_type": "markdown",
   "metadata": {},
   "source": [
    "<h3>Ternary operator</h3>\n",
    "<p>Ternary operators are also known as conditional expressions in Python.</p>"
   ]
  },
  {
   "cell_type": "code",
   "execution_count": 18,
   "metadata": {
    "collapsed": true
   },
   "outputs": [],
   "source": [
    "# condition_is_true if condition else condition_is_false\n",
    "is_handsome = False\n",
    "state = \"handsome\" if is_handsome else \"not handsome\"\n",
    "\n",
    "if is_handsome:\n",
    "    state = \"handsome\"\n",
    "else:\n",
    "    state = \"not handsome\""
   ]
  },
  {
   "cell_type": "code",
   "execution_count": 19,
   "metadata": {
    "collapsed": false
   },
   "outputs": [
    {
     "name": "stdout",
     "output_type": "stream",
     "text": [
      "not handsome\n"
     ]
    }
   ],
   "source": [
    "print(state)"
   ]
  },
  {
   "cell_type": "code",
   "execution_count": 20,
   "metadata": {
    "collapsed": false
   },
   "outputs": [
    {
     "name": "stdout",
     "output_type": "stream",
     "text": [
      "Enter number: 6\n",
      "positive\n"
     ]
    }
   ],
   "source": [
    "num = int(input('Enter number: '))\n",
    "\n",
    "state = \"positive\" if num>0 else (\"negative\" if num<0 else \"zero\")\n",
    "print(state)"
   ]
  },
  {
   "cell_type": "code",
   "execution_count": null,
   "metadata": {
    "collapsed": true
   },
   "outputs": [],
   "source": [
    "# (if_test_is_false, if_test_is_true)[test]\n",
    "is_handsome = True\n",
    "state = (\"not handsome\",\"handsome\")[is_handsome]"
   ]
  },
  {
   "cell_type": "code",
   "execution_count": null,
   "metadata": {
    "collapsed": false
   },
   "outputs": [],
   "source": [
    "print(\"I am\",state)"
   ]
  },
  {
   "cell_type": "markdown",
   "metadata": {},
   "source": [
    "<h3>Matplotlib</h3>\n",
    "<p>Matplotlib is a python 2D plotting library (<a href=\"http://matplotlib.org/\">http://matplotlib.org/</a>).</p>"
   ]
  },
  {
   "cell_type": "code",
   "execution_count": 21,
   "metadata": {
    "collapsed": true
   },
   "outputs": [],
   "source": [
    "from matplotlib import pyplot as plt\n",
    "import numpy as np\n",
    "import math\n",
    "\n",
    "%matplotlib inline"
   ]
  },
  {
   "cell_type": "code",
   "execution_count": 30,
   "metadata": {
    "collapsed": false
   },
   "outputs": [],
   "source": [
    "x = np.linspace(0,2*math.pi,100)\n",
    "y_sin = list(map(lambda x:np.sin(x),x))\n",
    "y_cos = list(map(lambda x:np.cos(x),x))"
   ]
  },
  {
   "cell_type": "code",
   "execution_count": null,
   "metadata": {
    "collapsed": false
   },
   "outputs": [],
   "source": []
  },
  {
   "cell_type": "code",
   "execution_count": 39,
   "metadata": {
    "collapsed": false
   },
   "outputs": [
    {
     "data": {
      "image/png": "[encoded data removed]",
      "text/plain": [
       "<matplotlib.figure.Figure at 0x112538d68>"
      ]
     },
     "metadata": {},
     "output_type": "display_data"
    }
   ],
   "source": [
    "plt.plot(x,y_sin,'--',lw=4,color='m',label='sin');\n",
    "plt.plot(x,y_cos,lw=4,label='cos');\n",
    "plt.grid()\n",
    "plt.xlabel('X')\n",
    "plt.ylabel('Y')\n",
    "plt.title('Sin and cosine functions')\n",
    "plt.legend()\n",
    "\n",
    "plt.savefig('myplot.png',format='png',dpi=300);"
   ]
  },
  {
   "cell_type": "code",
   "execution_count": 40,
   "metadata": {
    "collapsed": false
   },
   "outputs": [
    {
     "data": {
      "image/png": "[encoded data removed]",
      "text/plain": [
       "<matplotlib.figure.Figure at 0x1122c4b70>"
      ]
     },
     "metadata": {},
     "output_type": "display_data"
    }
   ],
   "source": [
    "# histogram\n",
    "mu, sigma = 2, 1\n",
    "v = np.random.normal(mu,sigma,1000)\n",
    "\n",
    "plt.hist(v, bins=50, normed=1);"
   ]
  },
  {
   "cell_type": "markdown",
   "metadata": {},
   "source": [
    "<h3>Numpy and Scipy</h3>\n",
    "<p>\n",
    "<ul>\n",
    "<li>http://www.numpy.org/</li>\n",
    "<li>https://www.scipy.org/</li>\n",
    "<li>http://pandas.pydata.org/</li>\n",
    "</ul>\n",
    "</p>"
   ]
  },
  {
   "cell_type": "code",
   "execution_count": 41,
   "metadata": {
    "collapsed": true
   },
   "outputs": [],
   "source": [
    "# optimize\n",
    "from scipy import special, optimize\n",
    "from matplotlib import pyplot as plt"
   ]
  },
  {
   "cell_type": "code",
   "execution_count": 42,
   "metadata": {
    "collapsed": false
   },
   "outputs": [
    {
     "data": {
      "image/png": "[encoded data removed]",
      "text/plain": [
       "<matplotlib.figure.Figure at 0x112532f98>"
      ]
     },
     "metadata": {},
     "output_type": "display_data"
    }
   ],
   "source": [
    "f = lambda x: -special.jv(3, x)\n",
    "x = np.linspace(0,10,100)\n",
    "plt.plot(x,f(x),lw=3)\n",
    "plt.grid()"
   ]
  },
  {
   "cell_type": "code",
   "execution_count": 44,
   "metadata": {
    "collapsed": false
   },
   "outputs": [
    {
     "name": "stdout",
     "output_type": "stream",
     "text": [
      "Solution = [ 4.20118907]\n"
     ]
    }
   ],
   "source": [
    "# finding the minimizer\n",
    "sol = optimize.minimize(f, 1.0)\n",
    "print('Solution =',sol.x)"
   ]
  },
  {
   "cell_type": "code",
   "execution_count": 45,
   "metadata": {
    "collapsed": false
   },
   "outputs": [
    {
     "data": {
      "text/plain": [
       "[<matplotlib.lines.Line2D at 0x112532d68>]"
      ]
     },
     "execution_count": 45,
     "metadata": {},
     "output_type": "execute_result"
    },
    {
     "data": {
      "image/png": "[encoded data removed]",
      "text/plain": [
       "<matplotlib.figure.Figure at 0x112532c88>"
      ]
     },
     "metadata": {},
     "output_type": "display_data"
    }
   ],
   "source": [
    "plt.plot(x, f(x), lw=3);\n",
    "plt.plot(sol.x, sol.fun, 'o')"
   ]
  },
  {
   "cell_type": "code",
   "execution_count": 46,
   "metadata": {
    "collapsed": false
   },
   "outputs": [
    {
     "name": "stdout",
     "output_type": "stream",
     "text": [
      "practice makes perfect!\n"
     ]
    }
   ],
   "source": [
    "print('practice makes perfect!')"
   ]
  },
  {
   "cell_type": "code",
   "execution_count": null,
   "metadata": {
    "collapsed": true
   },
   "outputs": [],
   "source": []
  }
 ],
 "metadata": {
  "kernelspec": {
   "display_name": "Python 3",
   "language": "python",
   "name": "python3"
  },
  "language_info": {
   "codemirror_mode": {
    "name": "ipython",
    "version": 3
   },
   "file_extension": ".py",
   "mimetype": "text/x-python",
   "name": "python",
   "nbconvert_exporter": "python",
   "pygments_lexer": "ipython3",
   "version": "3.5.2"
  }
 },
 "nbformat": 4,
 "nbformat_minor": 1
}
