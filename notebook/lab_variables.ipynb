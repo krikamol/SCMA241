{
 "cells": [
  {
   "cell_type": "markdown",
   "metadata": {},
   "source": [
    "<h1>Lab 1: Python Basics, Variables, and Types</h1>"
   ]
  },
  {
   "cell_type": "markdown",
   "metadata": {},
   "source": [
    "<p><b>Problem #1:</b> Write a program that prints \"Hello World!\" on the screen.</p>"
   ]
  },
  {
   "cell_type": "code",
   "execution_count": 1,
   "metadata": {
    "collapsed": false
   },
   "outputs": [
    {
     "name": "stdout",
     "output_type": "stream",
     "text": [
      "Hello World!\n"
     ]
    }
   ],
   "source": [
    "print(\"Hello World!\")"
   ]
  },
  {
   "cell_type": "markdown",
   "metadata": {},
   "source": [
    "<p><b>Problem #2:</b> Write a program which creates 4 variables to store your name, student ID, major, and cumulative GPA. Then, print them out on the screen.</p>"
   ]
  },
  {
   "cell_type": "code",
   "execution_count": 2,
   "metadata": {
    "collapsed": false
   },
   "outputs": [
    {
     "name": "stdout",
     "output_type": "stream",
     "text": [
      "Krikamol 123456 Mathematics 3.5\n"
     ]
    }
   ],
   "source": [
    "name = \"Krikamol\"\n",
    "student_id = \"123456\"\n",
    "major = \"Mathematics\"\n",
    "cGPA = 3.5\n",
    "\n",
    "print(name, student_id, major, cGPA)"
   ]
  },
  {
   "cell_type": "markdown",
   "metadata": {},
   "source": [
    "<p><b>Problem #3:</b> Write a program that gets radius of a circle and calculates the area and the perimeter of the circle. The program should print out both area and perimeter of the circle on the screen.</p>"
   ]
  },
  {
   "cell_type": "code",
   "execution_count": 4,
   "metadata": {
    "collapsed": false
   },
   "outputs": [
    {
     "name": "stdout",
     "output_type": "stream",
     "text": [
      "Enter radius: 3\n",
      "Area =  28.274333882308138\n",
      "Perimeter =  18.84955592153876\n"
     ]
    }
   ],
   "source": [
    "import math\n",
    "radius = float(input(\"Enter radius: \"))\n",
    "\n",
    "area = math.pi*radius*radius\n",
    "perimeter = 2*math.pi*radius\n",
    "\n",
    "print(\"Area = \", area)\n",
    "print(\"Perimeter = \",perimeter)"
   ]
  },
  {
   "cell_type": "markdown",
   "metadata": {},
   "source": [
    "<p><b>Problem #4:</b> Write a program that gets width and height of the rectangle and calculate the area and the perimeter of the rectangle. The program should print out both area and perimeter of the rectangle on the screen.</p>"
   ]
  },
  {
   "cell_type": "code",
   "execution_count": 5,
   "metadata": {
    "collapsed": false
   },
   "outputs": [
    {
     "name": "stdout",
     "output_type": "stream",
     "text": [
      "Enter width: 3\n",
      "Enter height: 5\n",
      "Area =  15.0\n",
      "Perimeter =  16.0\n"
     ]
    }
   ],
   "source": [
    "width = float(input('Enter width: '))\n",
    "height = float(input('Enter height: '))\n",
    "\n",
    "area = width*height\n",
    "perimeter = 2*(width+height)\n",
    "\n",
    "print(\"Area = \", area)\n",
    "print(\"Perimeter = \", perimeter)"
   ]
  },
  {
   "cell_type": "markdown",
   "metadata": {},
   "source": [
    "<p><b>Problem #5:</b> Write a program that gets the temperature in degree celcius and then convert it into the temperature in degree farenheit. The program should then print out the temperature in degree farenheit. Hint: \n",
    "<br><br>\n",
    "$$T_{\\text{fahrenheit}} = \\frac{9}{5}\\times T_{\\text{celsius}} + 32$$.</p>"
   ]
  },
  {
   "cell_type": "code",
   "execution_count": 6,
   "metadata": {
    "collapsed": false
   },
   "outputs": [
    {
     "name": "stdout",
     "output_type": "stream",
     "text": [
      "Enter temperature (in celcius): 0\n",
      "0.0  degree celcius is  32.0 degree farenheit.\n"
     ]
    }
   ],
   "source": [
    "celcius = float(input('Enter temperature (in celcius): '))\n",
    "farenheit = (9/5.)*celcius + 32\n",
    "print(celcius,\" degree celcius is \",farenheit,\"degree farenheit.\")"
   ]
  },
  {
   "cell_type": "markdown",
   "metadata": {},
   "source": [
    "<p><b>Problem #6:</b> Write a program that gets the number of male and female students in the class as inputs. The program should then calculate and print out the percentages of male and female students.</p>"
   ]
  },
  {
   "cell_type": "code",
   "execution_count": null,
   "metadata": {
    "collapsed": true
   },
   "outputs": [],
   "source": [
    "# TODO"
   ]
  },
  {
   "cell_type": "markdown",
   "metadata": {},
   "source": [
    "<p><b>Problem #7:</b> You have only two types of coins, 5-baht coin and 1-baht coin. Write a program that receives the amount of change and calculates the minimal number of 5-baht coins and 1-baht coins for that amount of change.</p>"
   ]
  },
  {
   "cell_type": "code",
   "execution_count": null,
   "metadata": {
    "collapsed": true
   },
   "outputs": [],
   "source": [
    "# TODO"
   ]
  }
 ],
 "metadata": {
  "kernelspec": {
   "display_name": "Python 3",
   "language": "python",
   "name": "python3"
  },
  "language_info": {
   "codemirror_mode": {
    "name": "ipython",
    "version": 3
   },
   "file_extension": ".py",
   "mimetype": "text/x-python",
   "name": "python",
   "nbconvert_exporter": "python",
   "pygments_lexer": "ipython3",
   "version": "3.5.2"
  }
 },
 "nbformat": 4,
 "nbformat_minor": 1
}
