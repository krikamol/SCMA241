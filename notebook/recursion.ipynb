{
 "cells": [
  {
   "cell_type": "markdown",
   "metadata": {},
   "source": [
    "<h1>Recursion</h1>\n",
    "\n",
    "<strong>Acknowledgement</strong> : the contents of this notebook are partially based on the book <i>\"Starting Out with Python (3rd Edition)\"</i>.\n",
    "\n",
    "<p>A recursive function is a function that calls itself.</p>"
   ]
  },
  {
   "cell_type": "code",
   "execution_count": null,
   "metadata": {
    "collapsed": false
   },
   "outputs": [],
   "source": [
    "# this program has a recursive function. \n",
    "# It runs forever.\n",
    "def main():\n",
    "    message()\n",
    "    \n",
    "def message():\n",
    "    print('This is a recursive function.')\n",
    "    message()\n",
    "    \n",
    "# call the main function\n",
    "main()"
   ]
  },
  {
   "cell_type": "code",
   "execution_count": 1,
   "metadata": {
    "collapsed": false
   },
   "outputs": [
    {
     "name": "stdout",
     "output_type": "stream",
     "text": [
      "This is a recursive function.\n",
      "This is a recursive function.\n",
      "This is a recursive function.\n",
      "This is a recursive function.\n",
      "This is a recursive function.\n"
     ]
    }
   ],
   "source": [
    "# this program has a recursive function.\n",
    "# This recursive function has a stopping condition. \n",
    "def main():\n",
    "    message(5)\n",
    "    \n",
    "def message(times):\n",
    "    if times > 0:\n",
    "        print('This is a recursive function.')\n",
    "        message(times-1)\n",
    "    \n",
    "# call the main function\n",
    "main()"
   ]
  },
  {
   "cell_type": "markdown",
   "metadata": {},
   "source": [
    "<h3>Problem solving with recursion</h3>\n",
    "<p>A problem can be solved with recursion if it can be broken down into smaller problems that are identical in structure to the overall problem.</p>"
   ]
  },
  {
   "cell_type": "code",
   "execution_count": 2,
   "metadata": {
    "collapsed": false
   },
   "outputs": [
    {
     "name": "stdout",
     "output_type": "stream",
     "text": [
      "Enter a nonnegative integer : 10\n",
      "The factorial of  10 is 3628800\n"
     ]
    }
   ],
   "source": [
    "# this program uses recursion to calculate the factorial of a number\n",
    "\n",
    "def main():\n",
    "    # get a number from the user.\n",
    "    number = int(input('Enter a nonnegative integer : '))\n",
    "    \n",
    "    # get the factorial of the number.\n",
    "    fact = factorial(number)\n",
    "    \n",
    "    # display the factorial\n",
    "    print('The factorial of ',number,'is',fact)\n",
    "    \n",
    "# this is a recursive function to calculate the factorial\n",
    "def factorial(num):\n",
    "    if num == 0:\n",
    "        return 1\n",
    "    else:\n",
    "        return num * factorial(num-1)\n",
    "    \n",
    "# call the main function\n",
    "main()"
   ]
  },
  {
   "cell_type": "markdown",
   "metadata": {},
   "source": [
    "<h3>Examples of recursive algorithms</h3>"
   ]
  },
  {
   "cell_type": "code",
   "execution_count": 3,
   "metadata": {
    "collapsed": true
   },
   "outputs": [],
   "source": [
    "# summing with recursion"
   ]
  },
  {
   "cell_type": "code",
   "execution_count": 4,
   "metadata": {
    "collapsed": false
   },
   "outputs": [
    {
     "name": "stdout",
     "output_type": "stream",
     "text": [
      "The sum of items 2 through 5 is 18\n"
     ]
    }
   ],
   "source": [
    "def main():\n",
    "    # create a list of numbers\n",
    "    numbers = [1,2,3,4,5,6,7,8,9]\n",
    "    \n",
    "    # get the sum of the items at indexes 2 through 5\n",
    "    my_sum = range_sum(numbers,2,5)\n",
    "    \n",
    "    # display the sum\n",
    "    print('The sum of items 2 through 5 is',my_sum)\n",
    "    \n",
    "# function to perform sum over a range\n",
    "def range_sum(num_list,start,end):\n",
    "    if start > end:\n",
    "        return 0\n",
    "    else:\n",
    "        return num_list[start] + range_sum(num_list,start+1,end)\n",
    "    \n",
    "# call the main function\n",
    "main()"
   ]
  },
  {
   "cell_type": "code",
   "execution_count": 5,
   "metadata": {
    "collapsed": false
   },
   "outputs": [],
   "source": [
    "# the Fibonacci series"
   ]
  },
  {
   "cell_type": "code",
   "execution_count": 6,
   "metadata": {
    "collapsed": false
   },
   "outputs": [
    {
     "name": "stdout",
     "output_type": "stream",
     "text": [
      "The first 10 numbers in the Fibonacci series are:\n",
      "1\n",
      "1\n",
      "2\n",
      "3\n",
      "5\n",
      "8\n",
      "13\n",
      "21\n",
      "34\n",
      "55\n"
     ]
    }
   ],
   "source": [
    "def main():\n",
    "    print('The first 10 numbers in the Fibonacci series are:')\n",
    "    \n",
    "    for number in range(1,11):\n",
    "        print(fib(number))\n",
    "        \n",
    "# the fib function returns the nth number \n",
    "# in the Fibonacci series\n",
    "def fib(n):\n",
    "    if n==0:\n",
    "        return 0\n",
    "    elif n==1:\n",
    "        return 1\n",
    "    else:\n",
    "        return fib(n-1) + fib(n-2)\n",
    "        \n",
    "# call the main function\n",
    "main()"
   ]
  },
  {
   "cell_type": "code",
   "execution_count": 7,
   "metadata": {
    "collapsed": true
   },
   "outputs": [],
   "source": [
    "# finding the greatest common divisor (GCD)\n",
    "# The GCD of two positive integers x and y is determined as follows:\n",
    "# if x can be evenly divided by y, then gcd(x,y) = y\n",
    "# Otherwise, gcd(x,y) = gcd(y,remainder of x/y)"
   ]
  },
  {
   "cell_type": "code",
   "execution_count": 8,
   "metadata": {
    "collapsed": false
   },
   "outputs": [
    {
     "name": "stdout",
     "output_type": "stream",
     "text": [
      "Enter an integer : 15\n",
      "Enter another integer : 60\n",
      "The greatest common divisor of the two numbers is 15\n"
     ]
    }
   ],
   "source": [
    "def main():\n",
    "    # get two numbers\n",
    "    num1 = int(input('Enter an integer : '))\n",
    "    num2 = int(input('Enter another integer : '))\n",
    "    \n",
    "    # display the GCD\n",
    "    print('The greatest common divisor of the two numbers is',gcd(num1,num2))\n",
    "    \n",
    "# the gcd function returns the \n",
    "# greatest common divisor of the two numbers.\n",
    "def gcd(x,y):\n",
    "    if x % y == 0:\n",
    "        return y\n",
    "    else:\n",
    "        return gcd(x,x % y)\n",
    "    \n",
    "# call the main function\n",
    "main()"
   ]
  },
  {
   "cell_type": "code",
   "execution_count": null,
   "metadata": {
    "collapsed": true
   },
   "outputs": [],
   "source": []
  },
  {
   "cell_type": "code",
   "execution_count": null,
   "metadata": {
    "collapsed": true
   },
   "outputs": [],
   "source": []
  }
 ],
 "metadata": {
  "kernelspec": {
   "display_name": "Python 3",
   "language": "python",
   "name": "python3"
  },
  "language_info": {
   "codemirror_mode": {
    "name": "ipython",
    "version": 3
   },
   "file_extension": ".py",
   "mimetype": "text/x-python",
   "name": "python",
   "nbconvert_exporter": "python",
   "pygments_lexer": "ipython3",
   "version": "3.5.2"
  }
 },
 "nbformat": 4,
 "nbformat_minor": 1
}
